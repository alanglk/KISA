{
  "nbformat": 4,
  "nbformat_minor": 0,
  "metadata": {
    "colab": {
      "provenance": []
    },
    "kernelspec": {
      "name": "python3",
      "display_name": "Python 3"
    },
    "language_info": {
      "name": "python"
    }
  },
  "cells": [
    {
      "cell_type": "markdown",
      "source": [
        "# First Assignment"
      ],
      "metadata": {
        "id": "ATouUBjvtolj"
      }
    },
    {
      "cell_type": "markdown",
      "source": [
        "This assignment was resolved using Google Colab Jupyter Notebooks. This is the [link](https://colab.research.google.com/drive/1ssHxA8Yz6f-yL5KkjdjjEUX7w2l0i_GA?usp=sharing) to the online resolution.\n",
        "Students:\n",
        "- Alan García Justel\n",
        "- Arántzazu López-Larraínzar Salazar"
      ],
      "metadata": {
        "id": "MMxcjraZtun6"
      }
    },
    {
      "cell_type": "code",
      "source": [
        "!pip install pulp pyomo"
      ],
      "metadata": {
        "id": "Rq3V6bJGuGNh",
        "colab": {
          "base_uri": "https://localhost:8080/"
        },
        "outputId": "8460d081-94a1-4fe0-bfb7-91a781bd4cb1"
      },
      "execution_count": 1,
      "outputs": [
        {
          "output_type": "stream",
          "name": "stdout",
          "text": [
            "Collecting pulp\n",
            "  Downloading PuLP-2.9.0-py3-none-any.whl.metadata (5.4 kB)\n",
            "Collecting pyomo\n",
            "  Downloading Pyomo-6.8.0-cp310-cp310-manylinux_2_17_x86_64.manylinux2014_x86_64.whl.metadata (8.0 kB)\n",
            "Collecting ply (from pyomo)\n",
            "  Downloading ply-3.11-py2.py3-none-any.whl.metadata (844 bytes)\n",
            "Downloading PuLP-2.9.0-py3-none-any.whl (17.7 MB)\n",
            "\u001b[2K   \u001b[90m━━━━━━━━━━━━━━━━━━━━━━━━━━━━━━━━━━━━━━━━\u001b[0m \u001b[32m17.7/17.7 MB\u001b[0m \u001b[31m23.8 MB/s\u001b[0m eta \u001b[36m0:00:00\u001b[0m\n",
            "\u001b[?25hDownloading Pyomo-6.8.0-cp310-cp310-manylinux_2_17_x86_64.manylinux2014_x86_64.whl (13.3 MB)\n",
            "\u001b[2K   \u001b[90m━━━━━━━━━━━━━━━━━━━━━━━━━━━━━━━━━━━━━━━━\u001b[0m \u001b[32m13.3/13.3 MB\u001b[0m \u001b[31m25.0 MB/s\u001b[0m eta \u001b[36m0:00:00\u001b[0m\n",
            "\u001b[?25hDownloading ply-3.11-py2.py3-none-any.whl (49 kB)\n",
            "\u001b[2K   \u001b[90m━━━━━━━━━━━━━━━━━━━━━━━━━━━━━━━━━━━━━━━━\u001b[0m \u001b[32m49.6/49.6 kB\u001b[0m \u001b[31m3.2 MB/s\u001b[0m eta \u001b[36m0:00:00\u001b[0m\n",
            "\u001b[?25hInstalling collected packages: ply, pyomo, pulp\n",
            "Successfully installed ply-3.11 pulp-2.9.0 pyomo-6.8.0\n"
          ]
        }
      ]
    },
    {
      "cell_type": "markdown",
      "source": [
        "## Part 1 - Exercise 58\n"
      ],
      "metadata": {
        "id": "Xl3F_Diat20u"
      }
    },
    {
      "cell_type": "markdown",
      "source": [
        "The exercise deals with the choice among different aircraft types to be used for the transport of tons of cargo to two different cities, A and B, to optimise and minimise the cost of these journeys.\n",
        "\n",
        "The information given about the aircrafts is the following:\n",
        "- There are 8 aircrafts of type 1 and each one of them can carry 45 tons of cargo.\n",
        "- 15 aircrafts of type 2, that can carry 7 tons.\n",
        "- 11 aircrafts of type 3, that can carry 5 tons.\n",
        "\n",
        "Each plane can only make at most one flight per day, and 20 tons of cargo must to be flown to city A and 28 tons to city B.\n",
        "\n",
        "Additionally, the cost of flying a plane from the terminal to each city is specified in the next table.\n",
        "\n",
        "<table style=\"width:100%; border-collapse: collapse;\">\n",
        "    <!-- Primera fila: Título general de la tabla -->\n",
        "    <tr>\n",
        "        <th colspan=\"6\" style=\"text-align: center; padding: 8px; border-bottom: 2px solid black;\">\n",
        "            Cost of flying the planes to each city\n",
        "        </th>\n",
        "    </tr>\n",
        "    <!-- Fila de encabezados -->\n",
        "    <tr>\n",
        "        <th style=\"text-align: left; padding: 8px;\">City\\Aircraft</th>\n",
        "        <th style=\"text-align: center; padding: 8px;\">Type 1</th>\n",
        "        <th style=\"text-align: center; padding: 8px;\">Type 2</th>\n",
        "        <th style=\"text-align: center; padding: 8px;\">Type 3</th>\n",
        "    </tr>\n",
        "    <!-- Filas de datos -->\n",
        "    <tr>\n",
        "        <td style=\"text-align: left; padding: 8px;\">City A</td>\n",
        "        <td style=\"text-align: center; padding: 8px;\">23</td>\n",
        "        <td style=\"text-align: center; padding: 8px;\">15</td>\n",
        "        <td style=\"text-align: center; padding: 8px;\">1.4</td>\n",
        "    </tr>\n",
        "    <tr>\n",
        "        <td style=\"text-align: left; padding: 8px;\">City B</td>\n",
        "        <td style=\"text-align: center; padding: 8px;\">58</td>\n",
        "        <td style=\"text-align: center; padding: 8px;\">20</td>\n",
        "        <td style=\"text-align: center; padding: 8px;\">3.8</td>\n",
        "    </tr>\n",
        "</table>"
      ],
      "metadata": {
        "id": "KGsRowN0uDyV"
      }
    },
    {
      "cell_type": "markdown",
      "source": [
        "Now, we can define the optimization variables and the objective function:\n",
        "\n",
        "$x_i$: *'Number of aircrafts of type i that are going to fly to city A'*\n",
        "\n",
        "$y_i$: *'Number of aircrafts of type i that are going to fly to city B'*\n",
        "\n",
        "$\\min z = \\sum{cost\\_of\\_flying * X_i} + \\sum{cost\\_of\\_flying * Y_i} $\n",
        "\n",
        "We have considered the restrictions on the number of aircrafts and the amount of tons each city needs to build the constraints.\n",
        "\n",
        "Finally, the formulation obtained is as follows:"
      ],
      "metadata": {
        "id": "3mDlWQ6uV_yP"
      }
    },
    {
      "cell_type": "markdown",
      "source": [
        "\\begin{eqnarray*}\n",
        "\\min \\ z=23x_1+15x_2+1.4x_3+58y_1+20y_2+3.8y_3 \\\\\n",
        "\\mbox{subject to}\\hspace{1.8cm}\\\\\n",
        "x_1+y_1 \\leq 8  \\\\\n",
        "x_2+y_2 \\leq 15 \\\\\n",
        "x_3+y_3 \\leq 11 \\\\\n",
        "45x_1+7x_2+5x_3 \\geq 20  \\\\\n",
        "45y_1+7y_2+5y_3 \\geq 28  \\\\\n",
        "x_{i},y_{i} \\geq 0; x_i, y_i \\in \t\\mathbb{N} \\quad \\forall i \\in \\{1, 2, 3\\}\\\\\n",
        "\\end{eqnarray*}"
      ],
      "metadata": {
        "id": "FR5slj8BuTOZ"
      }
    },
    {
      "cell_type": "markdown",
      "source": [
        "Note that the restrictions $45x_1+7x_2+5x_3 \\geq 20$ and $45y_1+7y_2+5y_3 \\geq 28$ do not comply exactly with what is specified in the exercise. The exercise says that city A must receive 20 tonnes of cargo and city B, 28 tonnes. However, turning these constraints into equal restrictions would not have taken into account the possibility of using an aircraft that was not full. For example, if a type 1 aircraft is used to deliver cargo to city A, it would carry the 20 tonnes needed instead of the 45 tonnes."
      ],
      "metadata": {
        "id": "JP2v_lEqZFOs"
      }
    },
    {
      "cell_type": "code",
      "execution_count": 2,
      "metadata": {
        "id": "eJGgl_PttaXz",
        "colab": {
          "base_uri": "https://localhost:8080/"
        },
        "outputId": "ad7dfc40-48fc-491b-b828-e22ec503cca1"
      },
      "outputs": [
        {
          "output_type": "stream",
          "name": "stderr",
          "text": [
            "/usr/local/lib/python3.10/dist-packages/pulp/pulp.py:1298: UserWarning: Spaces are not permitted in the name. Converted to '_'\n",
            "  warnings.warn(\"Spaces are not permitted in the name. Converted to '_'\")\n"
          ]
        },
        {
          "output_type": "execute_result",
          "data": {
            "text/plain": [
              "Exercise_47:\n",
              "MINIMIZE\n",
              "23*X1 + 15*X2 + 1.4*X3 + 58*Y1 + 20*Y2 + 3.8*Y3 + 0.0\n",
              "SUBJECT TO\n",
              "_C1: X1 + Y1 <= 8\n",
              "\n",
              "_C2: X2 + Y2 <= 15\n",
              "\n",
              "_C3: X3 + Y3 <= 11\n",
              "\n",
              "_C4: 45 X1 + 7 X2 + 5 X3 >= 20\n",
              "\n",
              "_C5: 45 Y1 + 7 Y2 + 5 Y3 >= 28\n",
              "\n",
              "VARIABLES\n",
              "0 <= X1 Integer\n",
              "0 <= X2 Integer\n",
              "0 <= X3 Integer\n",
              "0 <= Y1 Integer\n",
              "0 <= Y2 Integer\n",
              "0 <= Y3 Integer"
            ]
          },
          "metadata": {},
          "execution_count": 2
        }
      ],
      "source": [
        "import pulp\n",
        "model_problem_47 = pulp.LpProblem(\"Exercise 47\", pulp.LpMinimize)\n",
        "\n",
        "# Variables x1,x2, x3 are the number of planes that are sent to the city A. They are integer and positive or zero.\n",
        "X1 = pulp.LpVariable('X1', lowBound=0, cat='Integer')\n",
        "X2 = pulp.LpVariable('X2', lowBound=0, cat='Integer')\n",
        "X3 = pulp.LpVariable('X3', lowBound=0, cat='Integer')\n",
        "\n",
        "# Variables y1,y2, y3 are the number of planes that are sent to the city B. They are integer and positive or zero.\n",
        "Y1 = pulp.LpVariable('Y1', lowBound=0, cat='Integer')\n",
        "Y2 = pulp.LpVariable('Y2', lowBound=0, cat='Integer')\n",
        "Y3 = pulp.LpVariable('Y3', lowBound=0, cat='Integer')\n",
        "\n",
        "# Objective function\n",
        "model_problem_47 += 23*X1 + 15*X2 + 1.4*X3 + 58*Y1 + 20*Y2 + 3.8*Y3, \"z\"\n",
        "\n",
        "# Constraints\n",
        "# (restrictions in the number of planes)\n",
        "model_problem_47 += X1 + Y1 <= 8\n",
        "model_problem_47 += X2 + Y2 <= 15\n",
        "model_problem_47 += X3 + Y3 <= 11\n",
        "\n",
        "# (restrictions in the number of tons carried out to each city)\n",
        "model_problem_47 += 45*X1 + 7*X2 + 5*X3 >= 20\n",
        "model_problem_47 += 45*Y1 + 7*Y2 + 5*Y3 >= 28\n",
        "\n",
        "# Visualization of the model\n",
        "model_problem_47"
      ]
    },
    {
      "cell_type": "code",
      "source": [
        "# Solving the optimization model\n",
        "model_problem_47.solve()\n",
        "\n",
        "# Status of the solver\n",
        "print(\"The status of the solution found is: \", pulp.LpStatus[model_problem_47.status])\n",
        "\n",
        "# Optimal values for each variable\n",
        "print(\"The optimal values for the variables are: \")\n",
        "for variable in model_problem_47.variables():\n",
        "    print (\"{} = {}\".format(variable.name, variable.varValue))\n",
        "\n",
        "# Best solution\n",
        "print(\"Optimal value: \",pulp.value(model_problem_47.objective))"
      ],
      "metadata": {
        "colab": {
          "base_uri": "https://localhost:8080/"
        },
        "id": "CsG4-rbRVVLk",
        "outputId": "ff23ab08-7a19-48d4-9d00-0dab30c2d427"
      },
      "execution_count": null,
      "outputs": [
        {
          "output_type": "stream",
          "name": "stdout",
          "text": [
            "The status of the solution found is:  Optimal\n",
            "The optimal values for the variables are: \n",
            "X1 = 0.0\n",
            "X2 = 0.0\n",
            "X3 = 4.0\n",
            "Y1 = 0.0\n",
            "Y2 = 0.0\n",
            "Y3 = 6.0\n",
            "Optimal value:  28.4\n"
          ]
        }
      ]
    },
    {
      "cell_type": "markdown",
      "source": [
        "After solving the model, we have obtained the following results:\n",
        "* **4 aircraft of type 3** to bring the tonnes to **city A**\n",
        "* **6  aircraft of type 3** to **city B** (one of the planes will not be full, it will only be loaded with 3 tons, instead of 5)\n",
        "\n",
        "So the optimal result of this model, minimising the cost of the journeys, is **28.4**."
      ],
      "metadata": {
        "id": "xCQ9gPz7u00i"
      }
    },
    {
      "cell_type": "markdown",
      "source": [
        "## Part 2 - Exercise 2.7"
      ],
      "metadata": {
        "id": "MAd7Qz2ot6Tn"
      }
    },
    {
      "cell_type": "markdown",
      "source": [
        "In this exercise, we address an optimization problem aimed at maximizing the monthly production of two types of parts, Type A and Type B. To produce each part, five processes—L, S, D, M, and G—must be completed, each with defined production times for each part type as is shown in the next table:"
      ],
      "metadata": {
        "id": "GSjQOM0lzbZi"
      }
    },
    {
      "cell_type": "markdown",
      "source": [
        "\n",
        "\n",
        "<table style=\"width:100%; border-collapse: collapse;\">\n",
        "    <!-- Primera fila: Título general de la tabla -->\n",
        "    <tr>\n",
        "        <th colspan=\"6\" style=\"text-align: center; padding: 8px; border-bottom: 2px solid black;\">\n",
        "            Time per Process (in hours)\n",
        "        </th>\n",
        "    </tr>\n",
        "    <!-- Fila de encabezados -->\n",
        "    <tr>\n",
        "        <th style=\"text-align: left; padding: 8px;\">Part</th>\n",
        "        <th style=\"text-align: center; padding: 8px;\">L</th>\n",
        "        <th style=\"text-align: center; padding: 8px;\">S</th>\n",
        "        <th style=\"text-align: center; padding: 8px;\">D</th>\n",
        "        <th style=\"text-align: center; padding: 8px;\">M</th>\n",
        "        <th style=\"text-align: center; padding: 8px;\">G</th>\n",
        "    </tr>\n",
        "    <!-- Filas de datos -->\n",
        "    <tr>\n",
        "        <td style=\"text-align: left; padding: 8px;\">A</td>\n",
        "        <td style=\"text-align: center; padding: 8px;\">0.6</td>\n",
        "        <td style=\"text-align: center; padding: 8px;\">0.4</td>\n",
        "        <td style=\"text-align: center; padding: 8px;\">0.1</td>\n",
        "        <td style=\"text-align: center; padding: 8px;\">0.5</td>\n",
        "        <td style=\"text-align: center; padding: 8px;\">0.2</td>\n",
        "    </tr>\n",
        "    <tr>\n",
        "        <td style=\"text-align: left; padding: 8px;\">B</td>\n",
        "        <td style=\"text-align: center; padding: 8px;\">0.9</td>\n",
        "        <td style=\"text-align: center; padding: 8px;\">0.1</td>\n",
        "        <td style=\"text-align: center; padding: 8px;\">0.2</td>\n",
        "        <td style=\"text-align: center; padding: 8px;\">0.3</td>\n",
        "        <td style=\"text-align: center; padding: 8px;\">0.3</td>\n",
        "    </tr>\n",
        "    <tr>\n",
        "        <td style=\"text-align: left; padding: 8px;\">Availability</td>\n",
        "        <td style=\"text-align: center; padding: 8px;\">10</td>\n",
        "        <td style=\"text-align: center; padding: 8px;\">3</td>\n",
        "        <td style=\"text-align: center; padding: 8px;\">4</td>\n",
        "        <td style=\"text-align: center; padding: 8px;\">6</td>\n",
        "        <td style=\"text-align: center; padding: 8px;\">5</td>\n",
        "    </tr>\n",
        "</table>"
      ],
      "metadata": {
        "id": "c9RTvgOmzGf3"
      }
    },
    {
      "cell_type": "markdown",
      "source": [
        "Additionally, each process has a specific availability, as there are different numbers of machines capable of performing each process in parallel. Knowing the processing times and availability listed in the previous table, along with the fact that the daily available hours are 8 hours for 30 days a month, we can define the optimization variables and the objective function as follows:"
      ],
      "metadata": {
        "id": "KHbaMZKBzlUB"
      }
    },
    {
      "cell_type": "markdown",
      "source": [
        "$x_A$: *'Number of type A parts to be produced in a month'*\n",
        "\n",
        "$x_B$: *'Number of type B parts to be produced in a month'*\n",
        "\n",
        "$\\max z =x_A + x_B $"
      ],
      "metadata": {
        "id": "ttDzZfYFzqkp"
      }
    },
    {
      "cell_type": "markdown",
      "source": [
        "To build the constrains of the optimization problem we consider the total hours available during the month multiplied by the number of available machines for each process.\n",
        "\n",
        "Total hours available: $8 \\frac{hours}{day}\\times 30 \\frac{days}{month} = 240 \\frac{hours}{month}$\n",
        "\n",
        "Total hours available for each process:\n",
        "\n",
        "*L*: $\\quad 10 \\times 240 = 2400 \\text{ } hours/month$ \\\\\n",
        "*S*: $\\quad 3 \\times 240 = 720 \\text{ } hours/month$ \\\\\n",
        "*D*: $\\quad 4 \\times 240 = 960 \\text{ } hours/month$ \\\\\n",
        "*M*: $\\quad 6 \\times 240 = 1440 \\text{ } hours/month$ \\\\\n",
        "*G*: $\\quad 5 \\times 240 = 1200 \\text{ } hours/month$ \\\\"
      ],
      "metadata": {
        "id": "_mnNg0izz9wD"
      }
    },
    {
      "cell_type": "markdown",
      "source": [
        "With all of this, the problem will be define as follows:"
      ],
      "metadata": {
        "id": "DLrDle_z20so"
      }
    },
    {
      "cell_type": "markdown",
      "source": [
        "\\begin{align*}\n",
        "\\max \\ z &=x_A + x_B \\\\\n",
        "\\mbox{subject to}\\hspace{1.8cm}\\\\\n",
        "0.6 \\times x_A &+ 0.9 \\times x_B \\leq 2400 \\\\\n",
        "0.4 \\times x_A &+ 0.1 \\times x_B \\leq 720 \\\\\n",
        "0.1 \\times x_A &+ 0.2 \\times x_B \\leq 960 \\\\\n",
        "0.5 \\times x_A &+ 0.3 \\times x_B \\leq 1440 \\\\\n",
        "0.2 \\times x_A &+ 0.3 \\times x_B \\leq 1200 \\\\\n",
        "&x_A,x_B \\geq 0; x_A, x_B \\in \t\\mathbb{N}\\\\\n",
        "\\end{align*}"
      ],
      "metadata": {
        "id": "4q6z5f2AzYo4"
      }
    },
    {
      "cell_type": "code",
      "source": [
        "# Graphical representation of the problem\n",
        "import numpy as np\n",
        "import matplotlib.pyplot as plt\n",
        "\n",
        "x1 = np.linspace(0, 2000, 100)\n",
        "\n",
        "# Constraints\n",
        "x2_1 = - (0.6*x1 -2400) / 0.9\n",
        "x2_2 = - (0.4*x1 -720) / 0.1\n",
        "x2_3 = - (0.1*x1 -960) / 0.2\n",
        "x2_4 = - (0.5*x1 -1440) / 0.3\n",
        "x2_5 = - (0.2*x1 -1200) / 0.3\n",
        "\n",
        "# Show the constraints\n",
        "plt.plot(x1, x2_1, label=r'$0.6*x_A + 0.9*x_B \\leq 2400$')\n",
        "plt.plot(x1, x2_2, label=r'$0.4*x_A + 0.1*x_B \\leq 720$')\n",
        "plt.plot(x1, x2_3, label=r'$0.1*x_A + 0.2*x_B \\leq 960$')\n",
        "plt.plot(x1, x2_4, label=r'$0.5*x_A + 0.3*x_B \\leq 1440$')\n",
        "plt.plot(x1, x2_5, label=r'$0.2*x_A + 0.3*x_B \\leq 1200$')\n",
        "\n",
        "plt.xlim((0, 2000))\n",
        "plt.ylim((0, 6000))\n",
        "plt.xlabel(r'$x1$')\n",
        "plt.ylabel(r'$x2$')\n",
        "\n",
        "x2_6 = np.minimum(x2_1, x2_2)\n",
        "plt.fill_between(x1, x2_6, color='grey', alpha=0.5)\n",
        "\n",
        "plt.legend(bbox_to_anchor=(1.05, 1), loc=2, borderaxespad=0.)\n",
        "plt.show()\n"
      ],
      "metadata": {
        "colab": {
          "base_uri": "https://localhost:8080/",
          "height": 455
        },
        "id": "XxxFGKJy5ifX",
        "outputId": "53091003-25ee-4a97-a47e-9d31f00a188a"
      },
      "execution_count": null,
      "outputs": [
        {
          "output_type": "display_data",
          "data": {
            "text/plain": [
              "<Figure size 640x480 with 1 Axes>"
            ],
            "image/png": "[encoded data removed]"
          },
          "metadata": {}
        }
      ]
    },
    {
      "cell_type": "code",
      "source": [
        "# Resolution using Pyomo\n",
        "from pyomo.environ import AbstractModel, NonNegativeIntegers, Set, Var, Objective, Constraint, maximize\n",
        "from pyomo.opt import SolverFactory, SolverManagerFactory\n",
        "import os\n",
        "\n",
        "# Define the problem\n",
        "model = AbstractModel()\n",
        "model.I = Set(initialize = [1, 2])\n",
        "model.x = Var(model.I, within= NonNegativeIntegers)\n",
        "\n",
        "# Define the objective function\n",
        "def objective_function(model):\n",
        "    return model.x[1] + model.x[2]\n",
        "model.cost = Objective(rule = objective_function, sense = maximize)\n",
        "\n",
        "# Define constraints\n",
        "def constraint_1(model):\n",
        "    return 0.6*model.x[1] + 0.9*model.x[2] <= 2400\n",
        "model.c1 = Constraint(rule = constraint_1)\n",
        "\n",
        "def constraint_2(model):\n",
        "    return 0.4*model.x[1] + 0.1*model.x[2] <= 720\n",
        "model.c2 = Constraint(rule = constraint_2)\n",
        "\n",
        "def constraint_3(model):\n",
        "    return 0.1*model.x[1] + 0.2*model.x[2] <= 960\n",
        "model.c3 = Constraint(rule = constraint_3)\n",
        "\n",
        "def constraint_4(model):\n",
        "    return 0.5*model.x[1] + 0.3*model.x[2] <= 1440\n",
        "model.c4 = Constraint(rule = constraint_4)\n",
        "\n",
        "def constraint_5(model):\n",
        "    return 0.2*model.x[1] + 0.3*model.x[2] <= 1200\n",
        "model.c5 = Constraint(rule = constraint_5)\n",
        "\n",
        "# Solve the problem with remote solver\n",
        "instance = model.create_instance()\n",
        "\n",
        "opt = SolverFactory(\"ipopt\")\n",
        "solver_manager = SolverManagerFactory('neos')\n",
        "os.environ['NEOS_EMAIL'] = 'agarcia901@ikasle.ehu.eus'\n",
        "\n",
        "results = solver_manager.solve(instance, opt = opt, load_solutions = False)\n",
        "results.write()"
      ],
      "metadata": {
        "colab": {
          "base_uri": "https://localhost:8080/"
        },
        "id": "ppGClK1FzaZx",
        "outputId": "1b0539b5-84ee-49b5-df04-dcd0537172f7"
      },
      "execution_count": null,
      "outputs": [
        {
          "output_type": "stream",
          "name": "stdout",
          "text": [
            "# ==========================================================\n",
            "# = Solver Results                                         =\n",
            "# ==========================================================\n",
            "# ----------------------------------------------------------\n",
            "#   Problem Information\n",
            "# ----------------------------------------------------------\n",
            "Problem: \n",
            "- Lower bound: -inf\n",
            "  Upper bound: inf\n",
            "  Number of objectives: 1\n",
            "  Number of constraints: 5\n",
            "  Number of variables: 2\n",
            "  Sense: unknown\n",
            "# ----------------------------------------------------------\n",
            "#   Solver Information\n",
            "# ----------------------------------------------------------\n",
            "Solver: \n",
            "- Status: ok\n",
            "  Message: Ipopt 3.14.12\\x3a Optimal Solution Found\n",
            "  Termination condition: optimal\n",
            "  Id: 0\n",
            "# ----------------------------------------------------------\n",
            "#   Solution Information\n",
            "# ----------------------------------------------------------\n",
            "Solution: \n",
            "- number of solutions: 1\n",
            "  number of solutions displayed: 1\n",
            "- Status: optimal\n",
            "  Message: Ipopt 3.14.12\\x3a Optimal Solution Found\n",
            "  Objective: No values\n",
            "  Variable:\n",
            "    v0:\n",
            "      Value: 1360.0000135933176\n",
            "    v1:\n",
            "      Value: 1760.0000176016706\n",
            "  Constraint: No values\n",
            "  Status description: OPTIMAL SOLUTION FOUND!\n"
          ]
        }
      ]
    },
    {
      "cell_type": "markdown",
      "source": [
        "With the resolution of the problem, we obtain that the optimal production number is 1360 units of Type A and 1760 units of Type B, with a total of 3120 units produced in one month."
      ],
      "metadata": {
        "id": "e-ssQlRwCJwK"
      }
    },
    {
      "cell_type": "markdown",
      "source": [
        "Another variation of the problem introduces a new constraint in which the number of Type A pieces produced must be equal to the production of Type B pieces. Thus, the problem would be expressed in the same way, adding the constraint\n",
        "$$x_A - x_B = 0$$"
      ],
      "metadata": {
        "id": "arckpVKLqCQq"
      }
    },
    {
      "cell_type": "code",
      "source": [
        "# Resolucion with the new constraint\n",
        "model2 = AbstractModel()\n",
        "model2.I = Set(initialize = [1, 2])\n",
        "model2.x = Var(model2.I, within= NonNegativeIntegers)\n",
        "model2.cost = Objective(rule = objective_function, sense = maximize)\n",
        "\n",
        "# Previous constraints\n",
        "model2.c1 = Constraint(rule = constraint_1)\n",
        "model2.c2 = Constraint(rule = constraint_2)\n",
        "model2.c3 = Constraint(rule = constraint_3)\n",
        "model2.c4 = Constraint(rule = constraint_4)\n",
        "model2.c5 = Constraint(rule = constraint_5)\n",
        "\n",
        "# New constraint\n",
        "def constraint_6(model):\n",
        "    return model.x[1] - model.x[2] == 0\n",
        "model2.c5 = Constraint(rule = constraint_6)\n",
        "\n",
        "# Solve the problem with remote solver\n",
        "instance = model2.create_instance()\n",
        "opt = SolverFactory(\"ipopt\")\n",
        "solver_manager = SolverManagerFactory('neos')\n",
        "os.environ['NEOS_EMAIL'] = 'agarcia901@ikasle.ehu.eus'\n",
        "\n",
        "results = solver_manager.solve(instance, opt = opt, load_solutions = False)\n",
        "results.write()"
      ],
      "metadata": {
        "colab": {
          "base_uri": "https://localhost:8080/"
        },
        "id": "BO1lquccqOAy",
        "outputId": "266314a2-ca50-47a2-b511-f6e3e15b0577"
      },
      "execution_count": null,
      "outputs": [
        {
          "output_type": "stream",
          "name": "stderr",
          "text": [
            "WARNING:pyomo.core:Implicitly replacing the Component attribute c5 (type=<class 'pyomo.core.base.constraint.AbstractScalarConstraint'>) on block unknown with a new Component (type=<class 'pyomo.core.base.constraint.AbstractScalarConstraint'>).\n",
            "This is usually indicative of a modelling error.\n",
            "To avoid this warning, use block.del_component() and block.add_component().\n"
          ]
        },
        {
          "output_type": "stream",
          "name": "stdout",
          "text": [
            "# ==========================================================\n",
            "# = Solver Results                                         =\n",
            "# ==========================================================\n",
            "# ----------------------------------------------------------\n",
            "#   Problem Information\n",
            "# ----------------------------------------------------------\n",
            "Problem: \n",
            "- Lower bound: -inf\n",
            "  Upper bound: inf\n",
            "  Number of objectives: 1\n",
            "  Number of constraints: 5\n",
            "  Number of variables: 2\n",
            "  Sense: unknown\n",
            "# ----------------------------------------------------------\n",
            "#   Solver Information\n",
            "# ----------------------------------------------------------\n",
            "Solver: \n",
            "- Status: ok\n",
            "  Message: Ipopt 3.14.12\\x3a Optimal Solution Found\n",
            "  Termination condition: optimal\n",
            "  Id: 0\n",
            "# ----------------------------------------------------------\n",
            "#   Solution Information\n",
            "# ----------------------------------------------------------\n",
            "Solution: \n",
            "- number of solutions: 1\n",
            "  number of solutions displayed: 1\n",
            "- Status: optimal\n",
            "  Message: Ipopt 3.14.12\\x3a Optimal Solution Found\n",
            "  Objective: No values\n",
            "  Variable:\n",
            "    v0:\n",
            "      Value: 1440.0000143987468\n",
            "    v1:\n",
            "      Value: 1440.0000143987468\n",
            "  Constraint: No values\n",
            "  Status description: OPTIMAL SOLUTION FOUND!\n"
          ]
        }
      ]
    },
    {
      "cell_type": "markdown",
      "source": [
        "In this new approach, the optimized result is to produce 1440 units of type A and B parts with a total production of 2880 units."
      ],
      "metadata": {
        "id": "lYAAOJlCsU5B"
      }
    }
  ]
}