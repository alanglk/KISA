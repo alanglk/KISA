{
 "cells": [
  {
   "cell_type": "markdown",
   "metadata": {},
   "source": [
    "# Statistical Tests\n",
    "**Aprendizaje Automático Avanzado (AAA)**\n",
    "\n",
    "_Alan García Justel_"
   ]
  },
  {
   "cell_type": "markdown",
   "metadata": {},
   "source": [
    "A la hora de realizar la comparación estadística entre varios modelos hay que diseñar un experimento teniendo en cuenta la naturaleza de la muestra de datos:\n",
    "- **Datos pareados:** test de normalidad sobre las diferencias y luego calcular p-value a través de algún método paramétrico (como t-test por ejemplo). Si no se supera el test de normalidad hay que optar por algún método no paramétrico.\n",
    "\n",
    "- **Datos no pareados:** dos test de normalidad (una para cada modelo) y si no se supera alguno de los dos se opta por los métodos no paramétricos \n",
    "\n",
    "La idea detrás de realizar tests de normalidad o _Normality Tests_ es la de comprobar cuánto se aproximan los datos a una distribución normal. En el caso de datos pareados, realizamos el [`normality test`](https://docs.scipy.org/doc/scipy/reference/generated/scipy.stats.normaltest.html) o [`Shapiro-Wilk test`](https://docs.scipy.org/doc/scipy/reference/generated/scipy.stats.shapiro.html#scipy.stats.shapiro) sobre las diferencias de los resultados de cada modelo.\n"
   ]
  },
  {
   "cell_type": "markdown",
   "metadata": {},
   "source": [
    "## Setup"
   ]
  },
  {
   "cell_type": "code",
   "execution_count": 1,
   "metadata": {},
   "outputs": [],
   "source": [
    "import numpy as np\n",
    "\n",
    "import matplotlib.pyplot as plt\n",
    "\n",
    "from scipy.stats import normaltest, shapiro, wilcoxon\n",
    "from sklearn.datasets import load_iris\n",
    "from sklearn.model_selection import train_test_split\n",
    "from sklearn.metrics import accuracy_score\n",
    "\n",
    "from sklearn.naive_bayes import GaussianNB\n",
    "from sklearn.svm import SVC"
   ]
  },
  {
   "cell_type": "code",
   "execution_count": 2,
   "metadata": {},
   "outputs": [],
   "source": [
    "# For reproducibility\n",
    "np.random.seed(42)"
   ]
  },
  {
   "cell_type": "markdown",
   "metadata": {},
   "source": [
    "## Dataset"
   ]
  },
  {
   "cell_type": "code",
   "execution_count": 3,
   "metadata": {},
   "outputs": [],
   "source": [
    "# Use Iris dataset for this test\n",
    "X, y = load_iris(return_X_y=True)"
   ]
  },
  {
   "cell_type": "markdown",
   "metadata": {},
   "source": [
    "## Tests con datos pareados"
   ]
  },
  {
   "cell_type": "code",
   "execution_count": 13,
   "metadata": {},
   "outputs": [],
   "source": [
    "# Generate Paired Data\n",
    "def generate_paired_accuracy(n:int):\n",
    "    accuracy_1  = []\n",
    "    accuracy_2  = []\n",
    "\n",
    "    for i in range(n):\n",
    "        X_train, X_test, y_train, y_test = train_test_split(X, y, test_size=0.5)\n",
    "        \n",
    "        model_1 = GaussianNB()\n",
    "        y_pred = model_1.fit(X_train, y_train).predict(X_test)\n",
    "        acc = accuracy_score(y_pred,y_test)\n",
    "        accuracy_1.append(acc)\n",
    "\n",
    "        svm = SVC(kernel='rbf', random_state=0, gamma=.10, C=1.0)\n",
    "        y_pred = svm.fit(X_train, y_train).predict(X_test)\n",
    "        acc = accuracy_score(y_pred,y_test)\n",
    "        accuracy_2.append(acc)\n",
    "\n",
    "    return np.array(accuracy_1), np.array(accuracy_2)\n",
    "\n",
    "accuracy_1, accuracy_2 = generate_paired_accuracy(1000)\n",
    "assert accuracy_1.shape == accuracy_2.shape\n",
    "\n",
    "# Compute the differences for paired data\n",
    "difference = accuracy_1 - accuracy_2"
   ]
  },
  {
   "cell_type": "markdown",
   "metadata": {},
   "source": [
    "### Normality Test"
   ]
  },
  {
   "cell_type": "code",
   "execution_count": 12,
   "metadata": {},
   "outputs": [
    {
     "data": {
      "image/png": "[encoded data removed]",
      "text/plain": [
       "<Figure size 640x480 with 1 Axes>"
      ]
     },
     "metadata": {},
     "output_type": "display_data"
    }
   ],
   "source": [
    "# Se aproxima a una normal??\n",
    "plt.hist(difference)\n",
    "plt.show()"
   ]
  },
  {
   "cell_type": "code",
   "execution_count": 7,
   "metadata": {},
   "outputs": [
    {
     "name": "stdout",
     "output_type": "stream",
     "text": [
      "NormaltestResult(statistic=10.051972977694067, pvalue=0.006565106894697202)\n",
      "ShapiroResult(statistic=0.9659940817278216, pvalue=1.5787914874276314e-14)\n"
     ]
    }
   ],
   "source": [
    "# Hacemos el normality test\n",
    "normality_value = normaltest(difference)\n",
    "shapiro_value = shapiro(difference)\n",
    "print(normality_value)\n",
    "print(shapiro_value)"
   ]
  },
  {
   "cell_type": "markdown",
   "metadata": {},
   "source": [
    "Los normality test para la hipótesis nula _\"the data was drawn from a normal distribution\"_ dan unos p-values super bajos. Esto implica un riesgo estadístico alto para decir que sí que provienen de una distribución normal. Por ello, recurrimos a tests no paramétricos para muestras pareadas:\n",
    " - Non-parametric and paired: _mannwhitneyu_\n",
    " - **Non-parametric but paired: _wilcoxon_**\n"
   ]
  },
  {
   "cell_type": "markdown",
   "metadata": {},
   "source": [
    "Además, si graficamos las distribuciones del accuracy para los modelos 1 y 2 obtenemos la siguiente representación en la que se distingue cómo ninguno de los dos se aproxima realmente a una distribución normal."
   ]
  },
  {
   "cell_type": "code",
   "execution_count": 8,
   "metadata": {},
   "outputs": [
    {
     "data": {
      "image/png": "[encoded data removed]",
      "text/plain": [
       "<Figure size 640x480 with 1 Axes>"
      ]
     },
     "metadata": {},
     "output_type": "display_data"
    }
   ],
   "source": [
    "plt.hist(accuracy_1, bins=10, alpha = 0.7, color= \"blue\")\n",
    "plt.hist(accuracy_2, bins=10, alpha = 0.7, color= \"orange\")\n",
    "plt.show()"
   ]
  },
  {
   "cell_type": "markdown",
   "metadata": {},
   "source": [
    "### Wilcoxon Test"
   ]
  },
  {
   "cell_type": "code",
   "execution_count": 11,
   "metadata": {},
   "outputs": [
    {
     "name": "stdout",
     "output_type": "stream",
     "text": [
      "WilcoxonResult(statistic=107001.5, pvalue=5.869719059556718e-11)\n"
     ]
    }
   ],
   "source": [
    "# null hypothesis that two related paired samples come from the same distribution\n",
    "wilcoxon_value = wilcoxon(accuracy_1, accuracy_2) \n",
    "print(wilcoxon_value)"
   ]
  },
  {
   "cell_type": "markdown",
   "metadata": {},
   "source": [
    "Wilcoxon p-value es muy pequeño por lo que es estadísticamente significativo el decir que las dos distribuciones de los modelos no se parecen (modelos distintos)."
   ]
  }
 ],
 "metadata": {
  "kernelspec": {
   "display_name": ".venv",
   "language": "python",
   "name": "python3"
  },
  "language_info": {
   "codemirror_mode": {
    "name": "ipython",
    "version": 3
   },
   "file_extension": ".py",
   "mimetype": "text/x-python",
   "name": "python",
   "nbconvert_exporter": "python",
   "pygments_lexer": "ipython3",
   "version": "3.12.6"
  }
 },
 "nbformat": 4,
 "nbformat_minor": 2
}
