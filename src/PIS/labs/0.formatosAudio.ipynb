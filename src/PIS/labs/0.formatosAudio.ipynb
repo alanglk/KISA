{
 "cells": [
  {
   "cell_type": "markdown",
   "id": "seasonal-maryland",
   "metadata": {},
   "source": [
    "# **Formatos de audio y librerías para el tratamiento de la señal de audio en Python**\n",
    "## Procesamiento de Imagen y Señal"
   ]
  },
  {
   "cell_type": "code",
   "execution_count": null,
   "id": "de3f98db",
   "metadata": {},
   "outputs": [],
   "source": [
    "import sys\n",
    "import os\n",
    "\n",
    "#sys.path.append('..')\n",
    "\n",
    "##\n",
    "\n",
    "import warnings\n",
    "warnings.filterwarnings('ignore')\n",
    "\n",
    "##\n",
    "\n",
    "import IPython.display as ipd\n",
    "\n",
    "import matplotlib.pyplot as plt\n",
    "import matplotlib.image as im\n",
    "import numpy as np\n",
    "\n",
    "#### Important tips\n",
    "# To hear the signal\n",
    "# ipd.Audio(x, rate=fs)\n",
    "####\n",
    "\n",
    "# Funciones auxiliares\n",
    "path = \"code/\"\n",
    "\n",
    "# Add the directory containing your module to the Python path (wants absolute paths)\n",
    "sys.path.append(os.path.abspath(path))\n",
    "\n",
    "from f_plot import *"
   ]
  },
  {
   "cell_type": "markdown",
   "id": "82d04160",
   "metadata": {},
   "source": [
    "# **Librerías para el tratamiento de la señal de audio en Python**"
   ]
  },
  {
   "cell_type": "markdown",
   "id": "078fa818",
   "metadata": {},
   "source": [
    "## **LibROSA**\n",
    "\n",
    "Una opción para leer audio es utilizar la función de la librería LibROSA: [**`librosa.load()`**](https://librosa.org/doc/latest/generated/librosa.load.html). \n",
    "\n",
    "* Por defecto, `librosa.load()` remuestrea la señal de audio a $22050~\\mathrm{Hz}$. Si se selecciona la opción `sr=None`, se mantiene la frecuencia de muestreo original.\n",
    "* La señal de audio se convierte a un float con valores de amplitud en el rango de $[-1, 1]$.\n",
    "* La función `librosa.load()` utiliza el paquete [**`PySoundFile`**](https://pypi.org/project/PySoundFile/) o [**`audioread`**](https://github.com/beetbox/audioread).\n",
    "    * Cuando se lee una señal de audio, se intenta utilizar el paquete `PySoundFile`. Esto funciona para muchos formatos como WAV, FLAC y OGG. \n",
    "    * Sin embargo, no se puede leer señales de audio en formato MP3. \n",
    "    * Si el paquete `PySoundFile` no puede leer la señal de audio (por ejemplo, MP3), se emite una advertencia y se utiliza la biblioteca `audioread`. \n",
    "    * Cuando está disponible [**`ffmpeg`**](https://ffmpeg.org/) esta biblioteca puede leer archivos MP3."
   ]
  },
  {
   "cell_type": "code",
   "execution_count": null,
   "id": "be3b9c8b",
   "metadata": {},
   "outputs": [],
   "source": [
    "import librosa\n",
    "\n",
    "# Lee wav\n",
    "fn_wav = os.path.join('audio_formatos/', 'noteC4_Piano.wav')\n",
    "x, fs = librosa.load(fn_wav, sr=None)\n",
    "print_plot_play(x, fs, text='Fichero WAV: ')\n",
    "\n",
    "# Lee mp3\n",
    "fn_mp3 = os.path.join('audio_formatos/', 'noteC4_Piano.mp3')\n",
    "x, fs = librosa.load(fn_mp3, sr=None)\n",
    "print_plot_play(x, fs, text='Fichero MP3: ')"
   ]
  },
  {
   "cell_type": "markdown",
   "id": "c7427dea",
   "metadata": {},
   "source": [
    "## **PySoundFile**\n",
    "\n",
    "La biblioteca de audio [**`PySoundFile`**](https://pypi.org/project/soundfile/) ofrece funciones para leer y escribir archivos de sonido. En particular, contiene las funciones `soundfile.read()` y `soundfile.write()`. \n",
    "\n",
    "* Por defecto, el audio se convierte a un float con valores de amplitud situados en el rango de $[-1, 1]$. Este valor por defecto puede cambiarse usando la palabra clave `dtype`.\n",
    "* Cuando se escribe, se utiliza, por defecto, PCM de $16$ bits con signo (`subtype='PCM_16'`).\n",
    "* No hay opciones de remuestreo.\n",
    "* No se pueden leer ficheros `MP3`."
   ]
  },
  {
   "cell_type": "code",
   "execution_count": null,
   "id": "872398a5",
   "metadata": {},
   "outputs": [],
   "source": [
    "import soundfile as sf\n",
    "\n",
    "# Lee wav\n",
    "fn_wav = os.path.join('audio_formatos/', 'noteC4_Piano.wav')\n",
    "x, fs = sf.read(fn_wav)\n",
    "print_plot_play(x, fs, text='Fichero WAV (por defecto): ')\n",
    "\n",
    "# Lee wav con dtype= 'int16'\n",
    "x, fs = sf.read(fn_wav, dtype= 'int16')\n",
    "print_plot_play(x, fs, text='Fichero WAV (dtype=int16): ')\n",
    "\n",
    "# Escribe la senal 'int16' y lee la senal por defecto\n",
    "fn_out = os.path.join('www/', 'noteC4_Piano_int16.wav')\n",
    "sf.write(fn_out, x, fs)\n",
    "x, Fs = sf.read(fn_out)\n",
    "print_plot_play(x, fs, text='Escribe una señal (int16) y lee posteriormente esta señal (por defecto): ')"
   ]
  },
  {
   "cell_type": "code",
   "execution_count": null,
   "id": "4fe441af",
   "metadata": {},
   "outputs": [],
   "source": [
    "# Genera una senal\n",
    "fs = 8000\n",
    "x = 0.5 * np.cos(2 * np.pi * 440 * np.arange(0, fs) / fs)\n",
    "x[2000:2200] = 2\n",
    "print_plot_play(x, fs, text='Señal generada: ')\n",
    "\n",
    "# Escribe una senal\n",
    "# Por defecto: 'PCM_16'\n",
    "# Es equivalente a preprocesar (dithering + quantization) \n",
    "# x = np.int16(np.round(x*(2**15)))\n",
    "# \n",
    "print('Escribe el fichero (por defecto):', sf.default_subtype('WAV'))\n",
    "fn_out = os.path.join('www/', 'audio_sine.wav')\n",
    "sf.write(fn_out, x, fs, subtype='PCM_16')\n",
    "\n",
    "# Lee la senal generada\n",
    "x, fs = sf.read(fn_out)\n",
    "print_plot_play(x, fs, text='Señal después de ser escrita y leeida: ')"
   ]
  },
  {
   "cell_type": "markdown",
   "id": "645c3fea",
   "metadata": {},
   "source": [
    "## **SciPy**\n",
    "\n",
    "La librería `Scipy` ofrece el módulo [**`scipy.io.wavfile()`**](https://docs.scipy.org/doc/scipy/reference/io.html#module-scipy.io.wavfile), que permite leer y escribir archivos de tipo `wav`. Sin embargo, no todas las variantes del formato `wav` son compatibles. Por ejemplo, no se admiten archivos `WAV` de $24$ bits enteros. Además, determinados campos de metadatos de un archivo `wav` también pueden dar lugar a errores. Por lo tanto, no recomendamos esta opción."
   ]
  },
  {
   "cell_type": "code",
   "execution_count": null,
   "id": "8837b599",
   "metadata": {},
   "outputs": [],
   "source": [
    "from scipy.io import wavfile\n",
    "\n",
    "fn_wav = os.path.join('audio_formatos/', 'noteC4_Piano.wav')\n",
    "fs, x = wavfile.read(fn_wav)\n",
    "print_plot_play(x, fs, text='Señal leida: ')"
   ]
  },
  {
   "cell_type": "markdown",
   "id": "94340dec",
   "metadata": {},
   "source": [
    "## **libfmp**\n",
    "\n",
    "Esta librería incluye algunas funciones para leer y escribir señales de audio: utiliza la librería `librosa` para cargar los ficheros de audio y la librería [**`PySoundFile`**](https://pypi.org/project/PySoundFile/) para escribir audio."
   ]
  },
  {
   "cell_type": "code",
   "execution_count": null,
   "id": "cdcdb796",
   "metadata": {},
   "outputs": [],
   "source": [
    "import libfmp.b\n",
    "\n",
    "fn_wav = os.path.join('audio_formatos/', 'noteC4_Piano.wav')\n",
    "fn_out = os.path.join('www/', 'noteC4_Piano.b.wav')\n",
    "\n",
    "x, fs = libfmp.b.read_audio(fn_wav)\n",
    "libfmp.b.write_audio(fn_out, x, fs)\n",
    "x, fs = libfmp.b.read_audio(fn_out)\n",
    "print_plot_play(x, fs, text='Señal después de ser escrita y leida: ')"
   ]
  },
  {
   "cell_type": "markdown",
   "id": "51a43543",
   "metadata": {},
   "source": [
    "## **Otras librerías**\n",
    "\n",
    "Librería [**PyAudio**](https://pypi.org/project/PyAudio/): Se utiliza para la entrada y salida de audio y puede generar tonos de una frecuencia específica manipulando transmisiones de audio. Proporciona enlaces de Python para `PortAudio`, la API de audio multiplataforma.\n",
    "\n",
    "Librería [**Simpleaudio**](https://pypi.org/project/simpleaudio/): Esta es una biblioteca sencilla para reproducir archivos WAV o matrices `NumPy`. Puedes crear un sonido a una determinada frecuencia y reproducirlo.\n",
    "\n",
    "Librería [**Sounddevice**](https://pypi.org/project/sounddevice/): Esta biblioteca proporciona enlaces para la biblioteca `PortAudio` y se puede usar para reproducir y grabar sonido en un formato de matriz `NumPy`, lo que permite un control preciso sobre la frecuencia.\n",
    "\n",
    "Librería [**Wave**](https://docs.python.org/3/library/wave.html): Parte de la biblioteca estándar de Python, se usa para leer y escribir archivos WAV. Puede usarse en combinación con otras bibliotecas como `Numpy` para generar tonos de frecuencias específicas y guardarlos.\n",
    "\n",
    "Librería [**mir_eval**](https://pypi.org/project/mir_eval/): Esta biblioteca proporciona funciones para los sistemas de recuperación de información musical (*Music Information Retrieval*, MIR).\n"
   ]
  },
  {
   "cell_type": "markdown",
   "id": "16289c2c",
   "metadata": {},
   "source": [
    "----"
   ]
  },
  {
   "cell_type": "markdown",
   "metadata": {},
   "source": [
    "# **Formatos de audio**\n",
    "\n",
    "Existe un gran número de formatos de audio en la actualidad.\n",
    "\n",
    "[***The evolution of physical music formats***](http://www.thevinylfactory.com/vinyl-factory-releases/the-evolution-of-physical-music-formats-an-interactive-timeline)\n",
    "\n",
    "[***How we listen a timeline of audio formats***](https://gizmodo.com/how-we-listen-a-timeline-of-audio-formats-5216303)\n",
    "\n",
    "[***Timeline of audio formats***](http://en.wikipedia.org/wiki/Timeline_of_audio_formats)"
   ]
  },
  {
   "cell_type": "markdown",
   "metadata": {},
   "source": [
    "## **MP3**\n",
    "\n",
    "El formato MPEG-1 Audio Layer III o MPEG-2 Audio Layer III es el formato de compresión de audio más utilizado debido a su extraordinario grado de compresión y alta calidad.\n",
    "\n",
    "* Velocidad de muestreo de archivos MPEG-1: 32, 44.1 y 48 kHz.\n",
    "* Velocidad de muestreo de archivos MPEG-2: 16, 22.05 y 24 kHz.\n",
    "\n",
    "El umbral mínimo de audición humano no es lineal. De acuerdo con la ley de Fletcher y Munsen, se representa por una curva entre $2$ y $5$ KHz. Cualquier sonido situado fuera de este margen puede no codificarse, ya que no será percibido de todas formas. El proceso de codificación utilizado en MP3 se denomina “codificación perceptual” y se basa en eliminar aquellos datos que no serán percibidos por el oyente debido a las pequeñas imperfecciones del oído humano. La base matemática es muy compleja y conlleva un proceso de cómputo lento.\n",
    "\n",
    "Aplicando las técnicas del MP3, se consigue reducir el tamaño que ocupa una pieza musical en un factor entre $10(12):1$."
   ]
  },
  {
   "cell_type": "markdown",
   "metadata": {},
   "source": [
    "## **WAV**\n",
    "\n",
    "WAV (*Waveform Audio File Format*) es un formato creado por Microsoft que, normalmente, no realiza una compresión de datos. Si se utiliza compresión, se suelen usar los algoritmos de codificación PCM (*Pulse Code Modulation*) o ADPCM (*Adaptive Differential Pulse Code Modulation*). Admite archivos mono y estéreo a diversas resoluciones y velocidades de muestreo.\n",
    "\n",
    "Es un formato que aporta una excelente calidad pero genera ficheros de gran tamaño. Cada muestra de audio se guarda como un número entero de 16 bits (a veces en 32 bits). Esto es, los sonidos con extensión WAV (`.wav`) son sonidos con una calidad muy buena, concretamente, su calidad es unas 13 veces inferior a un sonido original. Por tanto, consigue una compresión de excelente calidad pero genera ficheros de gran tamaño. Por ejemplo, una canción extraída de un CD, a $16$ bytes, $44100$ Hz y estéreo, puede ocupar entre $20$ y $30$ MB."
   ]
  },
  {
   "cell_type": "markdown",
   "id": "42a86157",
   "metadata": {},
   "source": [
    "---------------------------------------"
   ]
  },
  {
   "cell_type": "markdown",
   "id": "b6e0623c",
   "metadata": {},
   "source": [
    "### Ejemplo 1\n",
    "\n",
    "* **`LRMonoPhase4.wav`** (*Left*, *Right*, *In-Phase*, *Out-Of-Phase Test*, 48k/16, WAV, 7.3MB, 39 segundos). Grabado con un micrófono de cinta RCA BK-5b (*ribbon micro*), un mezclador FP-24 y un Mac PowerBook.\n",
    "\n",
    "<center>\n",
    "\n",
    "<img src=\"../audio_formatos/bk5b_ribbon_micro.jpg\" width=\"10%\" height=\"auto\">\n",
    "\n",
    "</center>"
   ]
  },
  {
   "cell_type": "code",
   "execution_count": null,
   "id": "2e26c0c5",
   "metadata": {},
   "outputs": [],
   "source": [
    "audio, fs = librosa.load(\"audio_formatos/Ejemplo1/LRMonoPhase4.wav\")\n",
    "plot_ss(x=audio, fs=fs, titulo='LRMonoPhase4.wav');\n",
    "ipd.Audio(audio, rate=fs)"
   ]
  },
  {
   "cell_type": "markdown",
   "id": "3f0977b1",
   "metadata": {},
   "source": [
    "* **`LRMonoPhase4.mp3`**. La misma señal en formato MP3."
   ]
  },
  {
   "cell_type": "code",
   "execution_count": null,
   "id": "cc642154",
   "metadata": {},
   "outputs": [],
   "source": [
    "audio, fs = librosa.load(\"audio_formatos/Ejemplo1/LRMonoPhase4.mp3\")\n",
    "plot_ss(x=audio, fs=fs, titulo='LRMonoPhase4.mp3');\n",
    "ipd.Audio(audio, rate=fs)"
   ]
  },
  {
   "cell_type": "markdown",
   "id": "37e6b749",
   "metadata": {},
   "source": [
    "---------------------------------------"
   ]
  },
  {
   "cell_type": "markdown",
   "id": "3d44654c",
   "metadata": {},
   "source": [
    "### Ejemplo 2"
   ]
  },
  {
   "cell_type": "markdown",
   "id": "ea698b36",
   "metadata": {},
   "source": [
    "* **`WAV-MP3.wav`** (11 segundos, cambia de WAV 44100Hz sin comprimir a MP3 11000Hz)"
   ]
  },
  {
   "cell_type": "code",
   "execution_count": null,
   "id": "ded36e20",
   "metadata": {},
   "outputs": [],
   "source": [
    "audio, fs = librosa.load(\"audio_formatos/Ejemplo3/WAV-MP3.wav\")\n",
    "plot_ss(x=audio, fs=fs, titulo='WAV-MP3.wav');\n",
    "ipd.Audio(audio, rate=fs)"
   ]
  },
  {
   "cell_type": "markdown",
   "id": "27bb465f",
   "metadata": {},
   "source": [
    "* **`organfinale.wav`** (Solo de órgano, 13 segundos, WAV, 44100Hz/32-bit, estéreo, 4.4MB)"
   ]
  },
  {
   "cell_type": "code",
   "execution_count": null,
   "id": "3a473d0e",
   "metadata": {},
   "outputs": [],
   "source": [
    "lista_audio = []\n",
    "lista_fs = []\n",
    "titulos = []\n",
    "\n",
    "audio, fs = librosa.load(\"audio_formatos/Ejemplo3/organfinale.wav\")\n",
    "\n",
    "lista_audio.append(audio)\n",
    "lista_fs.append(fs)\n",
    "titulos.append('organfinale.wav')\n",
    "\n",
    "ipd.Audio(audio, rate=fs)"
   ]
  },
  {
   "cell_type": "markdown",
   "id": "6115da45",
   "metadata": {},
   "source": [
    "* **`organfinale.mp3`** (Solo de órgano, 13 segundos, MP3, 44100Hz/32-bit, estéreo, 208KB)"
   ]
  },
  {
   "cell_type": "code",
   "execution_count": null,
   "id": "0dc91d6d",
   "metadata": {},
   "outputs": [],
   "source": [
    "audio, fs = librosa.load(\"audio_formatos/Ejemplo3/organfinale.mp3\")\n",
    "\n",
    "lista_audio.append(audio)\n",
    "lista_fs.append(fs)\n",
    "titulos.append('organfinale.mp3')\n",
    "\n",
    "ipd.Audio(audio, rate=fs)\n",
    "plotN_ss(lista_audio, lista_fs, titulos)"
   ]
  },
  {
   "cell_type": "markdown",
   "id": "261459b1",
   "metadata": {},
   "source": [
    "\n",
    "* **`32.mp3`** (*Click Track*, 32 segundos, MP3, 44100Hz/32-bit, mono, 504KB)\n",
    "  \n"
   ]
  },
  {
   "cell_type": "code",
   "execution_count": null,
   "id": "0edf7d64",
   "metadata": {},
   "outputs": [],
   "source": [
    "audio, fs = librosa.load(\"audio_formatos/Ejemplo3/32.mp3\")\n",
    "plot_ss(x=audio, fs=fs, titulo='32.mp3');\n",
    "ipd.Audio(audio, rate=fs)"
   ]
  },
  {
   "cell_type": "markdown",
   "id": "41147970",
   "metadata": {},
   "source": [
    "* **`c304-2.wav`** (*Echo test*, 49 segundos, WAV, 48k/16, estéreo, 9.1MB)"
   ]
  },
  {
   "cell_type": "code",
   "execution_count": null,
   "id": "d48b616f",
   "metadata": {},
   "outputs": [],
   "source": [
    "audio, fs = librosa.load(\"audio_formatos/Ejemplo3/c304-2.wav\")\n",
    "plot_ss(x=audio, fs=fs, titulo='c304-2.wav');\n",
    "ipd.Audio(audio, rate=fs)"
   ]
  },
  {
   "cell_type": "markdown",
   "id": "b19d3f36",
   "metadata": {},
   "source": [
    "\n",
    "---"
   ]
  },
  {
   "cell_type": "markdown",
   "metadata": {},
   "source": [
    "## **AIFF**\n",
    "\n",
    "El formato AIFF (*Audio Interchange File Format*) desarrollado por Apple no utiliza compresión y emplea una modulación por impulsos codificados (PCM). Es un formato de alta calidad pero genera ficheros de gran tamaño. Utiliza alrededor de 10 MB para un minuto de audio estéreo con una frecuencia de muestreo de 44.1kHz y 16 bits lo cual genera audios de alta calidad pero de gran tamaño.\n",
    "\n",
    "Además, este estándar da soporte a bucles para notas musicales para su uso en aplicaciones musicales o *samplers*."
   ]
  },
  {
   "cell_type": "markdown",
   "id": "2592c4be",
   "metadata": {},
   "source": [
    "### Ejemplo 2\n",
    "\n",
    "* **`piano2.wav`** (*Piano Trill*, 48k/16, *Little Endian*, WAV, estéreo, 1.2MB). 6.3 segundos, siete notas de piano."
   ]
  },
  {
   "cell_type": "code",
   "execution_count": null,
   "id": "b37b8dc6",
   "metadata": {},
   "outputs": [],
   "source": [
    "lista_audio = []\n",
    "lista_fs = []\n",
    "titulos = []\n",
    "\n",
    "audio, fs = librosa.load(\"audio_formatos/Ejemplo2/piano2.wav\")\n",
    "\n",
    "lista_audio.append(audio)\n",
    "lista_fs.append(fs)\n",
    "titulos.append('piano2.wav')\n",
    "ipd.Audio(audio, rate=fs)"
   ]
  },
  {
   "cell_type": "markdown",
   "id": "d8f6869c",
   "metadata": {},
   "source": [
    "* **`piano2.aif`** (*Piano Trill*, 48k/16, *Big Endian*, AIFF, estéreo, 1.2MB). Formato *Apple* AIFF."
   ]
  },
  {
   "cell_type": "code",
   "execution_count": null,
   "id": "1ead437d",
   "metadata": {},
   "outputs": [],
   "source": [
    "audio, fs = librosa.load(\"audio_formatos/Ejemplo2/piano2.aif\")\n",
    "\n",
    "lista_audio.append(audio)\n",
    "lista_fs.append(fs)\n",
    "titulos.append('piano2.aif')\n",
    "\n",
    "ipd.Audio(audio, rate=fs)"
   ]
  },
  {
   "cell_type": "markdown",
   "id": "3a0cfdf0",
   "metadata": {},
   "source": [
    "* **`piano2-CoolEdit.mp3`** (*Piano Trill*, 48k/128kb-MP3, 100KB). Creado por CoolEdit 2000, *Fraunhofer License*."
   ]
  },
  {
   "cell_type": "code",
   "execution_count": null,
   "id": "6f7e72ae",
   "metadata": {},
   "outputs": [],
   "source": [
    "audio, fs = librosa.load(\"audio_formatos/Ejemplo2/piano2-CoolEdit.mp3\")\n",
    "\n",
    "lista_audio.append(audio)\n",
    "lista_fs.append(fs)\n",
    "titulos.append('piano2-CoolEdit.mp3')\n",
    "\n",
    "ipd.Audio(audio, rate=fs)"
   ]
  },
  {
   "cell_type": "markdown",
   "id": "6e458e1a",
   "metadata": {},
   "source": [
    "* **`piano2-Audacity1.2.5.mp3`** (*Piano Trill*, 48k/128kb-MP3, 100KB). Creado por *lame*."
   ]
  },
  {
   "cell_type": "code",
   "execution_count": null,
   "id": "4b76fe03",
   "metadata": {},
   "outputs": [],
   "source": [
    "audio, fs = librosa.load(\"audio_formatos/Ejemplo2/piano2-Audacity1.2.5.mp3\")\n",
    "\n",
    "lista_audio.append(audio)\n",
    "lista_fs.append(fs)\n",
    "titulos.append('piano2-Audacity1.2.5.mp3')\n",
    "\n",
    "ipd.Audio(audio, rate=fs)\n",
    "plotN_ss(lista_audio, lista_fs, titulos)"
   ]
  },
  {
   "cell_type": "markdown",
   "metadata": {},
   "source": [
    "## **OGG**\n",
    "\n",
    "Este formato desarrollado por la Fundación `Xiph.org`. El formato OGG puede contener audio y vídeo y tiene un grado de compresión similar al MP3 pero, según los expertos en música, la calidad de reproducción es ligeramente superior."
   ]
  },
  {
   "cell_type": "markdown",
   "metadata": {},
   "source": [
    "## **Otros formatos**\n",
    "\n",
    "* AAC (*Advanced Audio Coding*): Este formato es similar al MP3 aunque más eficiente (menor espacio, misma calidad). Mejor compresión que MP3 especialmente para velocidades de transmisión menores que $128$ kbit/s.\n",
    "* HE-AAC (*High-Efficiency Advanced Audio Coding*): Es una variación de AAC optimizado para velocidades de transmisión bajas (*streaming* de audio).\n",
    "* AMR (*Adaptive Multi-Rate*): Formato optimizado para voz (velocidad de transmisión baja).\n",
    "* ALAC (*Apple Lossless*): Formato sin pérdida en cualquier calidad y una tasa de compresión del $40-60$ % del tamaño original.\n",
    "* iLBC (*Internet Low Bitrate Codec*): Proporciona una buena calidad de voz y es robusto frente a pérdida de paquetes. Utiliza un algoritmo de predicción lineal adaptativo independiente por bloques.\n",
    "* Real Audio: Formato creado por RealNetworks muy utilizado para transmisiones por internet en tiempo real.\n",
    "* VQF (TwinVQ, *Transform-domain Weighted Interleaved Vector Quantization*): Es un formato comercializado por Yamaha. Es menos popular que MP3 pero proporciona menor tamaño, mayor calidad y mayor número de recursos. Son aproximadamente un $30-35$ % más pequeños que los archivos MP3 pero requieren de mayor capacidad de computación que estos.\n",
    "* WMA (*Windows Media Audio*): Este formato, creado por Microsoft, proporciona una mejor calidad de sonido que MP3 a la misma tasa de bits."
   ]
  },
  {
   "cell_type": "markdown",
   "id": "162ded30",
   "metadata": {},
   "source": [
    "---"
   ]
  },
  {
   "cell_type": "markdown",
   "metadata": {},
   "source": [
    "# Referencias\n",
    "\n",
    "Muchos de los audios utilizados han sido elegidos de la siguiente página: [***SoundTests***](http://www.kozco.com/tech/soundtests.html).\n",
    "\n",
    "## Formatos de audio\n",
    "\n",
    "* [**Formatos de ficheros de audio**](http://en.wikipedia.org/wiki/Audio_file_format)\n",
    "* [**Comparación entre los formatos de audio**](http://en.wikipedia.org/wiki/Comparison_of_audio_formats)\n",
    "* [**Códecs de audio**](http://es.wikipedia.org/wiki/C%C3%B3dec_de_audio)\n",
    "* [**Lista de códecs de audio**](http://en.wikipedia.org/wiki/List_of_codecs)\n",
    "* [**Diferencia entre WAV y MP3**](http://www.noiseaddicts.com/2010/04/sound-test-difference-between-wav-vs-mp3)\n",
    "* [**Calidad de sonido MP3 128-320**](http://www.noiseaddicts.com/2009/03/mp3-sound-quality-test-128-320)\n",
    "\n",
    "## MP3\n",
    "\n",
    "* [**wikipedia MP3**](http://en.wikipedia.org/wiki/MP3)\n",
    "* [**Fraunhofer MP3**](http://www.iis.fraunhofer.de/en/bf/amm/produkte/audiocodec/audiocodecs/mp3.html)\n",
    "* [***The International Association of Sound and Audiovisual Archives IASA***](http://www.iasa-web.org)\n",
    "\n",
    "## WAV\n",
    "\n",
    "* [**wikipedia WAV**](http://en.wikipedia.org/wiki/WAV)\n",
    "\n",
    "## AIFF\n",
    "\n",
    "* [**wikipedia AIFF**](http://en.wikipedia.org/wiki/AIFF)\n",
    "\n",
    "## OGG\n",
    "\n",
    "* [**wikipedia OGG**](http://en.wikipedia.org/wiki/Ogg)\n",
    "\n",
    "## Otros formatos\n",
    "\n",
    "* [**wikipedia AAC**](http://en.wikipedia.org/wiki/Advanced_Audio_Coding)\n",
    "* [**Fraunhofer AAC**](http://www.iis.fraunhofer.de/en/bf/amm/produkte/audiocodec/audiocodecs/aaclc.html)\n",
    "* [**wikipedia HE-AAC**](http://en.wikipedia.org/wiki/High-Efficiency_Advanced_Audio_Coding)\n",
    "* [**wikipedia AMR**](http://en.wikipedia.org/wiki/Adaptive_Multi-Rate_audio_codec)\n",
    "* [**wikipedia ALAC**](http://en.wikipedia.org/wiki/Apple_Lossless)\n",
    "* [**wikipedia iLBC**](http://en.wikipedia.org/wiki/Internet_Low_Bitrate_Codec)\n",
    "* [**wikipedia Real Audio**](http://en.wikipedia.org/wiki/RealAudio)\n",
    "* [**wikipedia VQF**](http://en.wikipedia.org/wiki/TwinVQ)\n",
    "* [**wikipedia WMA**](http://en.wikipedia.org/wiki/Windows_Media_Audio)\n",
    "\n",
    "## Algunas notas históricas\n",
    "\n",
    "* [***Sound recording and reproduction***](http://en.wikipedia.org/wiki/Sound_recording_and_reproduction)\n",
    "* [***Timeline of audio formats***](http://en.wikipedia.org/wiki/Timeline_of_audio_formats)\n",
    "* [***British Library Sounds***](https://blogs.bl.uk/sound-and-vision/)"
   ]
  }
 ],
 "metadata": {
  "kernelspec": {
   "display_name": "Python 3",
   "language": "python",
   "name": "python3"
  },
  "language_info": {
   "codemirror_mode": {
    "name": "ipython",
    "version": 3
   },
   "file_extension": ".py",
   "mimetype": "text/x-python",
   "name": "python",
   "nbconvert_exporter": "python",
   "pygments_lexer": "ipython3",
   "version": "3.12.7"
  }
 },
 "nbformat": 4,
 "nbformat_minor": 5
}
