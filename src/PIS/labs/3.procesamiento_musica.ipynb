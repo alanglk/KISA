{
 "cells": [
  {
   "cell_type": "markdown",
   "id": "seasonal-maryland",
   "metadata": {},
   "source": [
    "# **Procesamiento de la señal musical**\n",
    "## Procesamiento de Imagen y Señal\n",
    "### **ESCRIBE TU NOMBRE AQUI**\n",
    "### Curso 2024-2025"
   ]
  },
  {
   "cell_type": "code",
   "execution_count": null,
   "id": "c8f2c0ef",
   "metadata": {
    "scrolled": true
   },
   "outputs": [],
   "source": [
    "#!pip install ffmpeg-python\n",
    "#sudo apt install ffmpeg"
   ]
  },
  {
   "cell_type": "code",
   "execution_count": null,
   "id": "ae0eee62",
   "metadata": {},
   "outputs": [],
   "source": [
    "import math\n",
    "import cmath\n",
    "\n",
    "import random\n",
    "\n",
    "import os\n",
    "import sys\n",
    "\n",
    "##\n",
    "\n",
    "import warnings\n",
    "warnings.filterwarnings('ignore')\n",
    "\n",
    "##\n",
    "\n",
    "import pandas as pd\n",
    "\n",
    "import numpy as np\n",
    "import matplotlib.pyplot as plt\n",
    "from matplotlib.colors import LogNorm\n",
    "import matplotlib.image as im\n",
    "\n",
    "import plotly\n",
    "import plotly.express as px\n",
    "\n",
    "from itertools import cycle\n",
    "\n",
    "# PyWavelets\n",
    "import pywt\n",
    "\n",
    "from scipy import signal, fftpack\n",
    "from scipy.interpolate import interp1d\n",
    "from scipy.fft import fft\n",
    "from scipy.signal import find_peaks, chirp, spectrogram\n",
    "\n",
    "from scipy.signal import chirp, spectrogram\n",
    "\n",
    "### Audio\n",
    "import IPython.display as ipd\n",
    "import librosa\n",
    "import librosa.display\n",
    "\n",
    "from pydub import AudioSegment\n",
    "\n",
    "import soundfile as sf\n",
    "\n",
    "#### Important tips\n",
    "# To hear the signal\n",
    "# ipd.Audio(x, rate=fs)\n",
    "####\n",
    "\n",
    "### Image\n",
    "from PIL import Image\n",
    "from skimage import io\n",
    "import cv2\n",
    "# python -m pip install tensorflow==2.10\n",
    "# import tensorflow as tf"
   ]
  },
  {
   "cell_type": "code",
   "execution_count": null,
   "id": "0e7acf47",
   "metadata": {},
   "outputs": [],
   "source": [
    "# Funciones auxiliares\n",
    "path = \"code/\"\n",
    "\n",
    "# Add the directory containing your module to the Python path (wants absolute paths)\n",
    "sys.path.append(os.path.abspath(path))\n",
    "\n",
    "from f_plot import *\n",
    "from f_audio_player_list import *\n",
    "from f_get_random import *"
   ]
  },
  {
   "cell_type": "markdown",
   "id": "e5858a8e",
   "metadata": {},
   "source": [
    "<hr style=\"border: 1px solid pink\" />"
   ]
  },
  {
   "cell_type": "code",
   "execution_count": null,
   "id": "6bb9f5df",
   "metadata": {},
   "outputs": [],
   "source": [
    "### Tabla de notas\n",
    "\n",
    "data = {\n",
    "\t'nota': [\"C4\", \"D4\", \"E4\", \"F4\", \"G4\", \n",
    "\t\t\t \"A4\", \"B4\", \"C5\", \"D5\", \"E5\", \n",
    "\t\t\t \"F5\", \"G5\", \"A5\", \"B5\", \"C6\"],\n",
    "\t'name': [\"Do\", \"Re\", \"Mi\", \"Fa\", \"Sol\", \n",
    "\t\t\t \"La\", \"Si\", \"Do\", \"Re\", \"Mi\", \n",
    "\t\t\t \"Fa\", \"Sol\", \"La\", \"Si\", \"Do\"],\n",
    "  \t'freq': [261.63, 293.66, 329.63, 349.23, 392, \n",
    "  \t\t\t 440, 493.88, 523.25, 587.33, 659.26, \n",
    "             698.46, 783.99, 880, 987.77, 1046.5]\n",
    "}\n",
    "df = pd.DataFrame(data)\n",
    "\n",
    "print(df)"
   ]
  },
  {
   "cell_type": "code",
   "execution_count": null,
   "id": "fc2f12c5",
   "metadata": {},
   "outputs": [],
   "source": [
    "\n",
    "# Selecciona una fila de forma aleatoria:\n",
    "# df.sample()\n",
    "# Selecciona 10 filas de forma aleatoria:\n",
    "# df.sample(10)\n",
    "\n",
    "melodia = df.sample(10)\n",
    "print(melodia)"
   ]
  },
  {
   "cell_type": "markdown",
   "id": "121b56c3",
   "metadata": {},
   "source": [
    "---"
   ]
  },
  {
   "cell_type": "markdown",
   "id": "29d205ce",
   "metadata": {},
   "source": [
    "## **Funciones para crear notas**\n",
    "\n",
    "Podemos generar una nota mediante una función sinusoidal o mediante la función [**`tone()`**](https://librosa.org/doc/main/generated/librosa.tone.html) de la librería `librosa`. \n",
    "\n",
    "Para generar un silencio podemos utilizar la función [**`AudioSegment.silent()`**](https://audiosegment.readthedocs.io/en/latest/audiosegment.html?highlight=silent#audiosegment.silent) de la librería `pydub`.\n",
    "\n",
    "Para obtener la notación de una nota dada una frecuencia podemos utilizar la función [**`hz_to_note()`**](https://librosa.org/doc/main/generated/librosa.hz_to_note.html) de la librería `librosa`. Y viceversa, para obtener la frecuencia de una nota podemos utilizar la función [**`note_to_hz()`**](https://librosa.org/doc/main/generated/librosa.note_to_hz.html) de la misma librería."
   ]
  },
  {
   "cell_type": "markdown",
   "id": "d178b2d6",
   "metadata": {},
   "source": [
    "<hr style=\"border: 1px solid pink\" />"
   ]
  },
  {
   "cell_type": "code",
   "execution_count": null,
   "id": "b1447e9d",
   "metadata": {},
   "outputs": [],
   "source": [
    "def nota_sin(f, s=1, fs=44100):\n",
    "    x = []\n",
    "    # GENERA LA NOTA DE FRECUENCIA f A PARTIR DE UNA FUNCION SINUSOIDAL\n",
    "    return x\n",
    "\n",
    "def nota(f, s=1, fs=44100):\n",
    "    x = []\n",
    "    # GENERA LA NOTA DE FRECUENCIA f A PARTIR DE LA FUNCION DE LA LIBRERIA LIBROSA\n",
    "    #   librosa.tone(frequency, *, sr=22050, length=None, duration=None, phi=None)\n",
    "    return x\n",
    "\n",
    "def silencio(s, fs=44100):\n",
    "    ss = AudioSegment.silent(frame_rate=fs, duration=s*1000) # duracion en ms\n",
    "    samples = ss.get_array_of_samples()\n",
    "    samples = np.array(samples)\n",
    "    return samples"
   ]
  },
  {
   "cell_type": "code",
   "execution_count": null,
   "id": "3344f4ed",
   "metadata": {},
   "outputs": [],
   "source": [
    "def generate_from_freq(l_freq=[440], l_t=1, l_fs=44100):\n",
    "    if type(l_t)==int: \n",
    "        l_t = np.tile(l_t, len(l_freq)) # duracion en segundos\n",
    "\n",
    "    if type(l_fs)==int: \n",
    "        l_fs = np.tile(l_fs, len(l_freq)) # frecuencia de muestreo en Hz\n",
    "\n",
    "    x = [] \n",
    "    for f, d, fs in zip(l_freq, l_t, l_fs):\n",
    "        xx = nota(f, s=d, fs=fs)\n",
    "        x  = np.append(x, xx)\n",
    "\n",
    "    return x\n",
    "\n",
    "def generate_from_notas(notas=[\"A4\"], duracion=1, fs=44100):\n",
    "    frecuencias = librosa.note_to_hz(notas)\n",
    "    x = generate_from_freq(frecuencias, duracion, fs)\n",
    "    return x"
   ]
  },
  {
   "cell_type": "markdown",
   "id": "18a9ef82",
   "metadata": {},
   "source": [
    "---"
   ]
  },
  {
   "cell_type": "markdown",
   "id": "991e9572",
   "metadata": {},
   "source": [
    "1. **Nota A4** \n",
    "\n",
    "   1. Crea la nota \"LA\" (`A4`, $440$ Hz) con una frecuencia de muestreo de $44100$ Hz a partir de la función `nota_sin()`.\n",
    "   2. Crea la nota \"LA\" (`A4`, $440$ Hz) con una frecuencia de muestreo de $44100$ Hz a partir de la función `nota()`.\n",
    "   3. Une ambas notas en una misma señal con un silencio de 1 segundo entre ellas.\n",
    "   4. Oye cada nota por separado y la secuencia final."
   ]
  },
  {
   "cell_type": "code",
   "execution_count": null,
   "id": "bb028f03",
   "metadata": {},
   "outputs": [],
   "source": [
    "# Realiza la tarea"
   ]
  },
  {
   "cell_type": "markdown",
   "id": "6abf8b03",
   "metadata": {},
   "source": [
    "---"
   ]
  },
  {
   "cell_type": "markdown",
   "id": "6c4b5938",
   "metadata": {},
   "source": [
    "2. Crea la siguiente escala de notas a partir de frecuencias y a partir de las notas:\n",
    "\n",
    "<center>\n",
    "\n",
    "**sol - sol# - la - la# - si**\n",
    "    \n",
    "</center>"
   ]
  },
  {
   "cell_type": "code",
   "execution_count": null,
   "id": "e7a0ddad",
   "metadata": {},
   "outputs": [],
   "source": [
    "# Realiza la tarea\n",
    "\n",
    "# A partir de las frecuencias\n",
    "# sol - sol# - la - la# - si == 391.9954, 415.3047, 440, 466.1638, 493.8833\n",
    "\n",
    "# A partir de las notas\n",
    "# sol - sol# - la - la# - si == 'G4', 'G#4', 'A4', 'A#4', 'B4'"
   ]
  },
  {
   "cell_type": "markdown",
   "id": "e25d2e9e",
   "metadata": {},
   "source": [
    "---"
   ]
  },
  {
   "cell_type": "markdown",
   "id": "a021686e",
   "metadata": {},
   "source": [
    "## **Tonos puros**"
   ]
  },
  {
   "cell_type": "markdown",
   "id": "ae4fb167",
   "metadata": {},
   "source": [
    "3. ***Timbre y armónicos***\n",
    "   \n",
    "   Oye la nota `A4` ($440Hz$) y sus diferentes armónicos (instrumentos). Examina los espectros de las notas generadas por el diapasón y uno de los instrumentos (elegido aleatoriamente). Distingue los armónicos en el espectro de ambos audios.\n",
    "\n",
    "    0. Diapasón `A4` (`audio_musica/tuning_fork_A4.wav`)\n",
    "    1. Violín `A4` (`audio_musica/violin_A4.wav`)\n",
    "    2. Voz `A4` (`audio_musica/singer_A4.wav`)\n",
    "    3. Piano `A4` (`audio_musica/piano_A4.wav`)\n",
    "    4. Oboe `A4` (`audio_musica/oboe_A4.wav`)\n",
    "    5. Flauta `A4` (`audio_musica/flute_A4.wav`)"
   ]
  },
  {
   "cell_type": "code",
   "execution_count": null,
   "id": "40ab2146",
   "metadata": {},
   "outputs": [],
   "source": [
    "# Seleccionamos uno de los audios\n",
    "seleccionada = get_random_number([1, 5])\n",
    "print(seleccionada)"
   ]
  },
  {
   "cell_type": "code",
   "execution_count": null,
   "id": "7f3c2a9e",
   "metadata": {},
   "outputs": [],
   "source": [
    "# Realiza la tarea"
   ]
  },
  {
   "cell_type": "markdown",
   "id": "d8f084ed",
   "metadata": {},
   "source": [
    "---"
   ]
  },
  {
   "cell_type": "markdown",
   "id": "38592f32",
   "metadata": {},
   "source": [
    "4. ***Notas Famosas***\n",
    "\n",
    "    Genera las siguientes notas famosas siendo la frecuencia de muestreo $fs = 4000$ Hz para la mayoría de las notas. \n",
    "    1. *Middle C* = $261.626$ Hz (*standard tuning*, `C4`).\n",
    "    2. *Middle C* = $256$ Hz (*Scientific tuning*).\n",
    "    3. *Concert A* (*A above middle C*) = $440$ Hz.\n",
    "    4. La nota más grave de una guitarra que corresponde a una frecuencia de $82.4$ Hz.\n",
    "    5. La nota más aguda de una guitarra que corresponde a la frecuencia de $698.5$ Hz.\n",
    "    6. La nota más baja de un piano `A` = $27.5$ Hz.\n",
    "    7. La nota más alta de un piano `C` = $4186.009$ Hz. En este caso, la frecuencia de muestreo es $fs=16000$ Hz.\n",
    "\n",
    "    Óyelas y visualiza sus espectros."
   ]
  },
  {
   "cell_type": "code",
   "execution_count": null,
   "id": "d254bacd",
   "metadata": {},
   "outputs": [],
   "source": [
    "# Realiza la tarea"
   ]
  },
  {
   "cell_type": "markdown",
   "id": "41771db9",
   "metadata": {},
   "source": [
    "---"
   ]
  },
  {
   "cell_type": "markdown",
   "id": "7fd21078",
   "metadata": {},
   "source": [
    "5. ***Tonos puros***\n",
    "   1. Visualiza unos cuantos segundos de la señal generada por un violín sintético: `C4` a $262$ Hz (`audio_musica/violin_c4.wav`).\n",
    "      * Oye también la señal. Finalmente, visualiza su espectrograma.\n",
    "   2. Visualiza unos cuantos segundos de la señal formada por notas musicales: `audio_musica/12345.wav`.  \n",
    "      * Oye también la señal. Finalmente, visualiza su espectrograma.\n",
    "   3. Visualiza unos cuantos segundos de la función seno (`audio/sinewave.wav`).\n",
    "      * Oye esta señal pero con cuidado ya que puede ser un sonido muy agudo. Finalmente, visualiza su espectrograma.\n",
    "  \n",
    "Puedes utilizar la función [**`librosa.tone()`**](https://librosa.org/doc/main/generated/librosa.tone.html) del paquete [**`librosa`**](https://librosa.org/doc/main/index.html). "
   ]
  },
  {
   "cell_type": "code",
   "execution_count": null,
   "id": "34f50901",
   "metadata": {},
   "outputs": [],
   "source": [
    "# Seleccionamos uno de los tonos puros\n",
    "seleccionado = get_random_number([1, 3])\n",
    "print(seleccionado)"
   ]
  },
  {
   "cell_type": "code",
   "execution_count": null,
   "id": "02df4083",
   "metadata": {},
   "outputs": [],
   "source": [
    "# Realiza la tarea"
   ]
  },
  {
   "cell_type": "markdown",
   "id": "3a89d34f",
   "metadata": {},
   "source": [
    "---"
   ]
  },
  {
   "cell_type": "markdown",
   "id": "be97f67c",
   "metadata": {},
   "source": [
    "6. **Nota *concert C6*** \n",
    "    + Genera el tono puro a $1047$ Hz (**concert C6**). Visualiza el espectro de esta nota.\n",
    "    + Oye y visualiza el espectro de esta misma nota generada por un oboe: `audio_musica/oboe_C6.wav`\n",
    "    + Oye y visualiza el espectro de esta misma nota generada por un clarinete: `audio_musica/clarinete_C6.wav`"
   ]
  },
  {
   "cell_type": "code",
   "execution_count": null,
   "id": "ac64ec8c",
   "metadata": {},
   "outputs": [],
   "source": [
    "# Realiza la tarea"
   ]
  },
  {
   "cell_type": "markdown",
   "id": "0edd0bd8",
   "metadata": {},
   "source": [
    "---"
   ]
  },
  {
   "cell_type": "markdown",
   "id": "b7f73617",
   "metadata": {},
   "source": [
    "7. Genera las siguientes melodías y oyelas ¿ Las conoces ?\n",
    "    1. **Re4 - Mi4 - Do4 - Do3 - Sol4**\n",
    "        \n",
    "        notas = ['D4', 'E4', 'C4', 'C3', 'G4', 'D4', 'E4', 'C4', 'C3', 'G4', 'D4', 'E4', 'C4', 'C3', 'G4']\n",
    "        \n",
    "        duracion = [1, 1, 1, 1, 1, 1/2, 1/2, 1/2, 1/2, 1/2, 1/2, 1/2, 1/2, 1/2, 1/2]\n",
    "        \n",
    "    2. **Sol4, La4, Fa4, Fa3, Do4**\n",
    "        \n",
    "        notas = ['G4', 'A4', 'F4', 'F3', 'C4', 'G4', 'A4', 'F4', 'F3', 'C4', 'G4', 'A4', 'F4', 'F3', 'C4']\n",
    "        \n",
    "        duracion = [1, 1, 1, 1, 1, 1/2, 1/2, 1/2, 1/2, 1/2, 1/2, 1/2, 1/2, 1/2, 1/2]\n",
    "\n",
    "   + Visualiza el espectrograma de ambas melodías y trata de identificar las notas en el espectro.\n",
    "   + Une ambas melodías en un solo audio y oyelo.\n",
    "   + Genera una señal en estéro y oyela:\n",
    "       + En el canal derecho: Primera melodía\n",
    "       + En el canal izquierdo: Segunda melodía"
   ]
  },
  {
   "cell_type": "code",
   "execution_count": null,
   "id": "329c4b27",
   "metadata": {},
   "outputs": [],
   "source": [
    "# Realiza la tarea"
   ]
  },
  {
   "cell_type": "markdown",
   "id": "2d9941de",
   "metadata": {},
   "source": [
    "---"
   ]
  },
  {
   "cell_type": "markdown",
   "id": "9c954b0b",
   "metadata": {},
   "source": [
    "8. Generación de un *glissando*:\n",
    "   * descendente a partir la nota 880Hz hasta la nota 220Hz.\n",
    "   * descendente a partir la nota 440Hz hasta la nota 220Hz.\n",
    "   * ascendente a partir la nota 220Hz hasta la nota 880Hz.\n",
    "   * ascendente a partir la nota 220Hz hasta la nota 440Hz."
   ]
  },
  {
   "cell_type": "code",
   "execution_count": null,
   "id": "9b257e87",
   "metadata": {},
   "outputs": [],
   "source": [
    "# Realiza la tarea\n",
    "\n",
    "# Ver fichero: https://www.audiolabs-erlangen.de/resources/MIR/FMP/C1/C1S1_ChromaShepard.html"
   ]
  },
  {
   "cell_type": "markdown",
   "id": "f126b8da",
   "metadata": {},
   "source": [
    "---"
   ]
  },
  {
   "cell_type": "markdown",
   "id": "c8a5ccc8",
   "metadata": {},
   "source": [
    "9. Crea un acorde musical complejo. Esto es, la nota `A4` junto con notas de un tercio y un octavo de octava de dicha nota con una duración de $1.2$ segundos cada una de ellas y una frecuencia de muestreo de $8000$ Hz."
   ]
  },
  {
   "cell_type": "code",
   "execution_count": null,
   "id": "decd4f38",
   "metadata": {},
   "outputs": [],
   "source": [
    "# Crea un sonido formado por:\n",
    "#  primera nota (1.2s), silencio (0.15s), segunda nota (1.2s), silencio (0.15s), \n",
    "#              tercera nota (1.2s), silencio (0.15s), acorde (1.2s)\n",
    "#\n",
    "#  La primera nota es la nota A4 (440 Hz)\n",
    "#  La segunda nota es un tercio de octava de dicha nota\n",
    "#  La tercera nota es un octavo de octava de dicha nota\n",
    "\n",
    "# Visualiza el acorde\n",
    "\n",
    "# Más información: https://es.wikipedia.org/wiki/Temperamento_igual\n",
    "# \n",
    "# F_n+1 = F_n * 2^(1/12)\n",
    "#\n",
    "\n",
    "# Dibuja el espectro de cada una de las notas generadas y también del acorde generado."
   ]
  },
  {
   "cell_type": "code",
   "execution_count": null,
   "id": "5d3ab23b",
   "metadata": {},
   "outputs": [],
   "source": [
    "# Realiza la tarea"
   ]
  },
  {
   "cell_type": "markdown",
   "id": "ff16d0a7",
   "metadata": {},
   "source": [
    "---"
   ]
  },
  {
   "cell_type": "markdown",
   "id": "5be5a40f",
   "metadata": {},
   "source": [
    "# **Anexo: Protocolo MIDI**\n",
    "\n",
    "MIDI es un protocolo de comunicación serial estándar (*Musical Instrument Digital Interface*, MIDI) que permite a los sintetizadores y otros dispositivos digitales comunicarse y compartir información.\n",
    "\n",
    "El formato MIDI no guarda el sonido sino la información de las notas, los instrumentos, etc.\n",
    "\n",
    "Ejemplo de música creada en formato MIDI: [**link**](https://es.wikipedia.org/wiki/Archivo:Ented,_Nokturn_a-moll_-_Jesienny.ogg)"
   ]
  },
  {
   "cell_type": "markdown",
   "id": "84fa96d4",
   "metadata": {},
   "source": [
    "Dado un número MIDI $m$, sabemos que, para la nota `A4` es $69$ y aumenta en uno por cada semitono igual temperado, por lo que nos da una conversión sencilla entre frecuencias y números MIDI (utilizando $440$ Hz como tono de `A4`):\n",
    "    $$f =  2^{(m−69)/12} \\cdot 440$$\n",
    "\n",
    "Una vez obtenida la frecuencia, se puede generar la nota como se desee."
   ]
  },
  {
   "cell_type": "markdown",
   "id": "78fc34da",
   "metadata": {},
   "source": [
    "Para obtener la notación \"midi\" de una nota podemos utilizar las funciones [**`librosa.hz_to_midi()`**](https://librosa.org/doc/main/generated/librosa.hz_to_midi.html) y [**`librosa.note_to_midi()`**](https://librosa.org/doc/main/generated/librosa.note_to_midi.html)  de la librería `librosa`. "
   ]
  },
  {
   "cell_type": "code",
   "execution_count": null,
   "id": "a9ac45f0",
   "metadata": {},
   "outputs": [],
   "source": [
    "numero = librosa.note_to_midi('A4')\n",
    "print(numero)"
   ]
  },
  {
   "cell_type": "code",
   "execution_count": null,
   "id": "44190aef",
   "metadata": {},
   "outputs": [],
   "source": [
    "numero = librosa.hz_to_midi(440)\n",
    "print(numero)"
   ]
  },
  {
   "cell_type": "markdown",
   "id": "2b281760",
   "metadata": {},
   "source": [
    "También podemos utilizar las funciones [**`librosa.midi_to_hz()`**](https://librosa.org/doc/main/generated/librosa.midi_to_hz.html), [**`librosa.midi_to_note()`**](https://librosa.org/doc/main/generated/librosa.midi_to_note.html) y [**`librosa.note_to_hz()`**](https://librosa.org/doc/main/generated/librosa.note_to_hz.html)  de la librería `librosa` para convertir frecuencias y notas."
   ]
  },
  {
   "cell_type": "code",
   "execution_count": null,
   "id": "4a9031ae",
   "metadata": {},
   "outputs": [],
   "source": [
    "# ['C2' 'C3' 'C4' 'C5' 'C6' 'C7' 'C8']\n",
    "pitches = [36, 48, 60, 72, 84, 96, 108]\n",
    "\n",
    "f = librosa.midi_to_hz(pitches)\n",
    "print(\"Frecuencia (midi to hz): \", f)\n",
    "\n",
    "notas = librosa.midi_to_note(pitches)\n",
    "print(\"Notas (midi to note): \", notas)\n",
    "\n",
    "f = librosa.note_to_hz(notas)\n",
    "print(\"Frecuencias (note to hz): \", f)"
   ]
  },
  {
   "cell_type": "markdown",
   "id": "562c3d89",
   "metadata": {},
   "source": [
    "-----------------"
   ]
  },
  {
   "cell_type": "markdown",
   "id": "c58d18ac",
   "metadata": {},
   "source": [
    "# **Referencias**\n",
    "\n",
    "Nos parece muy interesante el libro digital de uso libre no solamente para esta clase de repaso de conceptos matemáticos sino para todas las clases de este módulo de procesamiento de la señal digital.\n",
    "\n",
    "\n",
    "[**Mathematics of the DFT with audio applications**](http://www.dsprelated.com/freebooks/mdft/)\n",
    "\n",
    "[**Spectral Audio Signal Processing**](http://www.dsprelated.com/freebooks/sasp/)\n",
    "\n",
    "[**Demos**](http://pages.jh.edu/~signals/)\n",
    "\n",
    "[**Breve historia de la música por ordenador**](https://www.musicradar.com/news/tech/a-brief-history-of-computer-music-177299)\n",
    "\n",
    "[**Sinusoides (libro web)**](https://ccrma.stanford.edu/~jos/mdft/Sinusoids.html)\n",
    "\n",
    "[**Tunetoys**](http://nosuch.com/tjt/tunetoys.html)\n",
    "\n",
    "[***Public Domain Music (pdmusic.org)***](http://www.pdmusic.org)\n",
    "\n",
    "[***Composers Offering MIDI Files on the Net***](http://aitech.ac.jp/~ckelly/SMF.html)\n",
    "\n",
    "[***Searching the Internet for a Certain MIDI File***](https://www.manythings.org/midi/search.html)"
   ]
  },
  {
   "cell_type": "markdown",
   "id": "ade2a305",
   "metadata": {},
   "source": [
    "---"
   ]
  },
  {
   "cell_type": "markdown",
   "id": "3e3018c9",
   "metadata": {},
   "source": [
    "Aquí te dejo varios audios que puedes generar si te apetece:"
   ]
  },
  {
   "cell_type": "markdown",
   "id": "bb6c2bf9",
   "metadata": {},
   "source": [
    "\n",
    "1. Canción número 1.\n",
    "\n",
    "    <center>\n",
    "\n",
    "    **Do4 - Do5 - Si4 - Sol4 - La4 - Si4 - Do5** \\\n",
    "    **Do4 - La4 - Sol4** \\\n",
    "    **La3 - Fa4 - Mi4 - Do4 - Re4 - Mi4 - Fa4** \\\n",
    "    **Re4 - Si3 - Do4 - Re4 - Mi4 - Do4**\n",
    "\n",
    "    </center>\n",
    "\n",
    "    y las longitudes de las notas son:\n",
    "\n",
    "    <center>\n",
    "\n",
    "    **1, 1, 1/2, 1/4, 1/4, 1/2, 1/2** \\\n",
    "    **1, 1, 2** \\\n",
    "    **1, 1, 1/2, 1/4, 1/4, 1/2, 1/2** \\\n",
    "    **1/2, 1/4, 1/4, 1/2, 1/2, 2**\n",
    "\n",
    "    </center>\n"
   ]
  },
  {
   "cell_type": "markdown",
   "id": "d7ac76e7",
   "metadata": {},
   "source": [
    "<hr style=\"border: 1px solid pink\" />"
   ]
  },
  {
   "cell_type": "code",
   "execution_count": null,
   "id": "2dae9638",
   "metadata": {},
   "outputs": [],
   "source": [
    "# 1. Cancion numero 1.\n",
    "\n",
    "notas=[\n",
    "    'C4', 'C5', 'B4', 'G4', 'A4', 'B4', 'C5',   # Do4 - Do5 - Si4 - Sol4 - La4 - Si4 - Do5\n",
    "    'C4', 'A4', 'G4',                           # Do4 - La4 - Sol4\n",
    "    'A3', 'F4', 'E4', 'C4', 'D4', 'E4', 'F4',   # La3 - Fa4 - Mi4 - Do4 - Re4 - Mi4 - Fa4\n",
    "    'D4', 'B3', 'C4', 'D4', 'E4', 'C4']         # Re4 - Si3 - Do4 - Re4 - Mi4 - Do4\n",
    "\n",
    "duracion = [\n",
    "    1, 1, 0.5, 0.25, 0.25, 0.5, 0.5, \n",
    "    1, 1, 2, \n",
    "    1, 1, 0.5, 0.25, 0.25, 0.5, 0.5, \n",
    "    0.5, 0.25, 0.25, 0.5, 0.5, 2]"
   ]
  },
  {
   "cell_type": "code",
   "execution_count": null,
   "id": "5905e81e",
   "metadata": {},
   "outputs": [],
   "source": [
    "# Realiza la tarea"
   ]
  },
  {
   "cell_type": "markdown",
   "id": "e019163f",
   "metadata": {},
   "source": [
    "<hr style=\"border: 1px solid green\" />"
   ]
  },
  {
   "cell_type": "markdown",
   "id": "6a60a2ad",
   "metadata": {},
   "source": [
    "2. Canción número 2: Todas las notas tienen una duración igual (1 segundo).\n",
    "  \n",
    "    <center>\n",
    "\n",
    "    **Re5  - La4 - Si4  - Fa#4 - Sol4 - Re4** \\\n",
    "    **Sol4 - La4 - Fa#5 - Mi5  - Re5  - Do#5** \\\n",
    "    **Si4  - La4 - Si4  - Do#5 - Re5  - Do#5** \\\n",
    "    **Si4  - La4 - Sol4 - Fa#4 - Sol4 - Mi4**\n",
    "    \n",
    "    </center>"
   ]
  },
  {
   "cell_type": "markdown",
   "id": "00da194c",
   "metadata": {},
   "source": [
    "<hr style=\"border: 1px solid pink\" />"
   ]
  },
  {
   "cell_type": "code",
   "execution_count": null,
   "id": "b2a2106d",
   "metadata": {},
   "outputs": [],
   "source": [
    "# 2. Cancion numero 2.\n",
    "\n",
    "notas = [\n",
    "    'D5', 'A4', 'B4', 'F#4', 'G4', 'D4',     # Re5  - La4 - Si4  - Fa#4 - Sol4 - Re4\n",
    "    'G4', 'A4', 'F#5', 'E5', 'D5', 'C#5',    # Sol4 - La4 - Fa#5 - Mi5  - Re5  - Do#5\n",
    "    'B4', 'A4', 'B4', 'C#5', 'D5', 'C#5',    # Si4  - La4 - Si4  - Do#5 - Re5  - Do#5\n",
    "    'B4', 'A4', 'G4', 'F#4', 'G4', 'E4']     # Si4  - La4 - Sol4 - Fa#4 - Sol4 - Mi4"
   ]
  },
  {
   "cell_type": "code",
   "execution_count": null,
   "id": "6cb4d898",
   "metadata": {},
   "outputs": [],
   "source": [
    "# Realiza la tarea"
   ]
  },
  {
   "cell_type": "markdown",
   "id": "ec8e5e33",
   "metadata": {},
   "source": [
    "<hr style=\"border: 1px solid green\" />"
   ]
  },
  {
   "cell_type": "markdown",
   "id": "92b26a47",
   "metadata": {},
   "source": [
    "3. Canción número 3: Todas las notas tienen una duración igual (0.5 segundos).\n",
    "  \n",
    "    <center>\n",
    "\n",
    "    **Re5  - Do#5 - Re5  - Re4** \\\n",
    "    **Do#4 - La4  - Mi4  - Fa#4** \\\n",
    "    **Re4  - Re5  - Do#4 - Si4** \\\n",
    "    **Do#5 - Fa#5 - La5  - Si5** \\\n",
    "    **Sol5 - Fa#5 - Mi5  - Sol5** \\\n",
    "    **Fa#5 - Mi5  - Re5  - Do#5**\n",
    "    \n",
    "    </center>"
   ]
  },
  {
   "cell_type": "markdown",
   "id": "e1abf938",
   "metadata": {},
   "source": [
    "<hr style=\"border: 1px solid pink\" />"
   ]
  },
  {
   "cell_type": "code",
   "execution_count": null,
   "id": "b6a55c98",
   "metadata": {},
   "outputs": [],
   "source": [
    "# 3. Cancion numero 3.\n",
    "\n",
    "notas = [\n",
    "    'D5', 'C#5', 'D5', 'D4',     # re, do#, re, re4\n",
    "    'C#4', 'A4', 'E4', 'F#4',    # do#, la, mi, fa#\n",
    "    'D4', 'D5', 'C#4', 'B4',     # re4, re, do#, si, \n",
    "    'C#5', 'F#5', 'A5', 'B5',    # do#, fa#, la, si\n",
    "    'G5', 'F#5', 'E5', 'G5',     # sol, fa#, mi, sol, \n",
    "    'F#5', 'E5', 'D5', 'C#5']    # fa#, mi, re, do#\n"
   ]
  },
  {
   "cell_type": "code",
   "execution_count": null,
   "id": "6943e863",
   "metadata": {},
   "outputs": [],
   "source": [
    "# Realiza la tarea"
   ]
  },
  {
   "cell_type": "markdown",
   "id": "966b5111",
   "metadata": {},
   "source": [
    "<hr style=\"border: 1px solid green\" />"
   ]
  },
  {
   "cell_type": "markdown",
   "id": "5d61c06c",
   "metadata": {},
   "source": [
    "4. Las primeras 10 notas de la canción \"*Amazing Grace*\" ([**link**](https://es.wikipedia.org/wiki/Amazing_Grace)). \n",
    "\n",
    "    Las notas de la melodía (una de la muchas versiones) son:\n",
    "\n",
    "    <center>\n",
    "\n",
    "    **G4, C4, E4, D4, C4, E4, D4, C4, A4, G4**\n",
    "\n",
    "    </center>\n",
    "  \n",
    "    y las longitudes de las notas son:\n",
    "\n",
    "    <center>\n",
    "\n",
    "    **1, 2, 1/2, 1/3, 1/6, 2, 1, 2, 1, 2**\n",
    "\n",
    "    </center>"
   ]
  },
  {
   "cell_type": "markdown",
   "id": "9ea107cd",
   "metadata": {},
   "source": [
    "<hr style=\"border: 1px solid pink\" />"
   ]
  },
  {
   "cell_type": "code",
   "execution_count": null,
   "id": "99c196c8",
   "metadata": {},
   "outputs": [],
   "source": [
    "# 4. Amazing Grace\n",
    "notas = ['G4', 'C4', 'E4', 'D4', 'C4', 'E4', 'D4', 'C4', 'A4', 'G4']\n",
    "duracion = [1, 2, 0.5, 0.3333, 0.1667, 2, 1, 2, 1, 2]"
   ]
  },
  {
   "cell_type": "code",
   "execution_count": null,
   "id": "7c3e31ad",
   "metadata": {},
   "outputs": [],
   "source": [
    "# Realiza la tarea"
   ]
  },
  {
   "cell_type": "markdown",
   "id": "ec10d384",
   "metadata": {},
   "source": [
    "---"
   ]
  }
 ],
 "metadata": {
  "kernelspec": {
   "display_name": "Python 3",
   "language": "python",
   "name": "python3"
  },
  "language_info": {
   "codemirror_mode": {
    "name": "ipython",
    "version": 3
   },
   "file_extension": ".py",
   "mimetype": "text/x-python",
   "name": "python",
   "nbconvert_exporter": "python",
   "pygments_lexer": "ipython3",
   "version": "3.10.12"
  }
 },
 "nbformat": 4,
 "nbformat_minor": 5
}
