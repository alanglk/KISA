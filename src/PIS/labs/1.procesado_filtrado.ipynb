{
 "cells": [
  {
   "cell_type": "markdown",
   "id": "seasonal-maryland",
   "metadata": {},
   "source": [
    "# **Procesado básico de la señal: Filtrado**\n",
    "## Procesamiento de Imagen y Señal\n",
    "### **ESCRIBE TU NOMBRE AQUI**\n",
    "### Curso 2024-2025"
   ]
  },
  {
   "cell_type": "code",
   "execution_count": null,
   "id": "358ff51d",
   "metadata": {},
   "outputs": [],
   "source": [
    "import math\n",
    "import cmath\n",
    "\n",
    "import os\n",
    "import sys\n",
    "\n",
    "import random\n",
    "\n",
    "##\n",
    "\n",
    "import warnings\n",
    "warnings.filterwarnings('ignore')\n",
    "\n",
    "##\n",
    "\n",
    "import numpy as np\n",
    "\n",
    "import matplotlib as mpl\n",
    "import matplotlib.pyplot as plt\n",
    "from matplotlib.colors import LogNorm\n",
    "import matplotlib.image as im\n",
    "\n",
    "from scipy import signal, fftpack, ndimage\n",
    "from scipy.fft import fft, ifft\n",
    "\n",
    "import scipy.signal as sp_s\n",
    "import scipy.io as sp_io\n",
    "\n",
    "from scipy.io import wavfile\n",
    "\n",
    "from scipy.ndimage import convolve\n",
    "\n",
    "### Audio\n",
    "from IPython.display import Image, HTML, display\n",
    "import IPython.display as ipd\n",
    "import librosa\n",
    "import librosa.display\n",
    "\n",
    "from pydub import AudioSegment\n",
    "from pydub.effects import normalize\n",
    "from pydub.playback import play\n",
    "\n",
    "import soundfile as sf\n",
    "\n",
    "#### Important tips\n",
    "# To hear the signal\n",
    "# ipd.Audio(x, rate=fs)\n",
    "####\n",
    "\n",
    "### Image\n",
    "from PIL import Image\n",
    "from skimage import io, transform, img_as_ubyte, img_as_float, data, exposure\n",
    "import cv2"
   ]
  },
  {
   "cell_type": "code",
   "execution_count": null,
   "id": "d68faac3",
   "metadata": {},
   "outputs": [],
   "source": [
    "sys.path.append(os.getcwd())\n",
    "\n",
    "# Funciones auxiliares\n",
    "path = \"code/\"\n",
    "\n",
    "# Add the directory containing your module to the Python path (wants absolute paths)\n",
    "sys.path.append(os.path.abspath(path))\n",
    "\n",
    "from f_audio_player_list import *\n",
    "from f_plot import *\n",
    "from f_get_random import *"
   ]
  },
  {
   "cell_type": "markdown",
   "id": "e20feeb5",
   "metadata": {},
   "source": [
    "---"
   ]
  },
  {
   "cell_type": "markdown",
   "id": "712eec34",
   "metadata": {},
   "source": [
    "# **Introducción**\n",
    "\n",
    "El proceso por el cual una determinada señal se modifica (se atenúa o se elimina una  parte  de  su  espectro  de  frecuencias)  se  denomina  **filtrado**,  y  al  sistema  que  realiza  dicha acción se le llama **filtro**. \n",
    "\n",
    "El rango de frecuencias atenuadas o filtradas es lo que se conoce como **banda de rechazo**, mientras que las restantes frecuencias forman lo que se llama **banda de paso**."
   ]
  },
  {
   "cell_type": "markdown",
   "id": "bd12adce",
   "metadata": {},
   "source": [
    "---"
   ]
  },
  {
   "cell_type": "markdown",
   "id": "f3c48923",
   "metadata": {},
   "source": [
    "# **Filtros paso-bajo, paso-alto, paso-banda**\n",
    "\n",
    "En función de como sea la banda de paso, se pueden definir los siguientes tipos de filtro:\n",
    "\n",
    "* Filtro paso-bajo, cuando se atenúan todas las frecuencias por encima de una dada. \n",
    "* Filtro paso-alto, cuando se atenúan todas las frecuencias por debajo de una dada.\n",
    "* Filtro paso-banda, cuando se atenúan todas las frecuencias que no estén entre dos valores dados.\n",
    "* Filtro rechazo-banda o suprime-banda (*band-stop*), cuando se atenúan todas las frecuencias que estén entre dos valores dados."
   ]
  },
  {
   "cell_type": "markdown",
   "id": "9255b828",
   "metadata": {},
   "source": [
    "---"
   ]
  },
  {
   "cell_type": "markdown",
   "id": "0903ed12",
   "metadata": {},
   "source": [
    "# **Filtros FIR e IIR**\n",
    "\n",
    "## **Filtro FIR**\n",
    "\n",
    "Un filtro de tipo FIR (*Finite Impulse Response*) es una operación lineal sobre una señal discreta que produce respuestas de impulso finitas. \n",
    "\n",
    "La base de los filtros FIR consiste en conectar la entrada del filtro a una serie de retardos. El primero con sólo una muestra de retraso, el segundo con dos, el tercero con tres y así sucesivamente. En seguida se amplifica o atenúa cada retraso con un factor de ganancia específico y finalmente se suman las salidas. Al organizar estas ganancias una detrás de otra obtenemos la respuesta impulso del filtro.\n",
    "\n",
    "Si se toma la transformada Z se puede representar la respuesta en frecuencia del filtro, la cual depende completamente de los \"*taps*\" o coeficientes del filtro o factores de ganancias o valores de la respuesta impulso."
   ]
  },
  {
   "cell_type": "markdown",
   "id": "292b66a0",
   "metadata": {},
   "source": [
    "$$\\text{Finite Impulse Response (FIR) Filter: }y[n]=\\sum^{M}_{k=0}b[k]x[n-k]$$"
   ]
  },
  {
   "cell_type": "markdown",
   "id": "b8181fb6",
   "metadata": {},
   "source": [
    "donde los $(M+1)$ coeficientes son $b[n]$ con $n=0, ..., M$."
   ]
  },
  {
   "cell_type": "markdown",
   "id": "c35eb41e",
   "metadata": {},
   "source": [
    "<hr style=\"border: 1px solid green\" />"
   ]
  },
  {
   "cell_type": "markdown",
   "id": "931821b2",
   "metadata": {},
   "source": [
    "### **Ejemplo**\n",
    "\n",
    "Vamos a aplicar un filtro FIR \"*band-stop*\" a una señal de audio `audio_pipeline/aircrew.wav`."
   ]
  },
  {
   "cell_type": "code",
   "execution_count": null,
   "id": "ea210981",
   "metadata": {},
   "outputs": [],
   "source": [
    "ipd.Audio('audio_pipeline/aircrew.wav')"
   ]
  },
  {
   "cell_type": "code",
   "execution_count": null,
   "id": "0e6032e4",
   "metadata": {},
   "outputs": [],
   "source": [
    "# scipy.signal == sp_s\n",
    "\n",
    "x, fs = sf.read('audio_pipeline/aircrew.wav')\n",
    "\n",
    "# fs_nyquist = ...\n",
    "\n",
    "# Ancho de la region de transicion (50Hz / frecuencia Nyquist)\n",
    "# width = ...\n",
    "\n",
    "# ondulacion\n",
    "ripple_db = 60 # atenuacion en dB\n",
    "\n",
    "# Filtro FIR (orden y parametro Kaiser)\n",
    "# Buscamos los parametros de la ventana de filtro para el metodo de ventana de Kaiser\n",
    "# https://es.wikipedia.org/wiki/Ventana_de_Kaiser\n",
    "\n",
    "# N, beta = sp_s.kaiserord(ripple_db, width)\n",
    "\n",
    "# Band-stop en Hz\n",
    "bandas = [1200, 1500]\n",
    "\n",
    "# Filtro con una ventana Kaiser para crear un filtro FIR paso-bajo\n",
    "# parametros: numero-taps y cutoff\n",
    "\n",
    "# Respuesta del filtro donde \"w\" es la matriz de frecuencias y \"h\" es la matriz \n",
    "# compleja correspondiente de respuestas de frecuencia\n",
    "\n",
    "# Convert w to Hz\n",
    "\n",
    "# Dibujamos el filtro con la funcion: plot_FIR_filter_spec()\n",
    "\n",
    "# Aplicamos el filtro a la senal de audio y lo oimos"
   ]
  },
  {
   "cell_type": "markdown",
   "id": "73d176c5",
   "metadata": {},
   "source": [
    "Como vemos, la grabación contiene mucho ruido de fondo a altas frecuencias. Por ello, vamos a diseñar un filtro paso-bajo para filtrar la señal."
   ]
  },
  {
   "cell_type": "code",
   "execution_count": null,
   "id": "fa6fa6c4",
   "metadata": {},
   "outputs": [],
   "source": [
    "# scipy.signal == sp_s\n",
    "\n",
    "# Banda stop en Hz\n",
    "bandas = [2100]  \n",
    "\n",
    "# Filtro con una ventana Kaiser para crear un filtro FIR paso-bajo\n",
    "# parametros: numero-taps y cutoff\n",
    "\n",
    "# Respuesta del filtro donde \"w\" es la matriz de frecuencias y \"h\" es la matriz \n",
    "# compleja correspondiente de respuestas de frecuencia\n",
    "\n",
    "# Convert w to Hz\n",
    "\n",
    "# Dibujamos el filtro con la funcion: plot_FIR_filter_spec()\n",
    "\n",
    "# Aplicamos el filtro a la senal de audio y lo oimos"
   ]
  },
  {
   "cell_type": "markdown",
   "id": "d3e400ec",
   "metadata": {},
   "source": [
    "Aplicando Fourier podemos realizar un filtrado similar."
   ]
  },
  {
   "cell_type": "code",
   "execution_count": null,
   "id": "4c749cd2",
   "metadata": {},
   "outputs": [],
   "source": [
    "T_s = 1/fs\n",
    "N_s = len(x)\n",
    "t = np.arange(0, N_s*T_s, T_s)\n",
    "\n",
    "X = fft(x)\n",
    "\n",
    "cutoff = 2200\n",
    "# band-stop [1200, 1500]\n",
    "band_i = 1200\n",
    "band_f = 1500\n",
    "n   = round(cutoff/fs*N_s)     # calculate the frequency index\n",
    "n_i = round(band_i/fs*N_s)\n",
    "n_f = round(band_f/fs*N_s)\n",
    "\n",
    "X[n:-n] = 0       # low-pass\n",
    "X[n_i:n_f] = 0    # band-stop (1)\n",
    "X[-n_f:-n_i] = 0  # band-stop (2)\n",
    "\n",
    "y = np.real(ifft(X))\n",
    "ipd.Audio(y, rate=fs)"
   ]
  },
  {
   "cell_type": "markdown",
   "id": "e906d2c9",
   "metadata": {},
   "source": [
    "---"
   ]
  },
  {
   "cell_type": "markdown",
   "id": "16ddc49d",
   "metadata": {},
   "source": [
    "## **Filtro IIR**\n",
    "\n",
    "Un filtro de respuesta de impulso infinito (IIR, *Infinite Impulse Response*) tiene respuestas impulso de longitud infinita y la respuesta depende no solo de los valores de entrada actuales y anteriores, sino también de los valores de salida anteriores. Puede representarse mediante ecuaciones de diferencias (sumas y restas de entradas y salidas con retrasos), una función de transferencia o un diagrama de bloques. \n",
    "\n",
    "Un filtro IIR, además de utilizar retrasos para los valores a la entrada del filtro, toma también los valores de la salida, les aplica una nueva cadena de retrasos y retroalimenta esta señal a la entrada del filtro.\n",
    "\n",
    "Los más comunes son los filtros *Butterworth*, *Chebyshev*, elípticos y de *Bessel*. Estos filtros tienen diferentes respuestas de frecuencia, ondulación de banda de paso y banda de parada, ancho de banda de transición y distorsión de fase. Dependiendo de su aplicación, puede elegir el tipo de filtro IIR que mejor se adapte a sus necesidades y especificaciones.  \n",
    "\n",
    "Para diseñar un filtro IIR, debe especificar el orden del filtro, la frecuencia de corte y la atenuación de la banda de paso y de la banda de parada. Para encontrar los coeficientes del filtro se pueden utilizar diferentes técnicas como la transformada bilineal, método invariante de momento o el método de colocación de polo cero.\n",
    "\n",
    "Una de las principales ventajas de los filtros IIR es que pueden lograr el mismo rendimiento de filtrado que los filtros FIR con orden inferior y menor complejidad computacional. Otra ventaja de los filtros IIR es que pueden aproximarse a los filtros analógicos, lo que los hace útiles para la conversión de analógico a digital y la reconstrucción de señales."
   ]
  },
  {
   "cell_type": "markdown",
   "id": "776a3b93",
   "metadata": {},
   "source": [
    "$$\\text{Infinite Impulse Response (IIR) Filter: }y[n]=\\sum^{M}_{k=0}b[k]x[n-k]-\\sum^{N}_{k=1}a[k]y[n-k]$$"
   ]
  },
  {
   "cell_type": "markdown",
   "id": "84e931b7",
   "metadata": {},
   "source": [
    "<hr style=\"border: 1px solid pink\" />"
   ]
  },
  {
   "cell_type": "markdown",
   "id": "5dd236d4",
   "metadata": {},
   "source": [
    "En `Python` podemos utilizar la función `scipy.signal.filtfilt(b, a, x)` para generar filtros FIR e IIR donde $$b = \\big[b[0],\\: b[1], \\cdots, b[1-M]\\big]$$ y $$a=\\big[1,\\: a[1], a[2], \\cdots, a[N-1]\\big]$$.\n",
    "\n",
    "Los filtros FIR pueden implementarse con esta función donde $a=[1]$"
   ]
  },
  {
   "cell_type": "markdown",
   "id": "143b413b",
   "metadata": {},
   "source": [
    "<hr style=\"border: 1px solid pink\" />"
   ]
  },
  {
   "cell_type": "markdown",
   "id": "2cc08edc",
   "metadata": {},
   "source": [
    "### **Ejemplo**"
   ]
  },
  {
   "cell_type": "code",
   "execution_count": null,
   "id": "49f91197",
   "metadata": {},
   "outputs": [],
   "source": [
    "# scipy.signal == sp_s\n",
    "\n",
    "fs = 44100\n",
    "# band-stop\n",
    "bandas = [1200, 1500]\n",
    "\n",
    "N = 5\n",
    "\n",
    "# fs_nyquist = ...\n",
    "\n",
    "# Filtros band-stop (IIR) mediante la funcion butter() del paquete scipy.sinal\n",
    "\n",
    "# Filtros paso-bajo (frecuencia de corte = 2000 Hz) y N = 15\n",
    "\n",
    "# Oir la senal filtrada"
   ]
  },
  {
   "cell_type": "markdown",
   "id": "0e07cf12",
   "metadata": {},
   "source": [
    "<hr style=\"border: 1px solid green\" />"
   ]
  },
  {
   "cell_type": "markdown",
   "id": "976ebb6b",
   "metadata": {},
   "source": [
    "2. Filtra el audio `audio_pipeline/bass_oboe_raphael.wav` de forma que el filtro \"deje pasar\" solo las frecuencias entre $1000$ Hz y $3000$ Hz. Visualiza y oye la señal filtrada. Visualiza también los espectros de la señal original y de la filtrada.\n",
    "    La frecuencia $1000$ Hz, ¿ a qué \"bin\"\" de la FFT corresponde ? ¿ Y la de $3000$ Hz ?\n",
    "    \n",
    "    Nota: El \"bin\" ($n$) al que pertenece una frecuencia ($f$) dada una frecuencia de muestreo ($fs$) y el tamaño de la ventana del análisis de Fourier ($N$) viene dado por la siguiente ecuación:\n",
    "\n",
    "    $$n = \\frac{f * N}{fs}$$\n",
    "\n",
    "    * Respuesta: **Escribe aquí tu respuesta**"
   ]
  },
  {
   "cell_type": "code",
   "execution_count": null,
   "id": "17e71a66",
   "metadata": {},
   "outputs": [],
   "source": [
    "# Filtra la señal, visualizala, oyela y visualiza los espectros de la señal original y de la señal filtrada."
   ]
  },
  {
   "cell_type": "code",
   "execution_count": null,
   "id": "99925f4e",
   "metadata": {},
   "outputs": [],
   "source": [
    "# Leer el fichero\n",
    "file = \"audio_pipeline/bass_oboe_raphael.wav\"\n",
    "x, fs = librosa.load(file, sr=sf.info(file).samplerate)\n",
    "\n",
    "# Aplicar un filtro paso-banda de 1000-3000 Hz a  la senal original\n",
    "\n",
    "# Dibujar la senal, el espectro y el espectrograma con la funcion plotN_wss() (ver fichero code/f_plot.y)\n",
    "\n",
    "# Oir el audio original y el audio filtrado. Puedes utilizar la funcion audio_player_list() (ver fichero code/audio_player_list())"
   ]
  },
  {
   "cell_type": "markdown",
   "metadata": {},
   "source": [
    "<hr style=\"border: 1px solid green\" />"
   ]
  },
  {
   "cell_type": "markdown",
   "id": "e8a2a1ce",
   "metadata": {},
   "source": [
    "3. **Filtros espaciales**: \n",
    "    + Selecciona aleatoriamente una imagen del directorio `images_RGB`.\n",
    "    + Aplícale un filtro de convolución gaussiano, un filtro de la mediana y un filtro del punto medio."
   ]
  },
  {
   "cell_type": "code",
   "execution_count": null,
   "id": "9d5863af",
   "metadata": {},
   "outputs": [],
   "source": [
    "# Realiza la tarea"
   ]
  },
  {
   "cell_type": "code",
   "execution_count": null,
   "id": "6db0255d",
   "metadata": {},
   "outputs": [],
   "source": [
    "# Una aleatoria\n",
    "n_folder = \"images_RGB\"\n",
    "name_image = get_random_image_path(n_folder)\n",
    "print(name_image)\n",
    "\n",
    "# Leemos la imagen\n",
    "im = io.imread(name_image)\n",
    "im_f = img_as_float(im)\n",
    "\n",
    "# Aplicar el filtro de convolucion gaussiano (filtro blur), un fichero de mediana y un filtro del punto medio.\n",
    "# Visualizar la imagen original y las filtradas con la funcion plotN_im() (ver fichero code/f_plot.y)"
   ]
  },
  {
   "cell_type": "markdown",
   "id": "6c5f3834",
   "metadata": {},
   "source": [
    "---"
   ]
  },
  {
   "cell_type": "markdown",
   "id": "8dcaa68f",
   "metadata": {},
   "source": [
    "4. **Separación de cantos de pájaros mediante filtrado**\n",
    "\n",
    "+ Oye el audio `audio_natura/XC403881_Turpial dorsidorado_Icterus chrysater.mp3`\n",
    "+ Separa dos zonas de frecuencias: $1700-2600$ Hz y $5100-6100$ Hz mediante operaciones de filtrado."
   ]
  },
  {
   "cell_type": "code",
   "execution_count": null,
   "id": "a6e7f71d",
   "metadata": {},
   "outputs": [],
   "source": [
    "# Una aleatoria\n",
    "#n_folder = \"audio_natura\"\n",
    "#name_audio = get_random_audio_path(n_folder)\n",
    "#print(name_audio)\n",
    "\n",
    "name_audio = \"audio_natura/XC403881_Turpial dorsidorado_Icterus chrysater.mp3\"\n",
    "\n",
    "# Leemos el audio\n",
    "x, fs = librosa.load(name_audio)\n",
    "ipd.Audio(x, rate=fs)"
   ]
  },
  {
   "cell_type": "code",
   "execution_count": null,
   "id": "26ba3198",
   "metadata": {},
   "outputs": [],
   "source": [
    "# Separa dos zonas de frecuencias: $1700-2600$ Hz y $5100-6100$ Hz mediante operaciones de filtrado\n",
    "# Visualiza los espectros y espectrogramas del audio general y de los audios filtrados.\n",
    "# Oir el audio original y el audio filtrado. Puedes utilizar la funcion audio_player_list() (ver fichero code/audio_player_list())"
   ]
  },
  {
   "cell_type": "markdown",
   "id": "dd13562e",
   "metadata": {},
   "source": [
    "5. **Eliminación del ruido mediante filtrado**\n",
    "\n",
    "+ Elimina el ruido de la línea eléctrica y sus armónicos.\n",
    "+ La señal se encuentra en el fichero `data/lineNoiseData.mat` y puede leerse mediante la función del paquete `scipy.io` [**`loadmat()`**](https://docs.scipy.org/doc/scipy/reference/generated/scipy.io.loadmat.html). Las frecuencias de ruido se encuentran a $50$ Hz, $150$ Hz y $250$ Hz como puede verse en el espectro de la señal."
   ]
  },
  {
   "cell_type": "code",
   "execution_count": null,
   "id": "f0243948",
   "metadata": {},
   "outputs": [],
   "source": [
    "# Carga los datos\n",
    "linedata = sp_io.loadmat('data/lineNoiseData.mat')\n",
    "data  = np.squeeze(linedata['data'])\n",
    "fs = linedata['srate'][0][0]\n",
    "\n",
    "# Visualiza la senal y el espectro \n",
    "# Aplica un filtro para eliminar las frecuencia de ruido y sus armonicos (50 Hz, 150 Hz, 250 Hz)\n",
    "# Visualiza la senal filtrada"
   ]
  }
 ],
 "metadata": {
  "kernelspec": {
   "display_name": "Python 3",
   "language": "python",
   "name": "python3"
  },
  "language_info": {
   "codemirror_mode": {
    "name": "ipython",
    "version": 3
   },
   "file_extension": ".py",
   "mimetype": "text/x-python",
   "name": "python",
   "nbconvert_exporter": "python",
   "pygments_lexer": "ipython3",
   "version": "3.12.7"
  }
 },
 "nbformat": 4,
 "nbformat_minor": 5
}
