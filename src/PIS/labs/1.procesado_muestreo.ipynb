{
 "cells": [
  {
   "cell_type": "markdown",
   "id": "seasonal-maryland",
   "metadata": {},
   "source": [
    "# **Procesado básico de la señal: Muestreo**\n",
    "## Procesamiento de Imagen y Señal\n",
    "### **ESCRIBE TU NOMBRE AQUI**\n",
    "### Curso 2024-2025"
   ]
  },
  {
   "cell_type": "code",
   "execution_count": null,
   "id": "358ff51d",
   "metadata": {},
   "outputs": [],
   "source": [
    "import math\n",
    "import cmath\n",
    "\n",
    "import os\n",
    "import sys\n",
    "\n",
    "##\n",
    "\n",
    "import warnings\n",
    "warnings.filterwarnings('ignore')\n",
    "\n",
    "##\n",
    "\n",
    "import numpy as np\n",
    "import matplotlib.pyplot as plt\n",
    "from matplotlib.colors import LogNorm\n",
    "import matplotlib.image as im\n",
    "\n",
    "from scipy import signal, fftpack, ndimage\n",
    "from scipy.fft import fft, ifft\n",
    "\n",
    "import scipy.signal as sp_s\n",
    "import scipy.io as sp_io\n",
    "\n",
    "from scipy.signal import chirp, spectrogram\n",
    "from scipy.io import wavfile\n",
    "\n",
    "### Audio\n",
    "from IPython.display import Image, HTML, display\n",
    "import IPython.display as ipd\n",
    "import librosa\n",
    "import librosa.display\n",
    "\n",
    "from pydub import AudioSegment\n",
    "from pydub.effects import normalize\n",
    "from pydub.playback import play\n",
    "\n",
    "import soundfile as sf\n",
    "\n",
    "#### Important tips\n",
    "# To hear the signal\n",
    "# ipd.Audio(x, rate=fs)\n",
    "####\n",
    "\n",
    "### Image\n",
    "from PIL import Image\n",
    "\n",
    "from skimage import io, transform"
   ]
  },
  {
   "cell_type": "code",
   "execution_count": null,
   "id": "d68faac3",
   "metadata": {},
   "outputs": [],
   "source": [
    "sys.path.append(os.getcwd())\n",
    "\n",
    "# Funciones auxiliares\n",
    "path = \"code/\"\n",
    "\n",
    "# Add the directory containing your module to the Python path (wants absolute paths)\n",
    "sys.path.append(os.path.abspath(path))\n",
    "\n",
    "from f_audio_player_list import *\n",
    "\n",
    "from f_plot import *\n",
    "from f_get_random import *"
   ]
  },
  {
   "cell_type": "code",
   "execution_count": null,
   "id": "b27f714d",
   "metadata": {},
   "outputs": [],
   "source": [
    "# Plot two,three and four images side by side\n",
    "\n",
    "def plot2(s1, s2, c1=None, c2=None):\n",
    "    image1 = im.imread(s1)\n",
    "    image2 = im.imread(s2)\n",
    "\n",
    "    fig, (ax1,ax2) = plt.subplots(nrows=1,ncols=2,figsize=(15,10))\n",
    "\n",
    "    ax1.set_title(c1)\n",
    "    ax1.imshow(image1)\n",
    "    ax2.set_title(c2)\n",
    "    ax2.imshow(image2)\n",
    "    plt.show()"
   ]
  },
  {
   "cell_type": "markdown",
   "id": "e20feeb5",
   "metadata": {},
   "source": [
    "---"
   ]
  },
  {
   "cell_type": "markdown",
   "id": "89fd8660",
   "metadata": {},
   "source": [
    "# **Muestreo y *Aliasing***\n",
    "\n",
    "Cuando se obtienen muestras periódicas de una señal sinusoidal, puede ocurrir que se obtengan las mismas muestras que se obtendrían de una señal sinusoidal igual pero con frecuencia más baja.\n",
    "\n",
    "Un ejemplo, si una sinusoide de frecuencia $f$ Hz se muestrea $s$ veces por segundo, y $s \\leq 2 f$, entonces las muestras resultantes también serán compatibles con una sinusoide de frecuencia $f_{m}-f$, donde $f_{m}$ es la frecuencia de muestreo. \n",
    "\n",
    "En este caso, cada una de las sinusoides se convierte en un \"alias\" para la otra."
   ]
  },
  {
   "cell_type": "code",
   "execution_count": null,
   "id": "54ba2979",
   "metadata": {},
   "outputs": [],
   "source": [
    "plot2(\"images/aliasing-examples.png\", \"images/Aliasing-plot.png\")"
   ]
  },
  {
   "cell_type": "markdown",
   "id": "bbcd8867",
   "metadata": {},
   "source": [
    "<hr style=\"border: 1px solid pink\" />"
   ]
  },
  {
   "cell_type": "markdown",
   "id": "b48a1246",
   "metadata": {},
   "source": [
    "1. Elige una de las siguientes cuestiones:\n",
    "   * (**Grupo 1**) Genera la señal $x(t)=sin(t \\cdot \\pi)$ donde $t \\in \\lbrack 0, 100 \\rbrack$. \n",
    "      1. Visualiza $10000$ muestras de la función.\n",
    "      2. Visualiza $100$ muestras de este muestreo previo con un paso de $100$, $101$ y $102$ unidades.\n",
    "   * (**Grupo 2**) Obtén una señal “tren de impulsos” cada $5$ elementos y muestrea la señal cada $5$ elementos (unas $50-60$ muestras). Visualiza tanto la señal original como la señal muestreada.\n",
    "   * (**Grupo 3**) Genera la señal $x(t)=sin(t)$ y muestrea la señal cada $5$ elementos (unas $50-60$ muestras). Visualiza tanto la señal original como la señal muestreada."
   ]
  },
  {
   "cell_type": "code",
   "execution_count": null,
   "id": "76653e6b",
   "metadata": {},
   "outputs": [],
   "source": [
    "# Genera la señal y realiza la tarea\n",
    "\n",
    "# Seleccionamos una de las señales anteriores\n",
    "seleccionada = get_random_number([1, 3])\n",
    "print(seleccionada)"
   ]
  },
  {
   "cell_type": "markdown",
   "id": "1b5e00ba",
   "metadata": {},
   "source": [
    "<hr style=\"border: 1px solid green\" />"
   ]
  },
  {
   "cell_type": "markdown",
   "id": "87ad3e4a",
   "metadata": {},
   "source": [
    "2. ¿ Qué sucede cuando muestramos mal una señal ? Veamos un ejemplo. Lee la señal `audio_pipeline/samoyed-shambles.wav` y crea tres señales a partir de ella:\n",
    "    + La señal `samoyed_4kHz` con una frecuencia de muestreo de $4000$ Hz.\n",
    "    + La señal `samoyed_8kHz` con una frecuencia de muestreo de $8000$ Hz.\n",
    "    + La señal `samoyed_16kHz` con una frecuencia de muestreo de $16000$ Hz.\n",
    "    + La señal `samoyed_32kHz` con una frecuencia de muestreo de $32000$ Hz.\n",
    "\n",
    "    ¿ Cuál es la frecuencia de muestreo de la señal original ?\n",
    "\n",
    "    **ESCRIBE AQUÍ TU RESPUESTA**\n",
    "\n",
    "    Nota: Guarda las señales creadas en el directorio `www/`."
   ]
  },
  {
   "cell_type": "code",
   "execution_count": null,
   "id": "85f81f3b",
   "metadata": {},
   "outputs": [],
   "source": [
    "# Lee la señal, remuestreala y oye las señales. \n",
    "# Además, cuál es la frecuencia de muestreo de la señal original."
   ]
  },
  {
   "cell_type": "markdown",
   "id": "dfae29df",
   "metadata": {},
   "source": [
    "<hr style=\"border: 1px solid green\" />"
   ]
  },
  {
   "cell_type": "markdown",
   "id": "3173beb6",
   "metadata": {},
   "source": [
    "3. Muestrea una de las siguientes señales (elegida aleatoriamente):\n",
    "   1. Señal con una frecuencia de muestreo de $200$ Hz.\n",
    "   $$x(t)=4 + 4 \\sin(350 \\pi t) + 2 \\cos \\left(150 \\pi t + \\frac{\\pi}{3} \\right)$$\n",
    "   2. Utiliza unas $200$, $400$ y $800$ muestras en el intervalo $[-1,1]$ para muestrear la señal:\n",
    "   $$x(t) = sin(2 \\pi \\cdot 0.75t  \\cdot (1 - t) + 2.1) + \\\\ 0.1  \\cdot sin(2 \\pi \\cdot 1.25t + 1) + 0.18 \\cdot cos(2 \\pi  \\cdot 3.85t)$$\n",
    "   3.Señal con una frecuencia de muestreo de $12$ kHz y $24$ kHz. Visualiza las señales en el intervalo $[-0.005, 0.005]$.\n",
    "   $$x(t) = 10 \\cdot cos(2 \\pi \\cdot 1000 t) + 6 \\cdot cos(2 \\pi \\cdot 2000 t) + 2 \\cdot cos(2 \\pi \\cdot 4000 t)$$\n"
   ]
  },
  {
   "cell_type": "code",
   "execution_count": null,
   "id": "a794fc9d",
   "metadata": {},
   "outputs": [],
   "source": [
    "# Genera la señal y realiza la tarea"
   ]
  },
  {
   "cell_type": "code",
   "execution_count": null,
   "id": "68708e8a",
   "metadata": {},
   "outputs": [],
   "source": [
    "# Seleccionamos una de las senales\n",
    "seleccionada = get_random_number([1, 3])\n",
    "print(seleccionada)"
   ]
  },
  {
   "cell_type": "markdown",
   "id": "4878e871",
   "metadata": {},
   "source": [
    "<hr style=\"border: 1px solid green\" />"
   ]
  },
  {
   "cell_type": "markdown",
   "id": "b5a1a276",
   "metadata": {},
   "source": [
    "4. Obtén los primeros cuatro valores de la muestra de las siguientes funciones:\n",
    "   1. Si la función $x(t)=3 cos(6 \\pi t)$ se muestrea cada $0.5$ segundos a partir del instante $t=0$\n",
    "   2. Si la función $x(t)=3 sin \\left(\\left(t-\\frac{1}{2}\\right) \\pi \\right)$ se muestrea cada $0.5$ segundos a partir del instante $t=1$\n",
    "\n",
    "   ¿ Cuáles serán los primeros cuatro valores muestreados ?"
   ]
  },
  {
   "cell_type": "code",
   "execution_count": null,
   "id": "23db858a",
   "metadata": {},
   "outputs": [],
   "source": [
    "# Genera la señal y realiza la tarea\n",
    "\n",
    "# Dibuja la función y obtén los cuatro primeros valores\n",
    "\n",
    "# Seleccionamos uno de las dos funciones\n",
    "seleccionada = get_random_number([1, 2])\n",
    "print(seleccionada)"
   ]
  },
  {
   "cell_type": "markdown",
   "id": "753e6cff",
   "metadata": {},
   "source": [
    "<hr style=\"border: 1px solid green\" />"
   ]
  },
  {
   "cell_type": "markdown",
   "id": "8611d9a5",
   "metadata": {},
   "source": [
    "5. ¿ Cuál es la frecuencia Nyquist y el intervalo de Nyquist de las siguientes señales:\n",
    "   * señal vocal que contiene frecuencias de hasta $4$ kHz\n",
    "   * señal de audio que posee frecuencias de hasta $20$ kHz\n",
    "  \n",
    "   Solución: **ESCRIBE AQUÍ TU RESPUESTA**"
   ]
  },
  {
   "cell_type": "markdown",
   "id": "71e44760",
   "metadata": {},
   "source": [
    "* Para muestrear una señal vocal que contenga frecuencias de hasta $4$ kHz, la frecuencia de Nyquist debe ser, de al menos, 8 kHz y el intervalo de Nyquist (intervalo de tiempo máximo Ts) es 1/fs = 1/8 kHz = 0,125 ms.\n",
    "* Para muestrear una señal de audio que posea frecuencias de hasta 20 kHz, la frecuencia de Nyquist debe ser de, al menos, 40 kHz y el intervalo de Nyquist es 1/fs = 1/40 kHz = 25 $\\mu$ s"
   ]
  },
  {
   "cell_type": "markdown",
   "id": "996ed4c1",
   "metadata": {},
   "source": [
    "<hr style=\"border: 1px solid green\" />"
   ]
  },
  {
   "cell_type": "markdown",
   "id": "66e06aeb",
   "metadata": {},
   "source": [
    "6. Para las siguientes señales, indica cuál es la tasa de muestreo $f_{s}$ mínima que deberíamos utilizar para muestrear sin perder información.\n",
    "   1. Función $7+5 cos(2 \\pi 440 t) + 3 sin(2 \\pi 880 t)$\n",
    "   2. Función $7+5 sin(2 \\pi 440 t) + 3 cos(2 \\pi 880 t)$\n",
    "   3. Función $7+5 cos(2 \\pi 440 t) + 3 cos(2 \\pi 880 t)$\n",
    "   4. Función $7+5 sin(2 \\pi 440 t) + 3 sin(2 \\pi 880 t)$\n",
    "   5. Función $2+0.5 cos(40 \\pi t) + 0.25 sin(100 \\pi t)$\n",
    "   6. Función $2+0.5 sin(40 \\pi t) + 0.25 cos(100 \\pi t)$\n",
    "   7. Función $2+0.5 sin(40 \\pi t) + 0.25 sin(100 \\pi t)$\n",
    "   8. Función $2+0.5 cos(40 \\pi t) + 0.25 cos(100 \\pi t)$"
   ]
  },
  {
   "cell_type": "code",
   "execution_count": null,
   "id": "e1e8d5f0",
   "metadata": {},
   "outputs": [],
   "source": [
    "# Realiza la tarea\n",
    "\n",
    "# Ten en cuenta que hay que dividir por 2*pi para pasarlo a Hz\n",
    "\n",
    "# Seleccionamos la funcion\n",
    "seleccionada = get_random_number([1, 8])\n",
    "print(seleccionada)"
   ]
  },
  {
   "cell_type": "markdown",
   "id": "964fd7f8",
   "metadata": {},
   "source": [
    "<hr style=\"border: 1px solid green\" />"
   ]
  },
  {
   "cell_type": "markdown",
   "id": "dabcb82a",
   "metadata": {},
   "source": [
    "7. Visualiza la función potencia:\n",
    "\n",
    "    $$x(n) = 0.9^{\\lvert n \\rvert}$$\n",
    "\n",
    "    donde el índice para las muestras $n$ solo toma valores enteros.\n",
    "\n",
    "    El muestreo para cada valor $n$ se establece en el intervalo $[0, m)$ para $m$ muestras con una frecuencia angular $\\omega_{0}= 2\\pi f = \\frac{2\\pi}{12}$ radianes/segundo."
   ]
  },
  {
   "cell_type": "code",
   "execution_count": null,
   "id": "846597cf",
   "metadata": {},
   "outputs": [],
   "source": [
    "# Realiza la tarea"
   ]
  },
  {
   "cell_type": "markdown",
   "id": "3398ee35",
   "metadata": {},
   "source": [
    "<hr style=\"border: 1px solid green\" />"
   ]
  },
  {
   "cell_type": "markdown",
   "id": "d9f8b37c",
   "metadata": {},
   "source": [
    "8.  Remuestreo de una señal de audio según tu grupo:\n",
    "     1. `audio_voz/speech0.wav`\n",
    "     2. `audio_voz/speech1.wav`\n",
    "     3. `audio_voz/speech2.wav`\n",
    "     4. `audio/test_sampling.wav`\n",
    "     \n",
    "     <br>\n",
    "\n",
    "    * Determina el número total de muestras, el número de bits por muestra y la frecuencia de muestreo de la señal mediante la función [**`info()`**](https://python-soundfile.readthedocs.io/en/0.11.0/#soundfile.info) de la librería `soundfile`.\n",
    "    * Lee el archivo con la función [**`read()`**](https://python-soundfile.readthedocs.io/en/0.11.0/#read-write-functions) de la librería `soundfile` y reproduce el sonido a la frecuencia normal. \n",
    "    * Muestrea valores alternos de la señal y reproduce a la mitad de la frecuencia.\n",
    "    * Muestrea cada cuarto valor de la señal y reproduce a un cuarto de la frecuencia.\n",
    "    * Toma muestras de cada octavo valor de la señal y reproduce a un octavo de la frecuencia."
   ]
  },
  {
   "cell_type": "code",
   "execution_count": null,
   "id": "a023f02b",
   "metadata": {},
   "outputs": [],
   "source": [
    "# Realiza la tarea\n",
    "\n",
    "# Seleccionamos un grupo\n",
    "seleccionada = get_random_number([1, 4])\n",
    "print(seleccionada)"
   ]
  },
  {
   "cell_type": "markdown",
   "id": "e0cc6012",
   "metadata": {},
   "source": [
    "<hr style=\"border: 1px solid green\" />"
   ]
  },
  {
   "cell_type": "markdown",
   "id": "9f4d9cbd",
   "metadata": {},
   "source": [
    "9. Muestrea la siguiente señal analógica:\n",
    "        $$x(t) = 10 cos(2 \\pi 1000 t) + 6 cos(2 \\pi 2000 t) + 2 cos(2 \\pi 4000 t)$$\n",
    "con diferentes frecuencias de muestreo $fs = 4, 5, 8$ kHz y observa el *aliasing* de la señal.\n",
    "    + Caso 1: fs = 4KHz\n",
    "    + Caso 2: fs = 5KHz\n",
    "    + Caso 3: fs = 8KHz\n",
    "\n",
    "    Cuando una señal se muestrea a una frecuencia inferior al doble de la frecuencia máxima de la señal, puede producirse *aliasing*, lo que significa que el espectro de la señal original se pliega y sus imágenes se solapan con el espectro real, afectando así a la amplitud de las distintas frecuencias. Por lo tanto, la secuencia original no se puede reconstruir.\n",
    "\n",
    "    Indica qué sucede en los diferentes casos: **ESCRIBE AQUÍ TU RESPUESTA**"
   ]
  }
 ],
 "metadata": {
  "kernelspec": {
   "display_name": "Python 3",
   "language": "python",
   "name": "python3"
  },
  "language_info": {
   "codemirror_mode": {
    "name": "ipython",
    "version": 3
   },
   "file_extension": ".py",
   "mimetype": "text/x-python",
   "name": "python",
   "nbconvert_exporter": "python",
   "pygments_lexer": "ipython3",
   "version": "3.12.7"
  }
 },
 "nbformat": 4,
 "nbformat_minor": 5
}
