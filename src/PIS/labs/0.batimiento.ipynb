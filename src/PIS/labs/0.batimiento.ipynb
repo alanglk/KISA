{
 "cells": [
  {
   "cell_type": "markdown",
   "id": "seasonal-maryland",
   "metadata": {},
   "source": [
    "# **Batimiento o *Beats***\n",
    "## Procesamiento de Imagen y Señal\n",
    "### **ESCRIBE TU NOMBRE AQUI**\n",
    "### Curso 2024-2025"
   ]
  },
  {
   "cell_type": "code",
   "execution_count": 1,
   "id": "de3f98db",
   "metadata": {},
   "outputs": [],
   "source": [
    "import warnings\n",
    "warnings.filterwarnings('ignore')\n",
    "\n",
    "##\n",
    "\n",
    "from IPython.display import Image, HTML, display\n",
    "import IPython.display as ipd\n",
    "\n",
    "from scipy import signal\n",
    "from scipy.signal import spectrogram\n",
    "\n",
    "import math\n",
    "\n",
    "import soundfile as sf\n",
    "\n",
    "import numpy as np\n",
    "import matplotlib.pyplot as plt\n",
    "import matplotlib.image as im\n",
    "\n",
    "import librosa\n",
    "\n",
    "\n",
    "#### Important tips\n",
    "\n",
    "# To hear the signal\n",
    "# ipd.Audio(x, rate=fs)\n",
    "\n",
    "####"
   ]
  },
  {
   "cell_type": "code",
   "execution_count": null,
   "id": "fa3a3aa3",
   "metadata": {},
   "outputs": [],
   "source": [
    "# Plot two,three and four images side by side\n",
    "\n",
    "def plot2(s1, s2, c1=None, c2=None):\n",
    "    image1 = im.imread(s1)\n",
    "    image2 = im.imread(s2)\n",
    "\n",
    "    fig, (ax1,ax2) = plt.subplots(nrows=1,ncols=2,figsize=(15,10))\n",
    "\n",
    "    ax1.set_title(c1)\n",
    "    ax1.imshow(image1)\n",
    "    ax2.set_title(c2)\n",
    "    ax2.imshow(image2)\n",
    "    plt.show()"
   ]
  },
  {
   "cell_type": "markdown",
   "id": "e20feeb5",
   "metadata": {},
   "source": [
    "# **Definición**\n",
    "\n",
    "El batimiento (*beat*, pulsación, aspereza, disonancia o batido) es un fenómeno acústico que se genera al interferir entre sí dos ondas sinusoidales con frecuencias ligeramente distintas."
   ]
  },
  {
   "cell_type": "code",
   "execution_count": null,
   "id": "f0030cfa",
   "metadata": {},
   "outputs": [],
   "source": [
    "plot2(\"images/beat00.jpg\", \"images/beat01.jpg\")"
   ]
  },
  {
   "cell_type": "markdown",
   "id": "f1f69174",
   "metadata": {},
   "source": [
    "\n",
    "La frecuencia de batimiento es la diferencia de las frecuencias de las dos ondas: \n",
    "\n",
    "$$f_{beat}=\\left|f_{1}-f_{2}\\right|$$\n",
    "\n",
    "Por ejemplo, si se producen dos ondas simultáneamente de $400Hz$ y $406Hz$, la onda resultante se percibe como un sonido de $403Hz$ (promedio de las dos frecuencias) con una fluctuación de $6Hz$ (frecuencia de batimiento)."
   ]
  },
  {
   "cell_type": "markdown",
   "id": "f728b6fa",
   "metadata": {},
   "source": [
    "# **Tipos de batimientos**\n",
    "\n",
    "Si las frecuencias de las ondas son muy cercanas hablaremos de un batimiento lento. En este caso, se percibe un trémolo (fluctuación periódica en la intensidad del sonido).\n",
    "\n",
    "Si la frecuencia del batimiento se encuentra dentro del registro audible, nos encontramos con un batimiento rápido que se percibe como un nuevo sonido a la frecuencia de batimiento pero con baja intensidad. \n",
    "\n",
    "Es interesante hacer notar que esa nueva frecuencia, el batimiento propiamente dicho, no es real sino que es un falso sonido generado por el propio cerebro. Por eso se dice que el batimiento no es un fenómeno acústico sino **psicoacústico**."
   ]
  },
  {
   "cell_type": "markdown",
   "id": "077a8993",
   "metadata": {},
   "source": [
    "## Batimiento lento\n",
    "\n",
    "Si con un instrumento se genera una nota **la4** que equivale a $440Hz$, y con otro instrumento de afinación no fija se genera simultáneamente una nota **la** ligeramente desafinada, por ejemplo a $438Hz$, como resultado oiremos una nota **la**, con una frecuencia igual al promedio de ambas (en este ejemplo, $439Hz$), con una variación periódica en su amplitud (trémolo) de: \n",
    "\n",
    "$$f_{beat}=440Hz-438Hz=2Hz$$\n",
    "\n",
    "El mínimo de desafinación que un oído humano entrenado puede discriminar es un `savart` ($0.00231$ de semitono), que equivale a $4cents$ (centésima “logarítmica” de semitono).\n",
    "\n",
    "Es decir, en cada período, la amplitud de la onda sonora resultante se anula dos veces (debido a las cancelaciones de fase producidas por la interferencia mutua entre las dos ondas acústicas). \n",
    "\n",
    "Por lo tanto, en el ejemplo anterior el sonido aparece y desaparece al doble de la frecuencia de batimiento, es decir, a $2Hz$ (o sea dos veces por segundo)."
   ]
  },
  {
   "cell_type": "markdown",
   "id": "9bf8949b",
   "metadata": {},
   "source": [
    "## Batimiento rápido\n",
    "\n",
    "Cuando el batimiento es muy rápido y se encuentra dentro del registro audible de frecuencias de los humanos (aproximadamente $20Hz$), pero no llega a ser mayor que el ancho de la banda crítica correspondiente (momento en el cual se empiezan a oír los dos sonidos por separado), el cerebro humano lo percibe como una frecuencia muy grave. Esta frecuencia es la diferencia de las dos ondas que interactúan."
   ]
  },
  {
   "cell_type": "markdown",
   "id": "a2777057",
   "metadata": {},
   "source": [
    "# **Aplicaciones del batimiento**\n",
    "\n",
    "El batimiento suele emplearse en la afinación de instrumentos musicales como, por ejemplo, en la afinación de una guitarra (al pulsar dos cuerdas de frecuencias parecidas).\n",
    "\n",
    "Los guitarristas hacen sonar la cuerda que quieren afinar al aire (es decir, sin pisar ningún traste) a la vez que hacen sonar la misma nota en otra cuerda, la cual toman de referencia.\n",
    "\n",
    "Los técnicos afinadores de pianos utilizan los batimientos como referencia para lograr que todas las teclas del piano queden templadas de acuerdo con el “temperamento igual”. \n",
    "\n",
    "Algunos compositores de música contemporánea instrumental del siglo XX, como [**Giacinto Scelsi**](http://en.wikipedia.org/wiki/Giacinto_Scelsi), utilizaron el batimiento de frecuencias para explorar la cercanía entre ritmo y frecuencia y la microtonalidad en las cercanías de un tono o microintervalos.\n",
    "\n",
    "<center>\n",
    "\n",
    "| [**link1**](https://symposium.music.org/index.php/57/item/11365-composing-a-sound-giacinto-scelsi-s-l-ame-ailee-l-ame-ouverte-for-violin-solo) | [**link2**](https://danielcampbell.ca/analysis-of-ohoi-giacinto-scelsi/) |\n",
    "|--------------------------------------------------------------------------------------------------------------------------------------------------------|-------------------------------------------------------------------------------------------------------------------------------------|\n",
    "\n",
    "</center>\n",
    "\n",
    "El batimiento ha sido muy utilizado en la música electroacústica desde sus inicios a partir de osciladores e incluso en la música electrónica experimental al igual que en varias obras de arte sonoro."
   ]
  },
  {
   "cell_type": "markdown",
   "id": "b606c412",
   "metadata": {},
   "source": [
    "<hr style=\"border: 1px solid green\" />"
   ]
  },
  {
   "cell_type": "markdown",
   "id": "b06516c5",
   "metadata": {},
   "source": [
    "#### Ejemplo\n",
    "\n",
    "Este fenómeno se produce cuando se unen dos ondas seno cuyas frecuencias difieren en una frecuencia ($bps$). Si $bps$ es menor que el rango del alcance auditivo humano ($< 10$), escuchamos los pulsos de forma individual. Si $bsp$ es mayor (y un divisor de la frecuencia) podemos escuchar un tono con una frecuencia de $bps$ Hz (aunque no exista una sinusoide explícita). Esto es debido a que \"algo\" se está repitiendo en ese rango.\n",
    "\n",
    "Nótese que la unión de dos sonidos es la superposicion de ambos, y matemáticamente, la superposición es exactamente una \"interferencia\". Los ***beats*** se producen por la alternación regular de interferencias constructivas y destructivas.\n",
    "\n",
    "* Vamos a generar dos ondas seno de $4$ segundos cuyas frecuencias son $400Hz$ y $405Hz$ respectivamente y la frecuencia de muestreo de ambas ondas es $16000Hz$."
   ]
  },
  {
   "cell_type": "code",
   "execution_count": null,
   "id": "885bf7e5",
   "metadata": {},
   "outputs": [],
   "source": [
    "# Genera las ondas\n",
    "\n",
    "# Frecuencia base (en Hz)\n",
    "freq = 440   # 3520\n",
    "# Sampling rate\n",
    "fs = 16000\n",
    "# Sample depth\n",
    "sd_bits = 16\n",
    "# Longitud de cada nota\n",
    "secs = 4.0\n",
    "\n",
    "# Instantes de tiempo donde crearemos las muestras\n",
    "t = np.linspace(0, secs, fs)\n",
    "\n",
    "# Beat rate (en Hz)\n",
    "bps = 5.0    # 10.0\n",
    "\n",
    "# Onda seno con frecuencia base\n",
    "\n",
    "# onda_lo = ...\n",
    "\n",
    "# Onda seno con frecuencia mas alta (bps)\n",
    "\n",
    "# onda_hi = ...\n",
    "\n",
    "# Las dos ondas juntas\n",
    "\n",
    "# onda_lo_hi = ...\n",
    "\n",
    "# Silencio\n",
    "pausa = np.repeat(0, 0.5*fs)"
   ]
  },
  {
   "cell_type": "markdown",
   "id": "3ed5e814",
   "metadata": {},
   "source": [
    "* Una vez obtenidas ambas ondas, las sumaremos y obtenemos la siguiente secuencia:\n",
    "\n",
    "<center>\n",
    "\n",
    "<hr style=\"border: 1px solid blue\" />\n",
    "\n",
    "**Tono bajo (400 Hz) - silencio (pausa) - Tono más alto (405 Hz) - silencio (pausa) - La suma de ambos tonos**\n",
    "\n",
    "<hr style=\"border: 1px solid blue\" />\n",
    "\n",
    "</center>\n",
    "\n",
    "Podemos utilizar una resolución de $16$ bits."
   ]
  },
  {
   "cell_type": "code",
   "execution_count": null,
   "id": "268b2140",
   "metadata": {},
   "outputs": [],
   "source": [
    "# Genera la secuencia\n",
    "\n",
    "# Tono bajo, pausa, Tono mas alto, pausa, ambos tonos juntos\n",
    "\n",
    "# secuencia = ..."
   ]
  },
  {
   "cell_type": "markdown",
   "id": "e3bf1e56",
   "metadata": {},
   "source": [
    "* Visualizamos el oscilograma y el espectrograma de todos los audios generados (por separado y la secuencia final). Y finalmente, oímos la secuencia final. "
   ]
  },
  {
   "cell_type": "code",
   "execution_count": null,
   "id": "2ce97183",
   "metadata": {},
   "outputs": [],
   "source": [
    "# Visuzaliza los oscilogramas (algunos segundos) y los espectrogramas"
   ]
  },
  {
   "cell_type": "code",
   "execution_count": null,
   "id": "bbf92832",
   "metadata": {},
   "outputs": [],
   "source": [
    "# Oye la secuencia final"
   ]
  },
  {
   "cell_type": "markdown",
   "id": "7ea3a346",
   "metadata": {},
   "source": [
    "---"
   ]
  },
  {
   "cell_type": "markdown",
   "id": "0c7a0d02",
   "metadata": {},
   "source": [
    "# **Referencias**\n",
    "\n",
    "[**wikipedia *Beat***](http://en.wikipedia.org/wiki/Beat_%28acoustics%29)\n",
    "\n",
    "[**Superposición de ondas**](http://www.acs.psu.edu/drussell/Demos/superposition/superposition.html)\n",
    "\n",
    "[***Acoustics* FAQ**](http://newt.phys.unsw.edu.au/jw/musFAQ.html)\n",
    "\n",
    "[***Interference beats and Tartini tones***](http://www.animations.physics.unsw.edu.au/jw/beats.htm)\n",
    "\n",
    "[***Beat Frequencies in Sound***](http://www.school-for-champions.com/science/sound_beat_frequencies.htm)\n",
    "\n",
    "[**Afinación de un piano**](http://es.wikipedia.org/wiki/Afinaci%C3%B3n_del_piano)\n",
    "\n",
    "[**Batimiento como técnica en la música electroacústica y el arte sonoro**](https://es.wikipedia.org/wiki/Batimiento#Batimiento_como_t%C3%A9cnica_en_la_m%C3%BAsica_electroac%C3%BAstica_y_el_arte_sonoro)"
   ]
  }
 ],
 "metadata": {
  "kernelspec": {
   "display_name": "Python 3",
   "language": "python",
   "name": "python3"
  },
  "language_info": {
   "codemirror_mode": {
    "name": "ipython",
    "version": 3
   },
   "file_extension": ".py",
   "mimetype": "text/x-python",
   "name": "python",
   "nbconvert_exporter": "python",
   "pygments_lexer": "ipython3",
   "version": "3.12.6"
  }
 },
 "nbformat": 4,
 "nbformat_minor": 5
}
