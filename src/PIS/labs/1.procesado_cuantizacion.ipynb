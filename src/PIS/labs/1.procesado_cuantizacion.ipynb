{
 "cells": [
  {
   "cell_type": "markdown",
   "id": "seasonal-maryland",
   "metadata": {},
   "source": [
    "# **Procesado básico de la señal: Cuantización**\n",
    "## Procesamiento de Imagen y Señal\n",
    "### **ESCRIBE TU NOMBRE AQUI**\n",
    "### Curso 2024-2025"
   ]
  },
  {
   "cell_type": "code",
   "execution_count": null,
   "id": "358ff51d",
   "metadata": {},
   "outputs": [],
   "source": [
    "import math\n",
    "import cmath\n",
    "\n",
    "import os\n",
    "import sys\n",
    "\n",
    "##\n",
    "\n",
    "import warnings\n",
    "warnings.filterwarnings('ignore')\n",
    "\n",
    "##\n",
    "\n",
    "import numpy as np\n",
    "\n",
    "import matplotlib.pyplot as plt\n",
    "from matplotlib.colors import LogNorm\n",
    "import matplotlib.image as im\n",
    "\n",
    "from scipy import signal, fftpack, ndimage\n",
    "from scipy.fft import fft, ifft\n",
    "\n",
    "import scipy.signal as sp_s\n",
    "import scipy.io as sp_io\n",
    "\n",
    "from scipy.signal import chirp, spectrogram\n",
    "from scipy.io import wavfile\n",
    "\n",
    "from sklearn.cluster import KMeans\n",
    "\n",
    "from collections import Counter\n",
    "\n",
    "### Audio\n",
    "from IPython.display import Image, HTML, display\n",
    "import IPython.display as ipd\n",
    "import librosa\n",
    "import librosa.display\n",
    "\n",
    "from pydub import AudioSegment\n",
    "from pydub.effects import normalize\n",
    "from pydub.playback import play\n",
    "\n",
    "import soundfile as sf\n",
    "\n",
    "#### Important tips\n",
    "# To hear the signal\n",
    "# ipd.Audio(x, rate=fs)\n",
    "####\n",
    "\n",
    "### Image\n",
    "from PIL import Image\n",
    "\n",
    "from skimage import io, transform"
   ]
  },
  {
   "cell_type": "code",
   "execution_count": null,
   "id": "d68faac3",
   "metadata": {},
   "outputs": [],
   "source": [
    "sys.path.append(os.getcwd())\n",
    "\n",
    "# Funciones auxiliares\n",
    "path = \"code/\"\n",
    "\n",
    "# Add the directory containing your module to the Python path (wants absolute paths)\n",
    "sys.path.append(os.path.abspath(path))\n",
    "\n",
    "from f_audio_player_list import *\n",
    "from f_plot import *\n",
    "\n",
    "from f_get_random import *"
   ]
  },
  {
   "cell_type": "code",
   "execution_count": null,
   "id": "dbeb886c",
   "metadata": {},
   "outputs": [],
   "source": [
    "def q_midrise(x, Q):\n",
    "    x = np.copy(x)\n",
    "    idx = np.where(np.abs(x) >= 1)\n",
    "    x[idx] = np.sign(x[idx])\n",
    "    # linear uniform quantization\n",
    "    xQ = Q * (np.floor(x / Q) + 0.5)\n",
    "    return xQ\n",
    "\n",
    "def q_midtread(x, w):\n",
    "    # quantization step\n",
    "    Q = 1 / (2 ** (w - 1))\n",
    "    x = np.copy(x)\n",
    "    idx = np.where(x <= -1)\n",
    "    x[idx] = -1\n",
    "    idx = np.where(x > 1 - Q)\n",
    "    x[idx] = 1 - Q\n",
    "    # linear uniform quantization\n",
    "    xQ = Q * np.floor(x / Q + 1 / 2)\n",
    "    return xQ\n",
    "\n",
    "def requantization(x, xQ):\n",
    "    e = xQ - x\n",
    "    # SNR\n",
    "    SNR = 10 * np.log10(np.var(x) / np.var(e))\n",
    "    print(\"SNR: {:2.1f} dB\".format(SNR))\n",
    "    # normalize error\n",
    "    e = 0.2 * e / np.max(np.abs(e))\n",
    "    return e\n",
    "\n",
    "def plot_requantization(x, xQ, e, desde=None, ax=None, titulo=None):\n",
    "    if desde is None:\n",
    "        desde = math.floor(len(x)/2)\n",
    "    if ax is None:\n",
    "        ax = plt.gca()\n",
    "    if titulo is None:\n",
    "        titulo = \" \"\n",
    "    ax.plot(x[desde : desde + 100], label=r\"signal $x[k]$\")\n",
    "    ax.plot(xQ[desde : desde + 100], label=r\"requantized signal $x_Q[k]$\")\n",
    "    ax.plot(e[desde : desde + 100], label=r\"quantization error $e[k]$\")\n",
    "    ax.set_xlabel(r\"sample index $k$\")\n",
    "    ax.set_title(titulo)\n",
    "    ax.grid()\n",
    "    ax.legend()"
   ]
  },
  {
   "cell_type": "markdown",
   "id": "e20feeb5",
   "metadata": {},
   "source": [
    "---"
   ]
  },
  {
   "cell_type": "markdown",
   "id": "418c0d24",
   "metadata": {},
   "source": [
    "1. Oye las siguientes señales de audio grabadas a diferentes tasas de muestreo y con diferentes cuantizaciones ($8$ y $16$ *bits*). Estas señales se encuentran en el directorio `audio_pipeline/`.\n",
    "    * **`11k-8bit.wav`** : Fichero de audio grabado con una tasa de muestreo de $11$ kHz y una codificación de $8$ *bits* (original en formato `aiff`).\n",
    "    * **`22k-8bit.wav`** : Fichero de audio grabado con una tasa de muestreo de $22$ kHz y una codificación de $8$ *bits* (original en formato `.aiff`).\n",
    "    * **`22k-16bit.wav`** : Fichero de audio grabado con una tasa de muestreo de $22$ kHz y una codificación de $16$ *bits* (original en formato `.aiff`).\n",
    "    * **`44k-8bit.wav`** : Fichero de audio grabado con una tasa de muestreo de $44$ kHz y una codificación de $8$ *bits* (original en formato `.aiff`).\n",
    "    * **`44k-16bit.wav`** : Fichero de audio grabado con una tasa de muestreo de $44$ kHz y una codificación de $16$ *bits* (original en formato `.aiff`).\n",
    "\n",
    "    Cuantifica esta última señal `44k-16bit.wav` en $8$, $4$ y $2$ bits y oye los resultados."
   ]
  },
  {
   "cell_type": "code",
   "execution_count": null,
   "id": "d740d29b",
   "metadata": {},
   "outputs": [],
   "source": [
    "def quantize_uniform(x, quant_min=-1.0, quant_max=1.0, quant_level=5):\n",
    "    \"\"\"Uniform quantization approach\n",
    "\n",
    "    Notebook: C2/C2S2_DigitalSignalQuantization.ipynb\n",
    "\n",
    "    Args:\n",
    "        x (np.ndarray): Original signal\n",
    "        quant_min (float): Minimum quantization level (Default value = -1.0)\n",
    "        quant_max (float): Maximum quantization level (Default value = 1.0)\n",
    "        quant_level (int): Number of quantization levels (Default value = 5)\n",
    "\n",
    "    Returns:\n",
    "        x_quant (np.ndarray): Quantized signal\n",
    "    \"\"\"\n",
    "    x_normalize = (x-quant_min) * (quant_level-1) / (quant_max-quant_min)\n",
    "    x_normalize[x_normalize > quant_level - 1] = quant_level - 1\n",
    "    x_normalize[x_normalize < 0] = 0\n",
    "    x_normalize_quant = np.around(x_normalize)\n",
    "    x_quant = (x_normalize_quant) * (quant_max-quant_min) / (quant_level-1) + quant_min\n",
    "    return x_quant\n",
    "\n",
    "def display_signal_quant(x, number_of_bits):\n",
    "    quant_level = 2 ** number_of_bits\n",
    "    x_quant = quantize_uniform(x, quant_min=-1, quant_max=1, quant_level=quant_level)    \n",
    "    return x_quant"
   ]
  },
  {
   "cell_type": "code",
   "execution_count": null,
   "id": "eb32c5a1",
   "metadata": {},
   "outputs": [],
   "source": [
    "# Lee la señal de audio, obtén su frecuencia de muestreo y el numero de bits de su cuantificación"
   ]
  },
  {
   "cell_type": "code",
   "execution_count": null,
   "id": "34229721",
   "metadata": {},
   "outputs": [],
   "source": [
    "# 11k-8bit.wav\n",
    "# ...\n",
    "\n",
    "# 22k-8bit.wav\n",
    "# ...\n",
    "\n",
    "# 22k-16bit.wav\n",
    "# ...\n",
    "\n",
    "# 44k-8bit.wav\n",
    "# ..."
   ]
  },
  {
   "cell_type": "code",
   "execution_count": null,
   "id": "aee7801a",
   "metadata": {},
   "outputs": [],
   "source": [
    "display(sf.info(\"audio_pipeline/44k-16bit.wav\"))\n",
    "y5, fs5 = sf.read(\"audio_pipeline/44k-16bit.wav\")\n",
    "print(fs5)\n",
    "ipd.Audio(y5.T, rate=fs5)\n",
    "# Da un error y por eso hay que trasponer la señal ya que es una señal en estéreo -> print(y5.shape)\n",
    "# print(y5.shape)"
   ]
  },
  {
   "cell_type": "code",
   "execution_count": null,
   "id": "7a37593d",
   "metadata": {},
   "outputs": [],
   "source": [
    "# 8 bits\n",
    "# ..."
   ]
  },
  {
   "cell_type": "code",
   "execution_count": null,
   "id": "cecef9c4",
   "metadata": {},
   "outputs": [],
   "source": [
    "# 4 bits\n",
    "# ..."
   ]
  },
  {
   "cell_type": "code",
   "execution_count": null,
   "id": "5ea86f8c",
   "metadata": {},
   "outputs": [],
   "source": [
    "# 2 bits\n",
    "# ..."
   ]
  },
  {
   "cell_type": "markdown",
   "id": "bce40fa8",
   "metadata": {},
   "source": [
    "<hr style=\"border: 1px solid green\" />"
   ]
  },
  {
   "cell_type": "markdown",
   "id": "7be5a94e",
   "metadata": {},
   "source": [
    "2. Dada una señal de voz `audio_voz/speech_8k.wav` realiza una recuantización de la señal y evalúa su error."
   ]
  },
  {
   "cell_type": "code",
   "execution_count": null,
   "id": "9163d68d",
   "metadata": {},
   "outputs": [],
   "source": [
    "x, fs = sf.read(\"audio_voz/speech.wav\")\n",
    "# normalize sample\n",
    "x = x / np.max(np.abs(x))\n",
    "\n",
    "# Recuantizacion a 16bits\n",
    "\n",
    "# Recuantizacion a 8bits\n",
    "\n",
    "# Recuantizacion a 6bits\n",
    "\n",
    "# Recuantizacion a 4bits\n",
    "\n",
    "# Recuantizacion a 2bits"
   ]
  },
  {
   "cell_type": "code",
   "execution_count": null,
   "id": "c93257ae",
   "metadata": {},
   "outputs": [],
   "source": [
    "# Visualizacion de las diferentes recuantizaciones de la senal\n",
    "\n",
    "# Oye las diferentes recuantizaciones de la senal"
   ]
  },
  {
   "cell_type": "markdown",
   "id": "12f88046",
   "metadata": {},
   "source": [
    "<hr style=\"border: 1px solid green\" />"
   ]
  },
  {
   "cell_type": "markdown",
   "id": "72f46e7a",
   "metadata": {},
   "source": [
    "3. Generamos una señal sinusoidal ($A = 1$, frecuencia = $500$ Hz) con una frecuencia de muestreo de $32$ kHz. Codifica la señal utilizando 4-bits ($N=4$) donde el tamaño de paso es:\n",
    "$$\\Delta = \\frac{\\text(rango \\ maximo) - \\text(rango \\ minimo)}{2^N}$$\n",
    "Dibuja y oye la señal original, la señal cuantificada *mid-rise* y *mid-tread*, y el error de cuantificación para ambas cuantificaciones."
   ]
  },
  {
   "cell_type": "code",
   "execution_count": null,
   "id": "0aaec979",
   "metadata": {},
   "outputs": [],
   "source": [
    "# Realiza la tarea"
   ]
  },
  {
   "cell_type": "code",
   "execution_count": null,
   "id": "1e7efdf3",
   "metadata": {},
   "outputs": [],
   "source": [
    "def creaFuncion(t, A=1, f=500, fs=32000):\n",
    "    # phi = math.pi/2\n",
    "    # Generar y visualizar\n",
    "    # y = ...\n",
    "    # periodo = ...\n",
    "    # periodo = periodo.astype(int)\n",
    "    return y, periodo"
   ]
  },
  {
   "cell_type": "code",
   "execution_count": null,
   "id": "8d006b92",
   "metadata": {},
   "outputs": [],
   "source": [
    "t = np.arange(-1, 1, 1.0/fs)\n",
    "\n",
    "# x, _ = creaFuncion(t)\n",
    "\n",
    "# Recuantizacion a 4bits (mid-rise)\n",
    "\n",
    "# Recuantizacion a 4bits (mid-tread)\n",
    "\n",
    "# Visualiza las diferentes recuantizaciones"
   ]
  },
  {
   "cell_type": "markdown",
   "id": "d17b3a67",
   "metadata": {},
   "source": [
    "<hr style=\"border: 1px solid green\" />"
   ]
  },
  {
   "cell_type": "markdown",
   "id": "e9754d56",
   "metadata": {},
   "source": [
    "4. Reduce el color de la imagen según el cuestionario:\n",
    "      + `data_RS/Forest-fragmentation-in-the-Brazilian-Amazon.-Photo-courtesy-of-NASA.jpg` ([**link**](https://imgs.mongabay.com/wp-content/uploads/sites/20/2016/10/01181527/Forest-fragmentation-in-the-Brazilian-Amazon.-Photo-courtesy-of-NASA.jpg)) \n",
    "      + que se encuentra en la dirección ([**link**](https://eoimages.gsfc.nasa.gov/images/imagerecords/6000/6811/Brazil_TMO_2006179_lrg.jpg))\n",
    "      + que se encuentra en la dirección ([**link**](https://live.staticflickr.com/861/28779502307_dba5f6070f_c_d.jpg))\n",
    "      + que se encuentra en la dirección ([**link**](https://eoimages.gsfc.nasa.gov/images/imagerecords/150000/150656/southpacific_vir_2022325_lrg.jpg))"
   ]
  },
  {
   "cell_type": "code",
   "execution_count": null,
   "id": "468a06c3",
   "metadata": {},
   "outputs": [],
   "source": [
    "# Seleccionamos la imagen\n",
    "seleccionada = get_random_number([0, 3])\n",
    "print(seleccionada)"
   ]
  },
  {
   "cell_type": "code",
   "execution_count": null,
   "id": "8783a839",
   "metadata": {},
   "outputs": [],
   "source": [
    "# Informacion de una imagen: print_sumario(IMAGEN, NOMBRE, LISTA CANALES)\n",
    "def print_sumario(im, im_nombre, etiquetas):\n",
    "    print('--------------')\n",
    "    print('Detalles de la imagen: '+im_nombre)\n",
    "    print('--------------')\n",
    "    print(f'Dimensiones de la imagen: {im.shape}')\n",
    "    print('Canales:')\n",
    "    \n",
    "    if len(etiquetas) == 1:\n",
    "        im = im[..., np.newaxis]\n",
    "        \n",
    "    for i, lab in enumerate(etiquetas):\n",
    "        min_val = np.min(im[:,:,i])\n",
    "        max_val = np.max(im[:,:,i])\n",
    "        print(f'{lab} : min={min_val:.4f}, max={max_val:.4f}')"
   ]
  },
  {
   "cell_type": "code",
   "execution_count": null,
   "id": "c55c8409",
   "metadata": {},
   "outputs": [],
   "source": [
    "def RGB_HEX(color):\n",
    "     return \"#{:02x}{:02x}{:02x}\".format(int(color[0]), int(color[1]), int(color[2]))"
   ]
  },
  {
   "cell_type": "code",
   "execution_count": null,
   "id": "d7bc0b23",
   "metadata": {},
   "outputs": [],
   "source": [
    "def quantify_colors(im, n_colores):\n",
    "    \"\"\"Quantify the colors of imagen\n",
    "      \n",
    "    Args: \n",
    "        im: image\n",
    "        n_colores: number of colors\n",
    "    \"\"\"\n",
    "    (h,w,c) = im.shape\n",
    "    im_r    = im.reshape(h*w, c)\n",
    "    modelo  = KMeans(n_clusters = n_colores)\n",
    "    etiquetas = modelo.fit_predict(im_r)\n",
    "    counts    = Counter(etiquetas)\n",
    "    counts    = dict(sorted(counts.items()))\n",
    "    centros   = np.array(modelo.cluster_centers_)\n",
    "    colores   = np.array([centros[i] for i in counts.keys()])*255.0\n",
    "    colores_hex = np.array([RGB_HEX(colores[i]) for i in counts.keys()])\n",
    "    paleta = np.uint8(colores)\n",
    "    im_q = paleta[etiquetas.flatten()]\n",
    "    im_q = im_q.reshape(im.shape)\n",
    "    return counts, paleta, colores_hex, im_q"
   ]
  },
  {
   "cell_type": "code",
   "execution_count": null,
   "id": "1ab6948c",
   "metadata": {},
   "outputs": [],
   "source": [
    "def plot_RS_quant(im, im4, im8, colores_hex4, valores4, colores_hex8, valores8):\n",
    "    fig = plt.figure(figsize=(15.1, 9), layout=\"constrained\")\n",
    "    spec = fig.add_gridspec(2, 3)\n",
    "\n",
    "    ax0 = fig.add_subplot(spec[1,1])\n",
    "    ax0.bar(colores_hex4, valores4, color = colores_hex4)\n",
    "    ax1 = fig.add_subplot(spec[1,2])\n",
    "    ax1.pie(valores8, labels = colores_hex8, colors = colores_hex8)\n",
    "    ax2 = fig.add_subplot(spec[0,0])\n",
    "    ax2.imshow(im)\n",
    "    ax2.axis('off')\n",
    "    ax3 = fig.add_subplot(spec[0,1])\n",
    "    ax3.imshow(im4)\n",
    "    ax3.axis('off')\n",
    "    ax4 = fig.add_subplot(spec[0,2])\n",
    "    ax4.imshow(im8)\n",
    "    ax4.axis('off')\n",
    "    \n",
    "    plt.show()"
   ]
  },
  {
   "cell_type": "code",
   "execution_count": null,
   "id": "9b6cd0c9",
   "metadata": {},
   "outputs": [],
   "source": [
    "imagenes = [\"data_RS/Forest-fragmentation-in-the-Brazilian-Amazon.-Photo-courtesy-of-NASA.jpg\", \n",
    "            \"https://eoimages.gsfc.nasa.gov/images/imagerecords/6000/6811/Brazil_TMO_2006179_lrg.jpg\",\n",
    "            \"https://live.staticflickr.com/861/28779502307_dba5f6070f_c_d.jpg\",\n",
    "            \"https://eoimages.gsfc.nasa.gov/images/imagerecords/150000/150656/southpacific_vir_2022325_lrg.jpg\"]"
   ]
  },
  {
   "cell_type": "code",
   "execution_count": null,
   "id": "c5d6c8e8",
   "metadata": {},
   "outputs": [],
   "source": [
    "### Notas sobre las imagenes\n",
    "\n",
    "# Nota: No hemos podido descargar la imagen mediante el comando de lectura\n",
    "# https://imgs.mongabay.com/wp-content/uploads/sites/20/2016/10/01181527/Forest-fragmentation-in-the-Brazilian-Amazon.-Photo-courtesy-of-NASA.jpg\n",
    "# Amazonas\n",
    "\n",
    "# https://eoimages.gsfc.nasa.gov/images/imagerecords/6000/6811/Brazil_TMO_2006179_lrg.jpg\n",
    "# Amazonas\n",
    "\n",
    "# https://live.staticflickr.com/861/28779502307_dba5f6070f_c_d.jpg\n",
    "# https://www.flickr.com/photos/europeanspaceagency/28779502307/\n",
    "# Sharm El Sheikh\n",
    "\n",
    "# https://eoimages.gsfc.nasa.gov/images/imagerecords/150000/150656/southpacific_vir_2022325_lrg.jpg\n",
    "# Pacifico Sur\n",
    "# Informacion de una imagen"
   ]
  },
  {
   "cell_type": "code",
   "execution_count": null,
   "id": "7fd679b5",
   "metadata": {},
   "outputs": [],
   "source": [
    "# Lee la imagen: io.imread()\n",
    "# Redimensionar la imagen a un tamano de 450x450: transform.resize()\n",
    "# Imprimir la informacion de la imagen y de sus canales ['R', 'G', 'B']: print_sumario()\n",
    "# Cuantificar los colores (4 colores)\n",
    "# Cuantificar los colores (8 colores)\n",
    "# Dibujar en un diagrama de barras (bar) o en una grafica de pastel (pie)\n",
    "\n",
    "# fig = plt.figure(figsize=(12.1, 7), layout=\"constrained\")"
   ]
  },
  {
   "cell_type": "code",
   "execution_count": null,
   "id": "34496477",
   "metadata": {},
   "outputs": [],
   "source": [
    "im = io.imread(imagenes[seleccionada])\n",
    "im = transform.resize(im, (450, 450))\n",
    "\n",
    "# Imprime el sumario de la imagen \n",
    "# ...\n",
    "\n",
    "# Cuantificacion del color (4 colores)\n",
    "# Ejecutar: quantify_colors()\n",
    "\n",
    "# Cuantificacion del color (8 colores)\n",
    "# Ejecutar: quantify_colors()\n",
    "\n",
    "# Dibujar: plot_RS_quant()\n",
    "# Nota: valores = list(counts.values())"
   ]
  }
 ],
 "metadata": {
  "kernelspec": {
   "display_name": "Python 3",
   "language": "python",
   "name": "python3"
  },
  "language_info": {
   "codemirror_mode": {
    "name": "ipython",
    "version": 3
   },
   "file_extension": ".py",
   "mimetype": "text/x-python",
   "name": "python",
   "nbconvert_exporter": "python",
   "pygments_lexer": "ipython3",
   "version": "3.12.7"
  }
 },
 "nbformat": 4,
 "nbformat_minor": 5
}
