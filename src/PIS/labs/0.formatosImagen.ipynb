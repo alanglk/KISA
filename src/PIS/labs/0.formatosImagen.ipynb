{
 "cells": [
  {
   "cell_type": "markdown",
   "id": "seasonal-maryland",
   "metadata": {},
   "source": [
    "# **Formatos de imagen**\n",
    "## Procesamiento de Imagen y Señal"
   ]
  },
  {
   "cell_type": "code",
   "execution_count": null,
   "id": "de3f98db",
   "metadata": {},
   "outputs": [],
   "source": [
    "import os\n",
    "import sys\n",
    "\n",
    "##\n",
    "\n",
    "import warnings\n",
    "warnings.filterwarnings('ignore')\n",
    "\n",
    "##\n",
    "\n",
    "import IPython.display as ipd\n",
    "\n",
    "import PIL\n",
    "\n",
    "from PIL import Image  \n",
    "\n",
    "from imageio import imread, imwrite\n",
    "\n",
    "from skimage import io\n",
    "from skimage.color import rgb2gray\n",
    "\n",
    "import cv2\n",
    "\n",
    "import numpy as np\n",
    "import matplotlib.pyplot as plt\n",
    "import matplotlib.image as im\n",
    "\n",
    "from matplotlib import colormaps\n",
    "from matplotlib.colors import LinearSegmentedColormap\n",
    "\n",
    "import requests\n",
    "import urllib.request"
   ]
  },
  {
   "cell_type": "code",
   "execution_count": null,
   "id": "7e397077",
   "metadata": {},
   "outputs": [],
   "source": [
    "# Funciones auxiliares\n",
    "path = \"code/\"\n",
    "\n",
    "# Add the directory containing your module to the Python path (wants absolute paths)\n",
    "sys.path.append(os.path.abspath(path))\n",
    "\n",
    "from f_plot import *\n",
    "from f_color import *\n",
    "from f_get_random import *"
   ]
  },
  {
   "cell_type": "markdown",
   "id": "0d4b9f38",
   "metadata": {},
   "source": [
    "---"
   ]
  },
  {
   "cell_type": "markdown",
   "id": "85a40fc5",
   "metadata": {},
   "source": [
    "# **Librerías de *Python* para el tratamiento de imágenes**\n",
    "\n",
    "Entre las librerías más utilizadas para el tratamiento de imágenes podemos encontrar las siguientes librerías:\n",
    "  * `matplotlib`\n",
    "  * `Pillow` o *Python Imaging Library* (PIL)\n",
    "  * `OpenCV`\n",
    "  * `Scikit-Image` o `skimage`\n",
    "  * `imageio`\n",
    "  * `Tensorflow`"
   ]
  },
  {
   "cell_type": "markdown",
   "id": "79694195",
   "metadata": {},
   "source": [
    "<hr style=\"border: 1px solid green\" />"
   ]
  },
  {
   "cell_type": "markdown",
   "id": "a9be3da7",
   "metadata": {},
   "source": [
    "### **matplotlib**\n",
    "\n",
    "`matplotlib` es una de las librerías más utilizadas en Python para la visualización de datos, y ofrece una variedad amplia de usos y aplicaciones como la representación de imágenes y mapas de color.\n",
    "\n",
    "Dos de las funciones más importantes para leer y visualizar imágenes con esta librería son:\n",
    "  * `matplotlib.image.imread()`\n",
    "  * `matplotlib.pyplot.imshow()`\n"
   ]
  },
  {
   "cell_type": "markdown",
   "id": "1c07465a",
   "metadata": {},
   "source": [
    "<hr style=\"border: 1px solid green\" />"
   ]
  },
  {
   "cell_type": "markdown",
   "id": "bc45098a",
   "metadata": {},
   "source": [
    "### ***Python Imaging Library* (`PIL`)**\n",
    "\n",
    "La librería *Python Imaging Library* (`PIL`) es una de las principales bibliotecas para la manipulación de imágenes en Python. Desafortunadamente, su desarrollo se ha estancado, con su última versión en 2009.\n",
    "\n",
    "No obstante, existe una bifurcación de `PIL` conocida como `Pillow` que es una biblioteca adicional gratuita y de código abierto para el lenguaje de programación Python que agrega soporte para abrir, manipular y guardar muchos formatos de archivo de imagen diferentes.\n",
    "\n",
    "En `PIL` las imágenes son imágenes raster.\n",
    "\n",
    "Ofrece funciones estándar para la manipulación de imágenes tales como:\n",
    "  * Lectura y visualización, `open()` y `show()`\n",
    "  * Obtención del número de bandas, `.getbands()`\n",
    "  * Manipulaciones a nivel de píxel, `.getpixel()` y `.putpixel`\n",
    "  * Manipulación de enmascaramiento y transparencia, `.apply_transparency()`\n",
    "  * Filtrado de imágenes, como desenfoque, contorno, suavizado o búsqueda de bordes, `.filter()`\n",
    "  * Mejora de la imagen, como nitidez, ajuste de brillo, contraste o color,\n",
    "  * Agregar texto a las imágenes, ...\n",
    "\n",
    "Soporta una amplia gama de formatos de imagen, incluyendo JPEG, PNG, BMP, GIF, PPM, TIFF, entre otros (atributo: `Image.format`).\n",
    "\n",
    "Más información sobre los formatos de imagen: [**Referencia**](https://pillow.readthedocs.io/en/stable/handbook/image-file-formats.html)\n",
    "\n",
    "El modo de una imagen define el tipo y la profundidad de un píxel en la imagen. En nuestro caso, el atributo `Image.mode` puede ser: Blanco y negro `1`, escala de grises `L`, color `RGB` o color `CMYK`.\n",
    "\n",
    "Más información sobre esta librería: [**Referencia**](https://pillow.readthedocs.io/en/stable/reference/Image.html)"
   ]
  },
  {
   "cell_type": "markdown",
   "id": "d2415103",
   "metadata": {},
   "source": [
    "<hr style=\"border: 1px solid green\" />"
   ]
  },
  {
   "cell_type": "markdown",
   "id": "8c2b5eaf",
   "metadata": {},
   "source": [
    "### ***Open Source Computer Vision* (OpenCV)**\n",
    "\n",
    "*Open Source Computer Vision* (`OpenCV`) es un software de manipulación y procesamiento de imágenes más avanzado que `PIL`. Se ha implementado en varios lenguajes y su uso está muy extendido. Nótese que `OpenCV` es 1.4 veces más rápido que `PIL`.\n",
    "\n",
    "En `OpenCV` las imágenes son imágenes raster tratadas como una matriz estándar de `numpy`.\n",
    "\n",
    "Dos de las funciones más importantes para leer y visualizar imágenes son:\n",
    "  * `cv2.imread()`\n",
    "  * `cv2.imshow()`\n",
    "\n",
    "Algunos de los usos más comunes de esta librería son:\n",
    "* Procesamiento de imágenes, como cambio de color y tamaño, aplicación de filtros y detección de bordes, análisis de regiones de interés, normalización de la luminosidad y contraste, etc.\n",
    "* Detección y reconocimiento de rostros e identificación de rasgos faciales\n",
    "* Reconocimiento de objetos tanto en imágenes como en vídeo\n",
    "* Seguimiento de objetos y movimiento en tiempo real\n",
    "* Visión estéreo y reconstrucción 3D, creación de mapas de profundidad, ...\n",
    "* Realidad aumentada\n",
    "\n",
    "Las imágenes en color tanto en `skimage` y `OpenCV` tienen 3 dimensiones: anchura, altura y color. RGB y BGR utilizan el mismo espacio de color, excepto que el orden de los colores está invertido.\n",
    "\n",
    "Para una imagen con colores a lo largo del último eje, la siguiente instrucción invierte efectivamente el orden de los colores, dejando las filas y columnas inalteradas.\n",
    "\n",
    "<center> <code> imagen = imagen[:, :, ::-1] </code> </center>\n",
    "\n",
    "Más información sobre esta librería: [**Referencia**](https://docs.opencv.org/4.x/d6/d00/tutorial_py_root.html)"
   ]
  },
  {
   "cell_type": "markdown",
   "id": "cc029a38",
   "metadata": {},
   "source": [
    "<hr style=\"border: 1px solid green\" />"
   ]
  },
  {
   "cell_type": "markdown",
   "id": "00d33a5c",
   "metadata": {},
   "source": [
    "### **skimage**\n",
    "  \n",
    "`Scikit-Image` es una librería de Python muy completa y popular en el ámbito del procesamiento de imágenes, gracias a la amplia variedad de algoritmos que ofrece y su fácil integración con otras bibliotecas científicas y numéricas de Python, como `NumPy` y `SciPy`.\n",
    "\n",
    "En la librería `skimage` las imágenes son simplemente matrices `numpy`, que soportan una variedad de tipos de datos (`dtypes`). Para evitar distorsionar las intensidades de las imágenes asumimos que las imágenes utilizan los siguientes rangos `dtype`:\n",
    "\n",
    "<center>\n",
    "\n",
    "| Tipo | Rango |\n",
    "|:---:|:---:|\n",
    "| uint8 | $0$ a $255$ |\n",
    "| uint16 | $0$ a $65535$ |\n",
    "| uint32 | $0$ a $2^{32}-1$ |\n",
    "| float | $-1$ a $1$ ó $0$ a $1$ |\n",
    "| int8 | $-128$ a $127$ |\n",
    "| int16 | $-32768$ a $32767$ |\n",
    "| int32 | $-2^{31}$ a $2^{31}-1$ |\n",
    "</center>\n",
    "\n",
    "<br>\n",
    "\n",
    "Algunas de las funciones de conversión más utilizadas de esta librería son:\n",
    "  * `img_as_float()`\n",
    "  * `img_as_ubyte()`\n",
    "  * `img_as_uint()`\n",
    "  * `img_as_int()`\n",
    "\n",
    "Algunos de los usos más comunes de esta librería son:\n",
    "* Manejo de imágenes, mediante funciones para leer, escribir y convertir entre diferentes formatos de imagen\n",
    "* Filtros y transformaciones, tales como filtros de borde, de suavizado y realce así como rotaciones, escalados y traslaciones\n",
    "* Segmentación de imágenes en regiones o en objetos individuales\n",
    "* Análisis de textura\n",
    "* Morfología\n",
    "* Detección de características\n",
    "\n",
    "Más información sobre esta librería: [**Referencia**](https://scikit-image.org/docs/stable/api/skimage.io.html)"
   ]
  },
  {
   "cell_type": "markdown",
   "id": "f6dfa606",
   "metadata": {},
   "source": [
    "<hr style=\"border: 1px solid green\" />"
   ]
  },
  {
   "cell_type": "markdown",
   "id": "c13b59d7",
   "metadata": {},
   "source": [
    "### **imageio**\n",
    "\n",
    "`imageio` es una biblioteca que ofrece una interfaz sencilla para escribir y leer una amplia variedad de datos de imágenes: imágenes animadas, vídeos, datos volumétricos, formatos científicos, etc.\n",
    "\n",
    "Entre los formatos de archivo compatibles podemos citar: BMP, PNG, JPEG, TIFF y DICOM entre otros.\n",
    "\n",
    "[**Más información**](https://imageio.readthedocs.io/en/v2.8.0/formats.html)"
   ]
  },
  {
   "cell_type": "markdown",
   "id": "9c0849e0",
   "metadata": {},
   "source": [
    "<hr style=\"border: 1px solid green\" />"
   ]
  },
  {
   "cell_type": "markdown",
   "id": "3f78969f",
   "metadata": {},
   "source": [
    "### **Tensorflow**\n",
    "\n",
    "`Tensorflow` fue creado por el equipo de *Google Brain*, equipo de investigación de inteligencia artificial de aprendizaje profundo, y es una librería de código abierto para computación numérica y aprendizaje automático a gran escala. Reúne una gran gama de modelos y algoritmos de aprendizaje automático y aprendizaje profundo para ponerlos al servicio del usuario mediante una API de Python, lenguaje con el que el autor posee experiencia.\n",
    "\n",
    "Esta librería permite cargar y preprocesar imágenes.\n",
    "\n",
    "[**Más información**](https://www.tensorflow.org/tutorials/load_data/images)"
   ]
  },
  {
   "cell_type": "markdown",
   "id": "11231504",
   "metadata": {},
   "source": [
    "---"
   ]
  },
  {
   "cell_type": "markdown",
   "id": "ba510b03",
   "metadata": {},
   "source": [
    "**Ejemplo**: Librerías e imágenes locales con las diferentes librerías."
   ]
  },
  {
   "cell_type": "code",
   "execution_count": null,
   "id": "6d95704a",
   "metadata": {},
   "outputs": [],
   "source": [
    "# Con funciones del paquete skimage\n",
    "imagen0 = io.imread('images_formatos/Lena_gray.png')\n",
    "# Salvar una imagen\n",
    "io.imsave('www/imagen_skimage.png', imagen0)\n",
    "print(imagen0.size)\n",
    "\n",
    "# Con funciones del paquete imageio\n",
    "imagen1 = imread('images_formatos/building_image.jpg')\n",
    "# Salvar una imagen\n",
    "imwrite('www/imagen_imageio.jpg', imagen1)\n",
    "print(imagen1.size)\n",
    "\n",
    "# Con funciones del paquete PIL\n",
    "imagen2 = Image.open('images_formatos/test.png')\n",
    "# Salvar una imagen\n",
    "imagen2.save('www/test.png')\n",
    "print(imagen2.size)\n",
    "\n",
    "# Con funciones del paquete openCV\n",
    "imagen3 = cv2.imread('images_formatos/imagen_RGB.jpg')\n",
    "# Salvar una imagen\n",
    "cv2.imwrite('www/imagen_openCV.jpg', imagen3)\n",
    "print(imagen3.size)\n"
   ]
  },
  {
   "cell_type": "code",
   "execution_count": null,
   "id": "1296db73",
   "metadata": {},
   "outputs": [],
   "source": [
    "lista_im = [imagen0, imagen1, imagen2, imagen3]\n",
    "titulos = ['skimage', 'imageio', 'PIL', 'openCV']\n",
    "plotN_im(l_im=lista_im, ncols=4, l_tit=titulos)"
   ]
  },
  {
   "cell_type": "markdown",
   "id": "3374a360",
   "metadata": {},
   "source": [
    "---"
   ]
  },
  {
   "cell_type": "markdown",
   "id": "ab1a5c5f",
   "metadata": {},
   "source": [
    "**Ejemplo**: Librerías e imágenes url con las diferentes librerías, `skimage`, `imageio`, `PIL` y `requests` y `openCV`."
   ]
  },
  {
   "cell_type": "code",
   "execution_count": null,
   "id": "bf8772ed",
   "metadata": {},
   "outputs": [],
   "source": [
    "direccion0 = 'https://cdn.britannica.com/55/153455-050-2C3F33B9/aerial-view-Pantanal-Brazil.jpg'\n",
    "direccion1 = 'https://upload.wikimedia.org/wikipedia/commons/e/e7/Everest_North_Face_toward_Base_Camp_Tibet_Luca_Galuzzi_2006.jpg'\n",
    "direccion2 = 'https://upload.wikimedia.org/wikipedia/commons/3/3b/Two_women_operating_ENIAC.gif'\n",
    "direccion3 = 'https://ichef.bbci.co.uk/news/774/cpsprodpb/a3ee/live/e425d470-614b-11ee-86ad-fd31b9495361.jpg'\n",
    "\n",
    "# Librería skimage \n",
    "imagen0 = io.imread(direccion0)\n",
    "\n",
    "# Librería imageio\n",
    "imagen1 = imread(direccion1)\n",
    "\n",
    "# Librería PIL y requests\n",
    "r = requests.get(direccion2, stream=True)\n",
    "imagen2 = Image.open(r.raw)\n",
    "# Librería openCV, requests y numpy\n",
    "\n",
    "#imagen3 = cv2.imread(IMAGE-PATH) # Si la imagen está en un directorio local\n",
    "\n",
    "r = urllib.request.urlopen(direccion3)\n",
    "auxiliar = np.asarray(bytearray(r.read()), dtype=\"uint8\")\n",
    "imagen_bgr = cv2.imdecode(auxiliar, cv2.IMREAD_COLOR)\n",
    "imagen3 = cv2.cvtColor(imagen_bgr, cv2.COLOR_BGR2RGB)\n",
    "lista_im = [imagen0, imagen1, imagen2, imagen3]\n",
    "\n",
    "titulos = ['skimage', 'imageio', 'PIL', 'openCV']\n",
    "plotN_im(l_im=lista_im, ncols = 2, l_tit = titulos)"
   ]
  },
  {
   "cell_type": "markdown",
   "id": "c81e5686",
   "metadata": {},
   "source": [
    "---"
   ]
  },
  {
   "cell_type": "markdown",
   "id": "c7613d44",
   "metadata": {},
   "source": [
    "**Ejemplo**: Podemos utilizar una imagen en `OpenCV` con la librería `skimage` y viceversa.\n",
    "\n",
    "Si `cv_image` es una matriz de bytes sin signo, la librería `skimage` lo entenderá por defecto. Si se quiere trabajar con imágenes en coma flotante podemos utilizar la función `img_as_float()`\n",
    "\n",
    "<center> <code> image = io.util.img_as_float(any_opencv_image) </code> </center>\n",
    "  \n",
    "<center> <code> cv_image = io.util.img_as_ubyte(any_skimage_image) </code> </center>"
   ]
  },
  {
   "cell_type": "markdown",
   "id": "df2ae240",
   "metadata": {},
   "source": [
    "---"
   ]
  },
  {
   "cell_type": "markdown",
   "id": "47c87369",
   "metadata": {},
   "source": [
    "# Conversión entre imágenes de tipo RGB y escala de grises\n",
    "\n",
    "* De **RGB a escala de grises** con la función `rgb2gray()` de `skimage.color`."
   ]
  },
  {
   "cell_type": "code",
   "execution_count": null,
   "id": "9cc48636",
   "metadata": {},
   "outputs": [],
   "source": [
    "im_skimage = io.imread('images_formatos/imagen_RGB.jpg')\n",
    "im_gray = rgb2gray(im_skimage)\n",
    "plot2_im_gray(im_skimage, im_gray)"
   ]
  },
  {
   "cell_type": "markdown",
   "id": "df9bb2cd",
   "metadata": {},
   "source": [
    "* De **RGB a escala de grises** con la función `io.imread()` de `skimage`."
   ]
  },
  {
   "cell_type": "code",
   "execution_count": null,
   "id": "f1011f40",
   "metadata": {},
   "outputs": [],
   "source": [
    "im_gray = io.imread('images_formatos/imagen_RGB.jpg', as_gray=True)\n",
    "plot2_im_gray(im_skimage, im_gray)"
   ]
  },
  {
   "cell_type": "markdown",
   "id": "336841a9",
   "metadata": {},
   "source": [
    "* De **RGB a escala de grises** con la función `convert()` de `PIL`."
   ]
  },
  {
   "cell_type": "code",
   "execution_count": null,
   "id": "4b979dbd",
   "metadata": {},
   "outputs": [],
   "source": [
    "im_pil = Image.open('images_formatos/imagen_RGB.jpg')\n",
    "im_gray = im_pil.convert('L')\n",
    "plot2_im_gray(im_pil, im_gray)"
   ]
  },
  {
   "cell_type": "markdown",
   "id": "8655e4bb",
   "metadata": {},
   "source": [
    "* De **RGB a escala de grises** con la función `cv2.imread()` de `OpenCV`."
   ]
  },
  {
   "cell_type": "code",
   "execution_count": null,
   "id": "15960bce",
   "metadata": {},
   "outputs": [],
   "source": [
    "im_cv = cv2.imread('images_formatos/imagen_RGB.jpg')\n",
    "im_gray = cv2.imread('images_formatos/imagen_RGB.jpg', 0)\n",
    "plot2_im_gray(im_cv, im_gray)"
   ]
  },
  {
   "cell_type": "markdown",
   "id": "c4beb63b",
   "metadata": {},
   "source": [
    "* De **RGB a escala de grises** con la función `cv2.cvtColor()` de `OpenCV`."
   ]
  },
  {
   "cell_type": "code",
   "execution_count": null,
   "id": "aaead900",
   "metadata": {},
   "outputs": [],
   "source": [
    "im_gray = cv2.cvtColor(im_cv, cv2.COLOR_BGR2GRAY)\n",
    "plot2_im_gray(im_cv, im_gray)"
   ]
  },
  {
   "cell_type": "markdown",
   "id": "4d3f6577",
   "metadata": {},
   "source": [
    "* De **RGB a escala de grises** con el paquete `numpy` y diversas transformaciones del color\n",
    "\n",
    "    **Ejemplo**: Visualiza la imagen RGB `images_formatos/imagen_RGB.jpg` y su tres canales de color (RGB). Además, convierte la imagen RGB a escala de grises siguiendo las siguientes transformaciones: \n",
    "\n",
    "    * Forma 1: $Y = 0.299 \\cdot R + 0.587 \\cdot G + 0.114 \\cdot B$\n",
    "    * Forma 2: $Y = 0.21256 \\cdot R + 0.7154 \\cdot G + 0.0721 \\cdot B$"
   ]
  },
  {
   "cell_type": "code",
   "execution_count": null,
   "id": "598f7f17",
   "metadata": {},
   "outputs": [],
   "source": [
    "# Forma 1\n",
    "\n",
    "im = io.imread(\"images_formatos/imagen_RGB.jpg\")\n",
    "r = im[:, :, 0]\n",
    "g = im[:, :, 1]\n",
    "b = im[:, :, 2]\n",
    "\n",
    "# 0.299 * R + 0.587 * G + 0.114 * B\n",
    "im_gray = (0.299 * r + 0.587 * g + 0.114 * b)\n",
    "\n",
    "plot2_im_gray(im, im_gray)"
   ]
  },
  {
   "cell_type": "code",
   "execution_count": null,
   "id": "f5b294ea",
   "metadata": {},
   "outputs": [],
   "source": [
    "# Forma 2\n",
    "\n",
    "im = io.imread(\"images_formatos/imagen_RGB.jpg\")\n",
    "\n",
    "r = im[:, :, 0]\n",
    "g = im[:, :, 1]\n",
    "b = im[:, :, 2]\n",
    "\n",
    "#  0.21256 * R + 0.7154 * G + 0.0721 * B\n",
    "gray_img = (0.21256 * r + 0.7154 * g + 0.0721 * b)\n",
    "\n",
    "plot2_im_gray(im, im_gray)"
   ]
  },
  {
   "cell_type": "markdown",
   "id": "c9eaf35e",
   "metadata": {},
   "source": [
    "---"
   ]
  },
  {
   "cell_type": "markdown",
   "id": "b9998419",
   "metadata": {},
   "source": [
    "* De **RGB a CMYK** y viceversa."
   ]
  },
  {
   "cell_type": "code",
   "execution_count": null,
   "id": "34c29ce6",
   "metadata": {},
   "outputs": [],
   "source": [
    "cm_cyans = LinearSegmentedColormap.from_list('cyans', [(0,0,0), (0,1,1)])\n",
    "cm_yellows = LinearSegmentedColormap.from_list('yellows', [(0,0,0), (1,1,0)])\n",
    "cm_magentas = LinearSegmentedColormap.from_list('magentas', [(0,0,0), (1,0,1)])"
   ]
  },
  {
   "cell_type": "code",
   "execution_count": null,
   "id": "832c3be3",
   "metadata": {},
   "outputs": [],
   "source": [
    "rgb = io.imread(\"images_formatos/imagen_RGB.jpg\")\n",
    "plotRGB_channels(rgb)\n",
    "\n",
    "cmyk = RGBtoCMYK(rgb)\n",
    "plotCMYK_channels(cmyk, [cm_cyans, cm_magentas, cm_yellows])"
   ]
  },
  {
   "cell_type": "markdown",
   "id": "b051bf60",
   "metadata": {},
   "source": [
    "---"
   ]
  },
  {
   "cell_type": "markdown",
   "id": "baf37028",
   "metadata": {},
   "source": [
    "# **Formatos de imagen**\n",
    "\n",
    "<hr style=\"border: 1px solid pink\" />"
   ]
  },
  {
   "cell_type": "markdown",
   "id": "f672c522",
   "metadata": {},
   "source": [
    "\n",
    "### **Formato JPG**\n",
    "\n",
    "JPG, también conocido como *Joint Photographic Experts Group*, es un popular formato de archivo de imagen. Fue creado en 1992 por el *Joint Photographic Experts Group* para proporcionar un tipo estándar de compresión de imágenes para fotografías digitales. De este modo, los archivos `jpg` pueden ser más pequeños y más fáciles de compartir en línea en comparación con otros tipos de archivo como PNG o GIF.\n",
    "\n",
    "Entre las ventajas de este formato podemos destacar:\n",
    "\n",
    "* Tamaño de archivo pequeño, que permite cargar y descargar imágenes jpg más rápidamente que otros formatos.\n",
    "* Altos niveles de compresión, que permiten que los archivos jpg mantengan la calidad incluso cuando están comprimidos.\n",
    "* Fácil edición con software de edición fotográfica.\n",
    "* Amplia gama de usos, incluidos sitios web, plataformas de medios sociales y arte digital.\n",
    "\n",
    "Como desventajas, podemos citar:\n",
    "\n",
    "* Degradación de la calidad cuando los archivos jpg se comprimen demasiado.\n",
    "* Paleta de colores limitada en comparación con otros formatos de archivo como PNG y GIF.\n",
    "* No son adecuados para imprimir, ya que los archivos jpg no admiten transparencias.\n",
    "* JPG es un formato con pérdidas, lo que significa que parte de los datos originales se pierden durante la compresión."
   ]
  },
  {
   "cell_type": "markdown",
   "id": "91222969",
   "metadata": {},
   "source": [
    "<hr style=\"border: 1px solid pink\" />"
   ]
  },
  {
   "cell_type": "markdown",
   "id": "216ccbf9",
   "metadata": {},
   "source": [
    "### **Formato GIF**\n",
    "\n",
    "Un GIF (*Graphics Interchange Format*) es un archivo de imagen que se anima mediante la combinación de varias imágenes o un solo vídeo. \n",
    "\n",
    "Los archivos GIFs suelen usar un algoritmo de comprensión que se denomina codificación LZW que favorece la no degradación y pérdida de calidad de la imagen."
   ]
  },
  {
   "cell_type": "markdown",
   "id": "da811e37",
   "metadata": {},
   "source": [
    "<hr style=\"border: 1px solid pink\" />"
   ]
  },
  {
   "cell_type": "markdown",
   "id": "7e1ab8c8",
   "metadata": {},
   "source": [
    "### **Formato PNG**\n",
    "\n",
    "PNG es la sigla de *Portable Network Graphic* (Gráfico de Red Portátil), un tipo de archivo de imagen rasterizado que goza de muchísima popularidad entre los diseñadores web, debido a su capacidad de procesar los gráficos con fondos transparentes o semitransparentes. No se trata de un formato de archivo patentado, por lo que se puede abrir con cualquier software de edición de imágenes sin necesidad de licencias.\n",
    "\n",
    "Los archivos PNG, que tienen la extensión .png, admiten 16 millones de colores, lo que los diferencia indudablemente de la mayoría de los tipos de archivo.\n",
    "\n",
    "El formato de imagen PNG se lanzó en 1995. Al experto en TI Oliver Fromme se le ocurrió el nombre de PING, que más tarde se abrevió a PNG.\n",
    "\n",
    "Los archivos PNG son la evolución del formato GIF, que ya cumplía ocho años cuando se lanzaron los PNG. Los archivos GIF presentaban algunos inconvenientes, como la necesidad de tener una licencia de patente y su limitada gama de tan solo 256 colores, que no se adaptaba a la constante mejora de la resolución de las pantallas de ordenador. Para evitar estos problemas, los archivos PNG se crearon sin patente y con una paleta de colores mucho más variada. A diferencia de los GIF, los PNG son un formato de imagen única y no son compatibles con la animación.\n",
    "\n",
    "Entre las ventajas de este formato podemos destacar:\n",
    "\n",
    "* Como los archivos PNG admiten millones de opciones de colores, en lugar de cientos, pueden almacenar imágenes mucho más detalladas que los archivos GIF.\n",
    "* El PNG es un formato abierto, por lo que los archivos se pueden visualizar y editar en una gran variedad de programas sin necesidad de licencia, al no existir una patente.\n",
    "* Las imágenes PNG no pierden ninguno de sus datos si se comprimen, de modo que resulta mucho más fácil almacenarlas y transferirlas. Esta es una gran ventaja respecto a las opciones con pérdida de datos como los archivos JPEG, con los que parte de la información desaparece en el proceso de compresión.\n",
    "\n",
    "Y entre las desventajas, podemos enumerar:\n",
    "\n",
    "* Como los archivos PNG conservan todos sus datos originales al comprimirse, por lo general, tienen un tamaño muy superior al de los archivos GIF o JPEG y, por consiguiente, ocupan más espacio en el disco duro del ordenador.\n",
    "* Desde el comienzo, los archivos PNG se diseñaron con la web en mente. Por este motivo, no son compatibles con los modos de color CMYK y puede resultar complicado transferirlos para imprimirlos.\n",
    "* Aunque los archivos PNG comprimidos contienen datos de imágenes detalladas de alta calidad, su mayor tamaño de archivo conlleva una capacidad de respuesta y un tiempo de carga más lentos."
   ]
  },
  {
   "cell_type": "markdown",
   "id": "0b80dfba",
   "metadata": {},
   "source": [
    "<hr style=\"border: 1px solid pink\" />"
   ]
  },
  {
   "cell_type": "markdown",
   "id": "b25ad238",
   "metadata": {},
   "source": [
    "### **Formato TIFF**\n",
    "\n",
    "Un archivo TIFF, cuyo nombre es la sigla de “Tag Image File Format” (formato de archivo de imágenes con etiquetas), es un archivo informático que se emplea para almacenar información de imágenes y gráficos rasterizados. El TIFF, que es uno de los formatos favoritos de los fotógrafos, es una forma muy práctica de almacenar imágenes de alta calidad antes de editarlas para evitar formatos de archivo con pérdida de datos.\n",
    "\n",
    "Los archivos TIFF tienen las siguientes características:\n",
    "* Tienen la extensión .tiff o .tif.\n",
    "* Se comprimen sin pérdida de datos, por lo que tienen un tamaño superior al de la mayoría de los archivos, pero no se pierde calidad de imagen\n",
    "* Funciona con Windows, Linux y macOS.\n",
    "\n",
    "Los TIFF no son los archivos más pequeños que existen, pero permiten al usuario etiquetar información y datos adicionales de las imágenes, como capas extra. \n",
    "\n",
    "A mediados de 1980, TAldus Corporation creó el archivo TIFF para la maquetación, un formato que almacena datos de gran calidad y permite publicar contenido directamente desde un ordenador. El archivo TIFF se diseñó como formato de aplicación universal para escáneres de sobremesa, hardware que, hasta entonces, era compatible, en función de la marca y el modelo, solo con un limitado número de formatos de archivo.\n",
    "\n",
    "En un principio, el TIFF se limitaba a las publicaciones impresas, pero, después, se expandió al contenido web. Más tarde, Adobe adquirió Aldus Corporation, momento desde el que Adobe tiene los derechos de este formato de archivo.\n",
    "\n",
    "Entre las ventajas de este formato podemos destacar:\n",
    "\n",
    "* Dado el predominio de la compresión sin pérdida de datos, los archivos TIFF conservan los detalles y la profundidad de color de las imágenes originales lo cual resulta idóneo para las fotografías profesionales de gran calidad.\n",
    "* Los impresionantes detalles de los archivos TIFF los hacen perfectos para realizar digitalizaciones de alta resolución, como para hacer una copia de seguridad de tus trabajos creativos hechos a mano y de tus documentos personales.\n",
    "* Los archivos TIFF son un formato de archivo universal y adaptable, por lo que pueden usarse con los principales sistemas operativos.\n",
    "* El archivo TIFF puede funcionar como contenedor de archivos JPEG de menor tamaño: almacena varias imágenes en un gráfico rasterizado principal.\n",
    "* Los archivos TIFF son una gran opción para almacenar imágenes de alta resolución antes de la edición y la creación de activos.\n",
    "\n",
    "Y sobre las desventajas podemos decir que:\n",
    "\n",
    "* Los TIFF son archivos de gran tamaño debido a sus detalles y su resolución, por lo que pueden ocupar un espacio valiosísimo del disco duro.\n",
    "* Dado su gran tamaño, resulta complicado compartirlos o enviarlos a contactos o clientes.\n",
    "* No son una buena opción para el diseño de sitios web debido a su alta calidad, puesto que las imágenes tan detalladas pueden ralentizar la velocidad de carga. Otros formatos más ligeros, como el JPEG, son más prácticos para las imágenes online.\n"
   ]
  }
 ],
 "metadata": {
  "kernelspec": {
   "display_name": "Python 3",
   "language": "python",
   "name": "python3"
  },
  "language_info": {
   "codemirror_mode": {
    "name": "ipython",
    "version": 3
   },
   "file_extension": ".py",
   "mimetype": "text/x-python",
   "name": "python",
   "nbconvert_exporter": "python",
   "pygments_lexer": "ipython3",
   "version": "3.12.7"
  }
 },
 "nbformat": 4,
 "nbformat_minor": 5
}
