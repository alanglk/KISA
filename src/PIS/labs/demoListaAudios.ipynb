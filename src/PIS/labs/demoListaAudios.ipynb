{
 "cells": [
  {
   "cell_type": "markdown",
   "id": "seasonal-maryland",
   "metadata": {},
   "source": [
    "# **Demo: Lista audios**\n",
    "## *Procesamiento de Imagen y Señal*"
   ]
  },
  {
   "cell_type": "code",
   "execution_count": null,
   "id": "ae0eee62",
   "metadata": {},
   "outputs": [],
   "source": [
    "import os\n",
    "import sys\n",
    "\n",
    "##\n",
    "\n",
    "import warnings\n",
    "warnings.filterwarnings('ignore')\n",
    "\n",
    "##\n",
    "\n",
    "import pandas as pd\n",
    "\n",
    "import numpy as np\n",
    "import matplotlib.pyplot as plt\n",
    "\n",
    "import IPython.display as ipd\n",
    "import librosa\n",
    "import librosa.display\n",
    "\n",
    "import soundfile as sf\n",
    "\n",
    "#### Important tips\n",
    "# To hear the signal\n",
    "# ipd.Audio(x, rate=fs)\n",
    "####"
   ]
  },
  {
   "cell_type": "code",
   "execution_count": null,
   "id": "b7e3f082",
   "metadata": {},
   "outputs": [],
   "source": [
    "sys.path.append(os.getcwd())\n",
    "\n",
    "# Funciones auxiliares\n",
    "path = \"code/\"\n",
    "\n",
    "# Add the directory containing your module to the Python path (wants absolute paths)\n",
    "sys.path.append(os.path.abspath(path))\n",
    "\n",
    "from f_audio_player_list import *\n",
    "from f_get_random import *"
   ]
  },
  {
   "cell_type": "code",
   "execution_count": null,
   "id": "99cfe1aa",
   "metadata": {},
   "outputs": [],
   "source": [
    "d_in  = 'audio_effects/'\n",
    "\n",
    "ficheros_audio = get_audios_path(d_in)\n",
    "print(ficheros_audio)"
   ]
  },
  {
   "cell_type": "code",
   "execution_count": null,
   "id": "2f50295f",
   "metadata": {},
   "outputs": [],
   "source": [
    "lista_y   = []\n",
    "lista_fs  = []\n",
    "lista_s   = []\n",
    "\n",
    "originales = get_random_elements_of_list(ficheros_audio, 4)\n",
    "print(originales)\n",
    "\n",
    "for i in range(len(originales)):\n",
    "    data, fs_data = librosa.load(d_in+originales[i])\n",
    "    lista_y.append(data)\n",
    "    lista_fs.append(fs_data)\n",
    "    lista_s.append(os.path.splitext(originales[i])[0])\n",
    "audio_player_list(lista_y, lista_fs, width=190, height=40, columns=lista_s)"
   ]
  }
 ],
 "metadata": {
  "kernelspec": {
   "display_name": "Python 3",
   "language": "python",
   "name": "python3"
  },
  "language_info": {
   "codemirror_mode": {
    "name": "ipython",
    "version": 3
   },
   "file_extension": ".py",
   "mimetype": "text/x-python",
   "name": "python",
   "nbconvert_exporter": "python",
   "pygments_lexer": "ipython3",
   "version": "3.12.7"
  }
 },
 "nbformat": 4,
 "nbformat_minor": 5
}
