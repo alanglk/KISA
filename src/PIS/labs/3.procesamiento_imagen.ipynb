{
 "cells": [
  {
   "attachments": {},
   "cell_type": "markdown",
   "id": "seasonal-maryland",
   "metadata": {},
   "source": [
    "# **Procesamiento de la imagen**\n",
    "## Procesamiento de Imagen y Señal\n",
    "### **ESCRIBE TU NOMBRE AQUI**\n",
    "### Curso 2024-2025"
   ]
  },
  {
   "cell_type": "code",
   "execution_count": null,
   "id": "ae0eee62",
   "metadata": {},
   "outputs": [],
   "source": [
    "import sys\n",
    "import os\n",
    "\n",
    "import random\n",
    "\n",
    "import math\n",
    "\n",
    "##\n",
    "\n",
    "import warnings\n",
    "warnings.filterwarnings(\"ignore\")\n",
    "\n",
    "##\n",
    "\n",
    "import numpy as np\n",
    "from numpy.fft import fft2, fftshift, ifft2\n",
    "\n",
    "import matplotlib.pyplot as plt\n",
    "from matplotlib.colors import LogNorm\n",
    "\n",
    "from scipy import signal, fftpack, ndimage\n",
    "\n",
    "from scipy.ndimage import convolve, correlate\n",
    "\n",
    "from scipy.signal import convolve2d\n",
    "\n",
    "##\n",
    "\n",
    "from skimage import io, transform, img_as_ubyte, img_as_float, data, exposure, filters\n",
    "\n",
    "from skimage.morphology import binary_opening, binary_closing\n",
    "from skimage.morphology import erosion, dilation, opening, closing, white_tophat\n",
    "from skimage.morphology import black_tophat, skeletonize, thin, convex_hull_image, disk, square, star\n",
    "\n",
    "from skimage.util import invert, random_noise\n",
    "from skimage.filters import threshold_otsu\n",
    "from skimage.color import rgb2gray, rgba2rgb\n",
    "\n",
    "from skimage.restoration import (\n",
    "    denoise_tv_chambolle,\n",
    "    denoise_bilateral,\n",
    "    denoise_wavelet,\n",
    "    estimate_sigma,\n",
    ")\n",
    "\n",
    "from PIL import Image\n",
    "\n",
    "##\n",
    "\n",
    "# import opencv\n",
    "import cv2\n",
    "\n",
    "from tqdm import tqdm"
   ]
  },
  {
   "cell_type": "code",
   "execution_count": null,
   "metadata": {},
   "outputs": [],
   "source": [
    "sys.path.append(os.getcwd())\n",
    "\n",
    "# Funciones auxiliares\n",
    "path = \"code/\"\n",
    "\n",
    "# Add the directory containing your module to the Python path (wants absolute paths)\n",
    "sys.path.append(os.path.abspath(path))\n",
    "\n",
    "from f_plot import *\n",
    "from f_get_random import *\n",
    "from f_halftone import *"
   ]
  },
  {
   "cell_type": "code",
   "execution_count": null,
   "id": "88bd9dfd",
   "metadata": {},
   "outputs": [],
   "source": [
    "def convert_grayscale(rgb):\n",
    "    x = []\n",
    "    ### CREA LA FUNCION QUE REALIZA LA CONVERSION A ESCALA DE GRISES\n",
    "    ### 0.2989 * R + 0.5870 * G + 0.1140 * B\n",
    "    return x"
   ]
  },
  {
   "cell_type": "markdown",
   "id": "50c8c959",
   "metadata": {},
   "source": [
    "----"
   ]
  },
  {
   "cell_type": "markdown",
   "id": "2e7c41e8",
   "metadata": {},
   "source": [
    "1. **Color** \n",
    "\n",
    "    Visualizar los canales de color RGB de una de las imágenes del directorio `images_RGB_channels`."
   ]
  },
  {
   "cell_type": "code",
   "execution_count": null,
   "id": "c6118c55",
   "metadata": {},
   "outputs": [],
   "source": [
    "seleccionada = get_random_image_path('images_RGB_channels')\n",
    "print(seleccionada)"
   ]
  },
  {
   "cell_type": "code",
   "execution_count": null,
   "id": "e53aef0a",
   "metadata": {},
   "outputs": [],
   "source": [
    "# Lee la imagen seleccionada\n",
    "\n",
    "# Visualiza la imagen original y cada uno de los tres canales de color: R, G, B"
   ]
  },
  {
   "cell_type": "markdown",
   "id": "67243c47",
   "metadata": {},
   "source": [
    "<hr style=\"border: 1px solid green\" />"
   ]
  },
  {
   "cell_type": "markdown",
   "id": "e0807370",
   "metadata": {},
   "source": [
    "2. **Espacios de color: *Grayscale*, HSV, LAB, YUV y YCrCb**\n",
    "\n",
    "    Visualiza la imagen seleccionada en el ejercicio anterior en escala de grises y en los espacios de color HSV, LAB, YUV y YCrCb."
   ]
  },
  {
   "cell_type": "code",
   "execution_count": null,
   "id": "edadb81d",
   "metadata": {},
   "outputs": [],
   "source": [
    "# Realiza la tarea"
   ]
  },
  {
   "cell_type": "markdown",
   "id": "2e2dc6ca",
   "metadata": {},
   "source": [
    "<hr style=\"border: 1px solid green\" />"
   ]
  },
  {
   "cell_type": "markdown",
   "id": "e962789d",
   "metadata": {},
   "source": [
    "3. **Histogramas**\n",
    "\n",
    "    Calcula el histograma de color (canales RGB) de la imagen utilizada en los ejercicios anteriores.\n",
    "    + Realiza una extensión del histograma entre el percentil $2$ y el percentil $98$.\n",
    "    + Ecualiza el histograma y visualiza la imagen original y la imagen después de ecualizar el histograma. \n",
    "\n",
    "    Para el cálculo del histograma puedes utilizar la función [**`hist()`**](https://matplotlib.org/stable/api/_as_gen/matplotlib.pyplot.hist.html) del paquete `matplotlib.pyplot` o la función [**`histogram()`**](https://numpy.org/doc/stable/reference/generated/numpy.histogram.html) del paquete `numpy`.\n",
    "\n",
    "    Para ecualizar el histograma puedes utilizar las funciones de la librería [**`skimage.exposure`**](https://scikit-image.org/docs/stable/api/skimage.exposure.html) y la función [**`skimate.filters.rank.equalize()`**](https://scikit-image.org/docs/stable/api/skimage.filters.rank.html#skimage.filters.rank.equalize)."
   ]
  },
  {
   "cell_type": "code",
   "execution_count": null,
   "id": "85e501a5",
   "metadata": {},
   "outputs": [],
   "source": [
    "# Realiza la tarea"
   ]
  },
  {
   "cell_type": "markdown",
   "id": "eda8dc48",
   "metadata": {},
   "source": [
    "<hr style=\"border: 1px solid green\" />"
   ]
  },
  {
   "attachments": {},
   "cell_type": "markdown",
   "id": "8d973562",
   "metadata": {},
   "source": [
    "4. **Suavizado de semitonos (*halftone*)** \n",
    "    \n",
    "    Realiza un suavizado de los semitonos de una imagen haciéndola más uniforme en el dominio espacial.\n",
    "    1. Selecciona la imagen de forma aleatoria (directorio: `images_RGB` o `images_RGB_channels`) mediante la función: `get_random_image_path()`.\n",
    "    2. Lee la imagen: `io.imread()`.\n",
    "    3. Realiza el suavizado de semitonos en el dominio espacial: `halftone()`.\n",
    "    4. Visualiza la imagen original y la imagen suavizada."
   ]
  },
  {
   "cell_type": "code",
   "execution_count": null,
   "id": "94c612a3",
   "metadata": {},
   "outputs": [],
   "source": [
    "seleccionada = get_random_image_path('images_RGB') # tambien puede ser del directorio `images_RGB_channels`\n",
    "print(seleccionada)"
   ]
  },
  {
   "cell_type": "code",
   "execution_count": null,
   "id": "37e613c5",
   "metadata": {},
   "outputs": [],
   "source": [
    "# Realiza la tarea"
   ]
  },
  {
   "cell_type": "code",
   "execution_count": null,
   "id": "783c0585",
   "metadata": {},
   "outputs": [],
   "source": [
    "# Leemos la imagen\n",
    "im = io.imread(seleccionada)\n",
    "# Halftoning en el dominio espacial\n",
    "im_half = halftone(im)\n",
    "\n",
    "plotN_im(l_im=[im, im_half], ncols=2, l_tit=['original', 'halftone'])"
   ]
  },
  {
   "cell_type": "markdown",
   "id": "54dda382",
   "metadata": {},
   "source": [
    "<hr style=\"border: 1px solid green\" />"
   ]
  },
  {
   "cell_type": "markdown",
   "id": "3a564fdc",
   "metadata": {},
   "source": [
    "5. **Interpolación** \n",
    "\n",
    "    Dada la imagen `images_gray/clock.png`, amplia 4 veces su tamaño e interpola mediante el vecino más cercano y mediante interpolación bilineal y bicúbica. \n",
    "\n",
    "    Compara todas interpolaciones."
   ]
  },
  {
   "cell_type": "code",
   "execution_count": null,
   "id": "7c5245d4",
   "metadata": {},
   "outputs": [],
   "source": [
    "# Realiza la tarea"
   ]
  },
  {
   "cell_type": "code",
   "execution_count": null,
   "id": "faa37061",
   "metadata": {},
   "outputs": [],
   "source": [
    "# Utilizamos Image.open() de la libreria PIL\n",
    "im = Image.open(\"images_gray/clock.png\")\n",
    "print(im.width, im.height)\n",
    "\n",
    "# Vecino más cercano (Nearest neighbor interpolation)\n",
    "im1 = im.resize((im.width*4, im.height*4), Image.NEAREST)\n",
    "print(im1.width, im1.height)\n",
    "\n",
    "# Interpolación bilinear (Bi-linear interpolation)\n",
    "im2 = im.resize((im.width*4, im.height*4), Image.BILINEAR) \n",
    "print(im2.width, im2.height)\n",
    "\n",
    "# Interpolación bicúbica (Bi-cubic interpolation)\n",
    "im3 = im.resize((im.width*4, im.height*4), Image.BICUBIC)  # bi-cubic interpolation\n",
    "print(im3.width, im3.height)\n",
    "\n",
    "l_im = [np.array(im), np.array(im1), np.array(im2), np.array(im3)]\n",
    "titulos = ['original', 'nearest', 'bilinear', 'bicubic']\n",
    "plotN_im(l_im, ncols = 4, l_tit = titulos)"
   ]
  },
  {
   "cell_type": "markdown",
   "metadata": {},
   "source": [
    "---"
   ]
  },
  {
   "attachments": {},
   "cell_type": "markdown",
   "id": "c0974655",
   "metadata": {},
   "source": [
    "# **Operaciones puntuales simples**\n",
    "\n",
    "* Operaciones algebraicas\n",
    "* Operaciones geométricas\n",
    "* Negativo o complemento"
   ]
  },
  {
   "cell_type": "markdown",
   "id": "fe747c99",
   "metadata": {},
   "source": [
    "<hr style=\"border: 1px solid pink\" />"
   ]
  },
  {
   "attachments": {},
   "cell_type": "markdown",
   "id": "d8190458",
   "metadata": {},
   "source": [
    "5. **Operaciones geométricas**\n",
    "\n",
    "   Visualiza ciertas transformaciones geométricas de una imagen: \n",
    "   1. Selecciona la imagen de forma aleatoria (directorio: `images_RGB` o `images_RGB_channels`) mediante la función: `get_random_image_path()`.\n",
    "   2. Lee la imagen: `io.imread()`.\n",
    "   3. Realiza las transformaciones geométricas de la imagen:\n",
    "      1. Rotación de $90^{\\circ}$\n",
    "      2. Rotación de $180^{\\circ}$\n",
    "      3. Rotación de $270^{\\circ}$\n",
    "      4. *flip* vertical\n",
    "      5. *flip* horizontal\n",
    "   4. Visualiza la imagen original y las imágenes transformadas."
   ]
  },
  {
   "cell_type": "code",
   "execution_count": null,
   "id": "9ea2a574",
   "metadata": {},
   "outputs": [],
   "source": [
    "seleccionada = get_random_image_path('images_RGB')\n",
    "print(seleccionada)"
   ]
  },
  {
   "cell_type": "code",
   "execution_count": null,
   "id": "45357a32",
   "metadata": {},
   "outputs": [],
   "source": [
    "# Realiza la tarea"
   ]
  },
  {
   "cell_type": "markdown",
   "id": "a0c3d20f",
   "metadata": {},
   "source": [
    "<hr style=\"border: 1px solid green\" />"
   ]
  },
  {
   "attachments": {},
   "cell_type": "markdown",
   "id": "9c6ba38b",
   "metadata": {},
   "source": [
    "6. **Negativo o complemento de una imagen**\n",
    "\n",
    "    Obtén el negativo de la imagen RGB y, también, de la misma imagen en escala de grises.\n",
    "    1. Selecciona la imagen de forma aleatoria (directorio: `images_RGB` o `images_RGB_channels`) mediante la función: `get_random_image_path()`.\n",
    "    2. Lee la imagen: `io.imread()`.\n",
    "    3. Genera la imagen en escala de grises.\n",
    "    4. Visualiza la imagen original RGB, la misma imagen en escala de grises y el negativo de ambas imágenes."
   ]
  },
  {
   "cell_type": "code",
   "execution_count": null,
   "id": "9f57416f",
   "metadata": {},
   "outputs": [],
   "source": [
    "seleccionada = get_random_image_path('images_RGB')\n",
    "print(seleccionada)"
   ]
  },
  {
   "cell_type": "code",
   "execution_count": null,
   "id": "5eb2cdbc",
   "metadata": {},
   "outputs": [],
   "source": [
    "# Realiza la tarea"
   ]
  },
  {
   "cell_type": "markdown",
   "id": "4a1094b3",
   "metadata": {},
   "source": [
    "<hr style=\"border: 1px solid green\" />"
   ]
  },
  {
   "attachments": {},
   "cell_type": "markdown",
   "id": "cfc6d40c",
   "metadata": {},
   "source": [
    "7. **Transformaciones de la intensidad**\n",
    "\n",
    "    Realiza una transformación de la intensidad de una imagen RGB: Incrementa en un $25\\%$ y reduce en un $50\\%$ el brillo de la imagen.\n",
    "    1. Selecciona la imagen de forma aleatoria (directorio: `images_RGB` o `images_RGB_channels`) mediante la función: `get_random_image_path()`.\n",
    "    2. Lee la imagen: `io.imread()`.\n",
    "    3. Incrementa en un $25\\%$ el brillo de la imagen.\n",
    "    4. Reduce en un $50\\%$ el brillo de la imagen.\n",
    "    5. Visualiza la imagen original RGB y las imagenes con el brillo modificado."
   ]
  },
  {
   "cell_type": "code",
   "execution_count": null,
   "id": "0f15023b",
   "metadata": {},
   "outputs": [],
   "source": [
    "seleccionada = get_random_image_path('images_RGB')\n",
    "print(seleccionada)"
   ]
  },
  {
   "cell_type": "code",
   "execution_count": null,
   "id": "cf25e6c8",
   "metadata": {},
   "outputs": [],
   "source": [
    "# Realiza la tarea"
   ]
  },
  {
   "cell_type": "markdown",
   "id": "a96f2faa",
   "metadata": {},
   "source": [
    "<hr style=\"border: 1px solid green\" />"
   ]
  },
  {
   "cell_type": "markdown",
   "id": "92d7ee95",
   "metadata": {},
   "source": [
    "8. **Correlación y convolución**\n",
    "\n",
    "    Realiza la convolución y la correlación de una imagen con diversos kernels.\n",
    "    1. Selecciona la imagen de forma aleatoria (directorio: `images_RGB` o `images_RGB_channels`) mediante la función: `get_random_image_path()`.\n",
    "    2. Lee la imagen: `io.imread()`.\n",
    "    3. Convoluciona la image con uno o varios kernels.\n",
    "    4. Correlaciona la imagen con uno o varios kernels.\n",
    "    5. Visualiza la imagen original RGB y las imagenes resultantes de realizar la convolución y la correlación con estos kernels."
   ]
  },
  {
   "cell_type": "code",
   "execution_count": null,
   "id": "4dc044a0",
   "metadata": {},
   "outputs": [],
   "source": [
    "seleccionada = get_random_image_path('images_RGB_channels')\n",
    "print(seleccionada)"
   ]
  },
  {
   "cell_type": "code",
   "execution_count": null,
   "id": "6b4cd83a",
   "metadata": {},
   "outputs": [],
   "source": [
    "# Realiza la tarea"
   ]
  },
  {
   "cell_type": "code",
   "execution_count": null,
   "id": "a37caa79",
   "metadata": {},
   "outputs": [],
   "source": [
    "# Leemos la imagen\n",
    "#im = io.imread(seleccionada)\n",
    "\n",
    "im = io.imread(\"images_RGB_channels\\Barns_grand_tetons.jpg\")\n",
    "im_s = transform.resize(im, (512, 512))\n",
    "im_g = convert_grayscale(im_s)"
   ]
  },
  {
   "cell_type": "code",
   "execution_count": null,
   "id": "5c3135fc",
   "metadata": {},
   "outputs": [],
   "source": [
    "kernel0 = np.array([  [1, 0, -1],   [0, 0, 0],   [-1, 0, 1]])\n",
    "kernel1 = np.array([[-1, -1, -1],   [1, 1, 1],    [0, 0, 0]])\n",
    "kernel2 = np.array([[-1, -1, -1], [-1, 8, -1], [-1, -1, -1]])\n",
    "kernel3 = np.array([   [1, 1, 0],   [1, 0, 1],  [0, -1, -1]])\n",
    "# mean filter\n",
    "kernel4 = np.ones((3, 3)) / 9"
   ]
  },
  {
   "cell_type": "code",
   "execution_count": null,
   "id": "854237e6",
   "metadata": {},
   "outputs": [],
   "source": [
    "# Convolucion (imagen en escala de grises)\n",
    "im_conv0 = convolve2d(im_g, kernel0, mode='valid')"
   ]
  },
  {
   "cell_type": "code",
   "execution_count": null,
   "id": "1c9d7706",
   "metadata": {},
   "outputs": [],
   "source": [
    "# Convolucion (imagen RGB)\n",
    "R = convolve2d(im[:,:,0], kernel1, mode='valid')\n",
    "G = convolve2d(im[:,:,1], kernel1, mode='valid')\n",
    "B = convolve2d(im[:,:,2], kernel1, mode='valid')\n",
    "im_conv1 = np.dstack((R,G,B))"
   ]
  },
  {
   "cell_type": "code",
   "execution_count": null,
   "id": "99ca0745",
   "metadata": {},
   "outputs": [],
   "source": [
    "# Convolucion 2D\n",
    "im_conv2 = ndimage.convolve(im_g, kernel2, mode='constant', cval=0)"
   ]
  },
  {
   "cell_type": "code",
   "execution_count": null,
   "id": "5e5f1d18",
   "metadata": {},
   "outputs": [],
   "source": [
    "# Convolucion a partir de la FFT\n",
    "\n",
    "# fft del kernel (2D)\n",
    "kernel_ft = np.fft.fft2(kernel3, s=im_g.shape[:2], axes=(0,1)) \n",
    "# fft de la imagen\n",
    "im_ft = fftpack.fft2(im_g)\n",
    "out = kernel_ft*im_ft\n",
    "im_conv3 = fftpack.ifft2(out).real\n",
    "\n",
    "# Otra forma (3D)\n",
    "im_conv4 = signal.fftconvolve(im, kernel3[:, :, np.newaxis], mode='same')\n",
    "# Otra forma (grayscale)\n",
    "im_conv5 = signal.fftconvolve(im_g, kernel4, mode='same')"
   ]
  },
  {
   "cell_type": "code",
   "execution_count": null,
   "id": "0f5bc3a3",
   "metadata": {},
   "outputs": [],
   "source": [
    "plotN_im(l_im=[im, im_g, im_conv0, im_conv1, im_conv2, im_conv3, im_conv4, im_conv5], ncols=4,\n",
    "         l_tit=['original', 'grayscale', 'conv0', 'conv1', 'conv2', 'conv3', 'conv4', 'conv5'])"
   ]
  },
  {
   "cell_type": "code",
   "execution_count": null,
   "id": "123bdbd1",
   "metadata": {},
   "outputs": [],
   "source": [
    "# Visualizacion de la transformada 2D de Fourier\n",
    "f = np.fft.fft2(im_g)\n",
    "fshift = np.fft.fftshift(f)\n",
    "magnitude_spectrum = 20 * np.log(np.abs(fshift))\n",
    "\n",
    "plotN_im([im_g, magnitude_spectrum], ncols=2, l_tit=['original', 'FFT'])"
   ]
  },
  {
   "cell_type": "markdown",
   "id": "c326d84d",
   "metadata": {},
   "source": [
    "---"
   ]
  },
  {
   "cell_type": "markdown",
   "id": "247d86a3",
   "metadata": {},
   "source": [
    "## **Filtros espaciales**"
   ]
  },
  {
   "cell_type": "markdown",
   "id": "a55ff83c",
   "metadata": {},
   "source": [
    "<hr style=\"border: 1px solid pink\" />"
   ]
  },
  {
   "cell_type": "markdown",
   "id": "e4dc6923",
   "metadata": {},
   "source": [
    "9. **Filtrado en el dominio de la frecuencia**\n",
    "\n",
    "    Realiza la convolución \n",
    "    1. Lee la imagen: `images_gray/clown.jpg`\n",
    "    2. Crea el kernel \n",
    "    4. Visualiza la imagen original, el filtr, la imagen filtrada y el espectro filtrado."
   ]
  },
  {
   "cell_type": "code",
   "execution_count": null,
   "id": "fefc1ac7",
   "metadata": {},
   "outputs": [],
   "source": [
    "# Realiza la tarea"
   ]
  },
  {
   "cell_type": "code",
   "execution_count": null,
   "id": "2a16031d",
   "metadata": {},
   "outputs": [],
   "source": [
    "def filtro_frecuencia(im):\n",
    "    im_f = np.fft.fft2(im)\n",
    "    im_s = np.fft.fftshift(im_f)\n",
    "\n",
    "    N = im_s.shape[0]\n",
    "    x, y = np.meshgrid(np.arange(N), np.arange(N))\n",
    "\n",
    "    # notch filter\n",
    "    a1 = 0.008\n",
    "    a2 = 0.008\n",
    "\n",
    "    nf1 = 1 - np.exp(-a1*(x-190)**2 - a2*(y-123)**2) # Gaussian\n",
    "    nf2 = 1 - np.exp(-a1*(x-104)**2 - a2*(y-172)**2) # Gaussian\n",
    "    nf3 = 1 - np.exp(-a1*(x-126)**2 - a2*(y-135)**2) # Gaussian\n",
    "    nf4 = 1 - np.exp(-a1*(x-168)**2 - a2*(y-161)**2) # Gaussian\n",
    "\n",
    "    Z = nf1*nf2*nf3*nf4\n",
    "    im_fs = im_s*Z\n",
    "\n",
    "    im_fr = np.fft.ifftshift(im_fs)\n",
    "    im_fr = np.fft.ifft2(im_fr)\n",
    "    return im_fr, im_fs, Z"
   ]
  },
  {
   "cell_type": "code",
   "execution_count": null,
   "id": "4e319fa9",
   "metadata": {},
   "outputs": [],
   "source": [
    "n_image = \"images_gray/clown.jpg\"\n",
    "\n",
    "im = rgb2gray(io.imread(n_image))\n",
    "\n",
    "im_fr, im_fs, Z = filtro_frecuencia(im)\n",
    "imagenes = [im, np.log(1+np.absolute(Z)), np.real(im_fr), np.log(1+np.absolute(im_fs))]\n",
    "titulos = ['original', 'filtro en Freq', 'imagen filtrada', 'Filtered FFT']\n",
    "\n",
    "plotN_im(l_im=imagenes, ncols = 4, l_tit = titulos)"
   ]
  },
  {
   "cell_type": "markdown",
   "id": "03026b6c",
   "metadata": {},
   "source": [
    "<hr style=\"border: 1px solid green\" />"
   ]
  },
  {
   "cell_type": "markdown",
   "id": "4717a0c8",
   "metadata": {},
   "source": [
    "10. **Eliminación de ruido**\n",
    "\n",
    "    Realiza un filtro bilateral y de eliminación de ruido wavelet con una imagen seleccionada de forma aleatoria del directorio `images_RGB_channels` a la que le hemos añadido ruido aleatorio.\n",
    "    \n",
    "    1. El [**filtro bilateral**](https://es.wikipedia.org/wiki/Filtro_bilateral) es un filtro que preserva los bordes y reduce el ruido. Calcula el promedio de los píxeles en función de su proximidad espacial y similitud radiométrica.\n",
    "    2. El [**filtro de eliminación de ruido wavelet**](https://scikit-image.org/docs/0.24.x/api/skimage.restoration.html#skimage.restoration.denoise_wavelet) se basa en la representación de wavelets de la imagen. El ruido gaussiano tiende a estar representado por valores pequeños en el dominio de wavelets y se puede eliminar estableciendo coeficientes por debajo de un umbral determinado en cero (umbral estricto) o reduciendo todos los coeficientes hacia cero en una cantidad determinada (umbral suave)."
   ]
  },
  {
   "cell_type": "code",
   "execution_count": null,
   "id": "9573ea0a",
   "metadata": {},
   "outputs": [],
   "source": [
    "seleccionada = get_random_image_path(\"images_RGB_channels\")\n",
    "print(seleccionada)"
   ]
  },
  {
   "cell_type": "code",
   "execution_count": null,
   "id": "f00c2cf0",
   "metadata": {},
   "outputs": [],
   "source": [
    "# Realiza la tarea\n",
    "\n",
    "# Leemos la imagen\n",
    "#im = io.imread(seleccionada)\n",
    "\n",
    "im = io.imread(\"images_RGB_channels\\edge.jpg\")\n",
    "\n",
    "# Tomamos una parte de la imagen. Podemos cambiar la zona a tratar dependiendo de la imagen\n",
    "y=150\n",
    "x=150\n",
    "h=300\n",
    "w=300\n",
    "im_c = im[x:w, y:h]\n",
    "\n",
    "# Imagen con ruido\n",
    "sigma = 0.155\n",
    "im_noisy = random_noise(im_c, var=sigma**2)\n",
    "\n",
    "# Estimate the average noise standard deviation across color channels.\n",
    "sigma_est = estimate_sigma(im_noisy, channel_axis=-1, average_sigmas=True)\n",
    "print(sigma_est)\n",
    "\n",
    "# ...\n",
    "\n",
    "im_d1 = denoise_tv_chambolle(im_noisy, weight=0.1, channel_axis=-1)\n",
    "im_b1 = denoise_bilateral(im_noisy, sigma_color=0.05, sigma_spatial=15, channel_axis=-1)\n",
    "im_w1 = denoise_wavelet(im_noisy, channel_axis=-1, rescale_sigma=True)"
   ]
  },
  {
   "cell_type": "code",
   "execution_count": null,
   "id": "200cebf6",
   "metadata": {},
   "outputs": [],
   "source": [
    "plotN_im([im, im_c, im_noisy, im_d1, im_b1, im_w1], ncols=3, l_tit=['original', 'crop', 'con ruido', 'tv_chambolle_0.1', \n",
    "        'bilateral=0.05', 'wavelet'])"
   ]
  },
  {
   "cell_type": "markdown",
   "id": "59be1400",
   "metadata": {},
   "source": [
    "---"
   ]
  },
  {
   "cell_type": "markdown",
   "id": "3e1f2bd1",
   "metadata": {},
   "source": [
    "11. **Transformada de Fourier 2D**\n",
    "\n",
    "    1. Combina dos imágenes (`data_images/stp1.jpg` e `data_images/stp2.jpg`) mediante operaciones de *blending* o *lerp*. \n",
    "        + Visualiza ambas imágenes y la combinación de las mismas.\n",
    "        + Visualiza la transformada de Fourier de la imagen combinada. \n",
    "        + Explica el resultado de dicha transformada.\n",
    "    \n",
    "    2. Aplica el operador `mean` a la imagen `data_images/stp1.jpg`. \n",
    "        + Compara su transformada de Fourier antes y después de la operación.\n",
    "        + Explica el resultado.\n",
    "\n",
    "    3. Aplica el operador `mean` a la imagen `data_images/stp2.jpg`. \n",
    "        + Compara su transformada de Fourier antes y después de la operación.\n",
    "        + Explica el resultado.\n",
    "\n",
    "    4. La transformada de Fourier es distributiva sobre la multiplicación. \n",
    "        + Para visualizarlo, multiplica ambas imágenes y calcula su transformada de Fourier. \n",
    "        + Compara el resultado con la multiplicación de las dos transformadas de Fourier de la imágenes."
   ]
  },
  {
   "cell_type": "code",
   "execution_count": null,
   "id": "1c872d73",
   "metadata": {},
   "outputs": [],
   "source": [
    "# Realiza la tarea"
   ]
  },
  {
   "cell_type": "markdown",
   "id": "d92ce1fc",
   "metadata": {},
   "source": [
    "---"
   ]
  },
  {
   "attachments": {},
   "cell_type": "markdown",
   "id": "8a4f51c7",
   "metadata": {},
   "source": [
    "# **Operaciones morfológicas**"
   ]
  },
  {
   "cell_type": "markdown",
   "id": "80bad75a",
   "metadata": {},
   "source": [
    "\n",
    "<hr style=\"border: 1px solid pink\" />"
   ]
  },
  {
   "cell_type": "markdown",
   "id": "6968b01a",
   "metadata": {},
   "source": [
    "12. **Apertura y cierre: Operaciones duales**.\n",
    "    + Aplicamos una operación de apertura con algún elemento estructurante (por ejemplo, un disco) de la imagen binaria original (`images_bn/circles.jpg`).\n",
    "    + Invertimos la imagen (para cambiar el primer plano al fondo y viceversa) y aplicamos la operación de cierre con el mismo elemento estructurante.\n",
    "    + Invertimos de nuevo la imagen para comprobar que es igual a la imagen resultante de la operación de apertura."
   ]
  },
  {
   "cell_type": "code",
   "execution_count": null,
   "id": "0e2b91cc",
   "metadata": {},
   "outputs": [],
   "source": [
    "# Realiza la tarea"
   ]
  },
  {
   "cell_type": "markdown",
   "id": "a7f477ba",
   "metadata": {},
   "source": [
    "<hr style=\"border: 1px solid green\" />"
   ]
  },
  {
   "attachments": {},
   "cell_type": "markdown",
   "id": "f39e874e",
   "metadata": {},
   "source": [
    "13. Carga la imagen de prueba correspondiente al famoso [***Shepp-Logan Phantom***](https://en.wikipedia.org/wiki/Shepp%E2%80%93Logan_phantom), [`data.shepp_logan_phantom()`](https://scikit-image.org/docs/stable/api/skimage.data.html#skimage.data.shepp_logan_phantom), un modelo simplificado de un cerebro humano, usado para calibrar y probar algoritmos de visión artificial.\n",
    "\n",
    "    Puedes utilizar las siguientes regiones o elementos estructurantes para realizar las operaciones morfológicas:\n",
    "    + [Disco](https://scikit-image.org/docs/stable/api/skimage.morphology.html#skimage.morphology.disk) (5 píxeles de radio), \n",
    "    + [diamante](https://scikit-image.org/docs/stable/api/skimage.morphology.html#skimage.morphology.diamond), \n",
    "    + [rectángulo](https://scikit-image.org/docs/stable/api/skimage.morphology.html#skimage.morphology.rectangle), \n",
    "    + [cubo](https://scikit-image.org/docs/stable/api/skimage.morphology.html#skimage.morphology.cube), \n",
    "    + [octaedro](https://scikit-image.org/docs/stable/api/skimage.morphology.html#skimage.morphology.octahedron), \n",
    "    + [cuadrado](https://scikit-image.org/docs/stable/api/skimage.morphology.html#skimage.morphology.square), ...\n",
    "\n",
    "    Aplica las siguientes operaciones morfológicas:\n",
    "    1. [Dilatación](https://scikit-image.org/docs/stable/api/skimage.morphology.html#skimage.morphology.dilation)\n",
    "    2. [Erosión](https://scikit-image.org/docs/stable/api/skimage.morphology.html#skimage.morphology.erosion)\n",
    "    3. [Apertura](https://scikit-image.org/docs/stable/api/skimage.morphology.html#skimage.morphology.opening)\n",
    "    4. [Cierre](https://scikit-image.org/docs/stable/api/skimage.morphology.html#skimage.morphology.closing). Incluye una pequeña grieta en el borde blanco para ilustrar mejor el cierre morfologico. Por ejemplo, en los píxeles $[10:30,] 200:210]$.\n",
    "    5. [*White tophat*](https://scikit-image.org/docs/stable/api/skimage.morphology.html#skimage.morphology.white_tophat). Incluye puntos brillantes y oscuros (por ejemplo, píxeles $[340:350, 200:210]$ y píxeles $[100:110, 200:210]$) en la imagen.\n",
    "    6. [*Black tophat*](https://scikit-image.org/docs/stable/api/skimage.morphology.html#skimage.morphology.black_tophat)"
   ]
  },
  {
   "cell_type": "code",
   "execution_count": null,
   "id": "77c31b2d",
   "metadata": {},
   "outputs": [],
   "source": [
    "# Realiza la tarea"
   ]
  },
  {
   "cell_type": "markdown",
   "id": "3c30c778",
   "metadata": {},
   "source": [
    "<hr style=\"border: 1px solid green\" />"
   ]
  },
  {
   "cell_type": "markdown",
   "id": "04418508",
   "metadata": {},
   "source": [
    "14. **Envolvente convexa (*Convex hull*)** \n",
    "\n",
    "    Calcula el esqueleto y la envolvente convexa de la imagen de prueba ([**`data.horse()`**](https://scikit-image.org/docs/stable/api/skimage.data.html#skimage.data.horse)). \n",
    "    \n",
    "    Además incluye un pixel en la imagen y calcula de nuevo el esqueleto, la nueva envolvente convexa y la diferencia con la envolvente convexa inicial."
   ]
  },
  {
   "cell_type": "code",
   "execution_count": null,
   "id": "bf545d5e",
   "metadata": {},
   "outputs": [],
   "source": [
    "# Realiza la tarea"
   ]
  },
  {
   "cell_type": "markdown",
   "id": "e118dac4",
   "metadata": {},
   "source": [
    "<hr style=\"border: 1px solid green\" />"
   ]
  },
  {
   "cell_type": "markdown",
   "id": "1624fa6d",
   "metadata": {},
   "source": [
    "15. **Extracción de contornos con operaciones morfológicas**\n",
    "\n",
    "    Extrae los contornos de una imagen seleccionada aleatoriamente (carpeta `images_formatos`) mediante operaciones morfológicas."
   ]
  },
  {
   "cell_type": "code",
   "execution_count": null,
   "id": "e1dee006",
   "metadata": {},
   "outputs": [],
   "source": [
    "# Realiza la tarea"
   ]
  },
  {
   "cell_type": "markdown",
   "id": "3a86eb2d",
   "metadata": {},
   "source": [
    "<hr style=\"border: 1px solid green\" />"
   ]
  },
  {
   "cell_type": "markdown",
   "id": "ea1b81c9",
   "metadata": {},
   "source": [
    "16. **Extracción de los bordes de un objeto**\n",
    "\n",
    "Dado un elemento $A$ creado como sigue, calcula su complementario. Erosiona el conjunto mediante un elemento estructurante B (por ejemplo, un cuadrado de $3 \\times 3$, `square(3)`) y extrae el contorno del elemento $A$."
   ]
  },
  {
   "cell_type": "code",
   "execution_count": null,
   "id": "ed2eda02",
   "metadata": {},
   "outputs": [],
   "source": [
    "# Realiza la tarea"
   ]
  },
  {
   "cell_type": "code",
   "execution_count": null,
   "id": "0e337cdf",
   "metadata": {},
   "outputs": [],
   "source": [
    "# Creacion del elemento A\n",
    "A = np.zeros((5,10))\n",
    "A[0,3] = 1\n",
    "A[1,3] = 1 \n",
    "A[0,9] = 1\n",
    "A[1,9] = 1\n",
    "\n",
    "# Complementario de A\n",
    "cA = 1-A\n",
    "Ap = np.zeros((7,12))\n",
    "Ap[1:6,1:11] = cA\n",
    "\n",
    "# Erosionamos el conjunto A mediante el elemento estructurante B\n",
    "Ae = erosion(Ap, square(3))\n",
    "\n",
    "# Extraemos el contorno de A\n",
    "cAe = 1-Ae[1:6,1:11]\n",
    "A_contorno = A - cAe\n",
    "\n",
    "# Visualizamos el elemento A, la erosion y el contorno del elemento\n",
    "plotN_im(l_im=[Ap, Ae, A_contorno], ncols=3, l_tit=['A', 'Erosion', 'Contorno'])"
   ]
  },
  {
   "cell_type": "markdown",
   "id": "07b2706d",
   "metadata": {},
   "source": [
    "<hr style=\"border: 1px solid green\" />"
   ]
  },
  {
   "cell_type": "markdown",
   "id": "ea2e7e3b",
   "metadata": {},
   "source": [
    "17. **Filtrado con operaciones morfológicas**\n",
    "    \n",
    "    Realiza un filtrado de la imagen `images_bn/fingerprint.jpg` mediante la iteración de estas operaciones morfólogicas:\n",
    "    1. [Erosión](https://scikit-image.org/docs/stable/api/skimage.morphology.html#skimage.morphology.erosion)\n",
    "    2. [Dilatación](https://scikit-image.org/docs/stable/api/skimage.morphology.html#skimage.morphology.dilation)\n",
    "    3. [Erosión](https://scikit-image.org/docs/stable/api/skimage.morphology.html#skimage.morphology.erosion)\n",
    "    4. [Apertura](https://scikit-image.org/docs/stable/api/skimage.morphology.html#skimage.morphology.opening) = Erosión + Dilatación\n",
    "    5. Apertura + Dilatación\n",
    "    6. Apertura + Dilatación + Erosión\n",
    "    7. Apertura + [Cierre](https://scikit-image.org/docs/stable/api/skimage.morphology.html#skimage.morphology.closing) = (((A e B) d B) d B) e B)"
   ]
  },
  {
   "cell_type": "code",
   "execution_count": null,
   "id": "108abb88",
   "metadata": {},
   "outputs": [],
   "source": [
    "# Realiza la tarea"
   ]
  }
 ],
 "metadata": {
  "kernelspec": {
   "display_name": "Python 3",
   "language": "python",
   "name": "python3"
  },
  "language_info": {
   "codemirror_mode": {
    "name": "ipython",
    "version": 3
   },
   "file_extension": ".py",
   "mimetype": "text/x-python",
   "name": "python",
   "nbconvert_exporter": "python",
   "pygments_lexer": "ipython3",
   "version": "3.12.8"
  }
 },
 "nbformat": 4,
 "nbformat_minor": 5
}
