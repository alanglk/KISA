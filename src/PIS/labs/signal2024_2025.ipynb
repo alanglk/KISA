{
 "cells": [
  {
   "cell_type": "markdown",
   "id": "seasonal-maryland",
   "metadata": {},
   "source": [
    "# **Tareas: Procesamiento de señal y de la imagen**\n",
    "## Procesamiento de Imagen y Señal\n",
    "### **Alan García Justel**\n",
    "### Curso 2024-2025"
   ]
  },
  {
   "cell_type": "code",
   "execution_count": null,
   "id": "ae0eee62",
   "metadata": {},
   "outputs": [],
   "source": [
    "import math\n",
    "import cmath\n",
    "\n",
    "import os\n",
    "import sys\n",
    "\n",
    "##\n",
    "\n",
    "import warnings\n",
    "warnings.filterwarnings('ignore')\n",
    "\n",
    "##\n",
    "\n",
    "import pandas as pd\n",
    "\n",
    "import numpy as np\n",
    "\n",
    "import matplotlib.pyplot as plt\n",
    "from matplotlib.colors import LogNorm\n",
    "import matplotlib.image as im\n",
    "\n",
    "import plotly\n",
    "import plotly.express as px\n",
    "\n",
    "from itertools import cycle\n",
    "\n",
    "from scipy import signal, fftpack, ndimage\n",
    "\n",
    "from scipy.signal import chirp, spectrogram\n",
    "\n",
    "import scipy.signal as sp_s\n",
    "import scipy.io as sp_io\n",
    "\n",
    "##\n",
    "\n",
    "from skimage import io, exposure, filters, transform\n",
    "\n",
    "from skimage.morphology import disk\n",
    "\n",
    "from PIL import Image, ImageEnhance, ImageFilter, ImageOps\n",
    "\n",
    "##\n",
    "\n",
    "import requests\n",
    "import urllib.request\n",
    "\n",
    "### Audio\n",
    "import IPython.display as ipd\n",
    "import librosa\n",
    "import librosa.display\n",
    "\n",
    "import soundfile as sf"
   ]
  },
  {
   "cell_type": "code",
   "execution_count": null,
   "id": "0e7acf47",
   "metadata": {},
   "outputs": [],
   "source": [
    "# Funciones auxiliares\n",
    "path = \"code/\"\n",
    "\n",
    "# Add the directory containing your module to the Python path (wants absolute paths)\n",
    "sys.path.append(os.path.abspath(path))\n",
    "\n",
    "from f_get_random import *\n",
    "from f_audio_player_list import *\n",
    "\n",
    "# Aqui puedes incluir los ficheros que desees:\n",
    "# from f_plot import *\n",
    "# from f_color import *"
   ]
  },
  {
   "cell_type": "markdown",
   "id": "65825e96",
   "metadata": {},
   "source": [
    "---"
   ]
  },
  {
   "cell_type": "markdown",
   "id": "43bd70c4",
   "metadata": {},
   "source": [
    "1. Genera las siguientes señales:\n",
    "   1. Una señal *chirp* de $\\Delta$ segundos y frecuencia de muestreo de $fs$ Hz mediante:\n",
    "      + la función seno.\n",
    "      + la función [**`chirp()`**](https://docs.scipy.org/doc/scipy/reference/generated/scipy.signal.chirp.html#chirp).\n",
    "      \n",
    "      La frecuencia inicial es $100$ Hz y la frecuencia final es la frecuencia Nyquist. \n",
    "   2. Un vibrato de la nota ($f$ Hz) de $\\Delta$ segundos.\n",
    "   3. Una nota ($f$ Hz) y sus $10$ armónicos con una frecuencia de muestreo de $fs$ Hz y $\\Delta$ segundos.\n",
    "   \n",
    "   * Selecciona la frecuencia de muestreo que desees $fs$ Hz: $8000$ Hz, $16000$ Hz, $22050$ Hz ó $44100$ Hz.\n",
    "   * Selecciona la frecuencia de la nota que desees.\n",
    "   * Selecciona la duración que desees $\\Delta$ s: $2$, $3$, $4$, $5$ segundos.\n",
    "\n",
    "   En todos los casos:\n",
    "   * Oye la señal.\n",
    "   * Visualiza la señal, su espectro y su espectrograma."
   ]
  },
  {
   "cell_type": "markdown",
   "id": "ece43103",
   "metadata": {},
   "source": [
    "<hr style=\"border: 1px solid pink\" />"
   ]
  },
  {
   "cell_type": "code",
   "execution_count": null,
   "id": "c68d4a56",
   "metadata": {},
   "outputs": [],
   "source": [
    "# Realiza la tarea\n",
    "\n",
    "# CHIRP\n",
    "\n",
    "# VIBRATO\n",
    "\n",
    "# ARMONICOS"
   ]
  },
  {
   "cell_type": "markdown",
   "id": "0af0f368",
   "metadata": {},
   "source": [
    "----"
   ]
  },
  {
   "cell_type": "markdown",
   "id": "ee3e010b",
   "metadata": {},
   "source": [
    "2. **Operaciones algebraicas con imágenes**: ***Índice de vegetación NDVI***\n",
    "\n",
    "   Dadas las siguientes imágenes obtenidas del satélite Landsat 7 de la zona de los [**montes Albanos**](https://www.esa.int/ESA_Multimedia/Images/2010/03/Band_1_Landsat_7_image_of_Alban_Hills) de la región italiana del Lacio ([**link**](https://goo.gl/maps/vamH5bW6jFc9VNEZ6)) obtenidas del catálogo [**Eduspace**](https://www.esa.int/SPECIALS/Eduspace_EN/SEMLK0F1EHH_0.html):\n",
    "      1. Banda azul (B, *blue*): `data_RS/LS7_190_31_09062001_B01.tif`\n",
    "      2. Banda verde (G, *green*): `data_RS/LS7_190_31_09062001_B02.tif`\n",
    "      3. Banda roja (R, *red*): `data_RS/LS7_190_31_09062001_B03.tif`\n",
    "      4. Banda infrarrojo cercano (NIR, *infrared*): `data_RS/LS7_190_31_09062001_B04.tif`\n",
    "\n",
    "   * Muestra información de cada canal de la imagen: valor mínimo, máximo, mediana y valor medio.\n",
    "   * Calcula el histograma para cada banda de la imagen multiespectral.\n",
    "   * Combina las bandas para obtener una imagen RGB (*natural colour combination*): R(Banda roja), G(Banda verde), B(Banda azul)\n",
    "   * Combina las bandas para obtener una imagen en falso color (*false colour combination*): R(Banda infrarrojo), G(Banda roja), B(Banda azul)\n",
    "   * Calcula el índice de vegetación de diferencia normalizada NDVI (*Normalized Difference Vegetation Index*) [**link1**](https://es.wikipedia.org/wiki/%C3%8Dndice_de_vegetaci%C3%B3n_de_diferencia_normalizada), [**link2**](https://earthobservatory.nasa.gov/features/MeasuringVegetation/measuring_vegetation_2.php)\n",
    "\n",
    "      $$NDVI = \\frac{NIR-R}{NIR+R}$$\n",
    "\n",
    "   **Ojo**: La operación de división puede provocar valores infinitos. Trata de solventar este problema."
   ]
  },
  {
   "cell_type": "code",
   "execution_count": null,
   "id": "87a1123c",
   "metadata": {},
   "outputs": [],
   "source": [
    "# Channel information\n",
    "def info_channel(im, im_name=\"imagen\"):\n",
    "    # Informacion de la imagen \"im\" cuyo nombre es \"im_name\" (parametro opcional)\n",
    "    # Valores maximo, promedio, mediana y minimo de una imagen\n",
    "    # Ejemplo: \n",
    "    # Dado R, canal rojo de una imagen RGB\n",
    "    #   info_channel(R, 'R') nos da informacion de la imagen R de nombre \"R\"\n",
    "    print('\\nMax '+ im_name +': {m}'.format(m=im.max()))\n",
    "    print('Mean '+ im_name + ': {m}'.format(m=im.mean()))\n",
    "    print('Median '+ im_name + ': {m}'.format(m=np.median(im)))\n",
    "    print('Min '+ im_name + ': {m}'.format(m=im.min()))"
   ]
  },
  {
   "cell_type": "markdown",
   "id": "637c770c",
   "metadata": {},
   "source": [
    "<hr style=\"border: 1px solid pink\" />"
   ]
  },
  {
   "cell_type": "code",
   "execution_count": null,
   "id": "d850df61",
   "metadata": {},
   "outputs": [],
   "source": [
    "# Realiza la tarea"
   ]
  },
  {
   "cell_type": "markdown",
   "id": "3763490a",
   "metadata": {},
   "source": [
    "----"
   ]
  },
  {
   "cell_type": "markdown",
   "id": "e17d2602",
   "metadata": {},
   "source": [
    "3. **Cuantización del color**: Reduce el color de la imagen que se encuentra en la dirección:\n",
    "      + [**Imagen 1**](https://imgs.mongabay.com/wp-content/uploads/sites/20/2016/10/01181527/Forest-fragmentation-in-the-Brazilian-Amazon.-Photo-courtesy-of-NASA.jpg) \n",
    "      + [**Imagen 2**](https://eoimages.gsfc.nasa.gov/images/imagerecords/6000/6811/Brazil_TMO_2006179_lrg.jpg)\n",
    "      + [**Imagen 3**](https://live.staticflickr.com/861/28779502307_dba5f6070f_c_d.jpg)\n",
    "      + [**Imagen 4**](https://eoimages.gsfc.nasa.gov/images/imagerecords/150000/150656/southpacific_vir_2022325_lrg.jpg)"
   ]
  },
  {
   "cell_type": "code",
   "execution_count": null,
   "id": "18001a38",
   "metadata": {},
   "outputs": [],
   "source": [
    "# Selecciona aleatoriamente la imagen.\n",
    "# Lee la imagen: io.imread()\n",
    "# Redimensiona la imagen a un tamano de 450x450: transform.resize()\n",
    "# Imprime la informacion de la imagen y de sus canales ['R', 'G', 'B']: \n",
    "#       nombre de la imagen, dimensiones, valor minimo y maximo para cada canal de la imagen\n",
    "# Cuantifica los colores (4 colores)\n",
    "# Cuantifica los colores (8 colores)\n",
    "# Visualiza la imagen original y las imagenes con menos colores (4 y 8 colores)\n",
    "# Dibuja en un diagrama de barras (bar) o en una grafica de pastel (pie) el numero de pixeles que corresponden a los 4 u 8 colores utilizados\n",
    "\n",
    "\n",
    "\n",
    "### Notas sobre la cuantificacion de color\n",
    "\n",
    "# Para la cuantificación de los colores puedes utilizar la la funcióon quantify_colors() \n",
    "# que se encuentra en el fichero `code/f_color.py`\n",
    "\n",
    "# from f_color import quantify_colors\n",
    "\n",
    "\n",
    "\n",
    "### Notas sobre las imagenes\n",
    "\n",
    "# https://imgs.mongabay.com/wp-content/uploads/sites/20/2016/10/01181527/Forest-fragmentation-in-the-Brazilian-Amazon.-Photo-courtesy-of-NASA.jpg\n",
    "# Amazonas\n",
    "\n",
    "# https://eoimages.gsfc.nasa.gov/images/imagerecords/6000/6811/Brazil_TMO_2006179_lrg.jpg\n",
    "# Amazonas\n",
    "\n",
    "# https://live.staticflickr.com/861/28779502307_dba5f6070f_c_d.jpg\n",
    "# https://www.flickr.com/photos/europeanspaceagency/28779502307/\n",
    "# Sharm El Sheikh\n",
    "\n",
    "# https://eoimages.gsfc.nasa.gov/images/imagerecords/150000/150656/southpacific_vir_2022325_lrg.jpg\n",
    "# Pacifico Sur\n",
    "# Informacion de una imagen"
   ]
  },
  {
   "cell_type": "code",
   "execution_count": null,
   "id": "90f44e6f",
   "metadata": {},
   "outputs": [],
   "source": [
    "# Informacion de una imagen\n",
    "def print_sumario(im, im_name, ch_names):\n",
    "    # Informacion de la imagen \"im\" cuyo nombre es \"im_name\" y \n",
    "    # ch_names=['R', 'G', 'B'] son los nombres de las bandas\n",
    "    # Ejemplo: \n",
    "    #   print_sumario(im, str(seleccionada), ['R', 'G', 'B'])\n",
    "    print('--------------')\n",
    "    print('Detalles de la imagen: '+im_name)\n",
    "    print('--------------')\n",
    "    print(f'Dimensiones de la imagen: {im.shape}')\n",
    "    print('Canales:')\n",
    "    \n",
    "    if len(ch_names) == 1:\n",
    "        im = im[..., np.newaxis]\n",
    "        \n",
    "    for i, lab in enumerate(ch_names):\n",
    "        min_val = np.min(im[:,:,i])\n",
    "        max_val = np.max(im[:,:,i])\n",
    "        print(f'{lab} : min={min_val:.4f}, max={max_val:.4f}')"
   ]
  },
  {
   "cell_type": "markdown",
   "id": "a2383dfe",
   "metadata": {},
   "source": [
    "<hr style=\"border: 1px solid pink\" />"
   ]
  },
  {
   "cell_type": "code",
   "execution_count": null,
   "id": "e976f766",
   "metadata": {},
   "outputs": [],
   "source": [
    "# Realiza la tarea"
   ]
  },
  {
   "cell_type": "code",
   "execution_count": null,
   "id": "4e3ce15a",
   "metadata": {},
   "outputs": [],
   "source": [
    "imagenes = [\"https://imgs.mongabay.com/wp-content/uploads/sites/20/2016/10/01181527/Forest-fragmentation-in-the-Brazilian-Amazon.-Photo-courtesy-of-NASA.jpg\",\n",
    "                  \"https://eoimages.gsfc.nasa.gov/images/imagerecords/6000/6811/Brazil_TMO_2006179_lrg.jpg\",\n",
    "                  \"https://live.staticflickr.com/861/28779502307_dba5f6070f_c_d.jpg\",\n",
    "                  \"https://eoimages.gsfc.nasa.gov/images/imagerecords/150000/150656/southpacific_vir_2022325_lrg.jpg\"]\n",
    "\n",
    "def im_open_remote(url):\n",
    "    result = requests.get(url)\n",
    "    with open(\"temporal.jpg\", 'wb') as f:\n",
    "        f.write(result.content)\n",
    "    im = io.imread(\"temporal.jpg\")\n",
    "    return im\n",
    "\n",
    "# Selecciona aleatoriamente una de las cuatro imagenes\n",
    "seleccionada = get_random_number([0, 3])\n",
    "print(seleccionada)\n",
    "url = imagenes[seleccionada]\n",
    "im = im_open_remote(url)\n",
    "\n",
    "##"
   ]
  },
  {
   "cell_type": "markdown",
   "id": "28d1799a",
   "metadata": {},
   "source": [
    "----"
   ]
  },
  {
   "cell_type": "markdown",
   "id": "ea2b86d7",
   "metadata": {},
   "source": [
    "4. Utiliza los siguientes filtros para realizar un filtrado de la señal `data_ECG/ecg.wav`:\n",
    "    1.  Un filtro paso bajo de $50$ Hz\n",
    "    2.  Un filtro paso alto de $20$ Hz\n",
    "    3.  Un filtro paso banda de $10-50$ Hz\n",
    "    \n",
    "    Visualiza también los espectros de la señal original y de las filtradas."
   ]
  },
  {
   "cell_type": "markdown",
   "id": "d2c0eda0",
   "metadata": {},
   "source": [
    "<hr style=\"border: 1px solid pink\" />"
   ]
  },
  {
   "cell_type": "code",
   "execution_count": null,
   "id": "9c98e7b4",
   "metadata": {},
   "outputs": [],
   "source": [
    "# Realiza la tarea"
   ]
  },
  {
   "cell_type": "code",
   "execution_count": null,
   "id": "a6e34d01",
   "metadata": {},
   "outputs": [],
   "source": [
    "# scipy.io == sp_io\n",
    "\n",
    "fs, x = sp_io.wavfile.read('data_ECG/ecg.wav')\n",
    "x = x.astype(float)"
   ]
  },
  {
   "cell_type": "markdown",
   "id": "91af8280",
   "metadata": {},
   "source": [
    "----"
   ]
  },
  {
   "cell_type": "markdown",
   "id": "556c6296",
   "metadata": {},
   "source": [
    "5. **Procesamiento de imágenes**\n",
    "  \n",
    "    Realiza las siguientes tareas.\n",
    "    + Selecciona la imagen de forma aleatoria (directorio: `images_RGB` o `images_RGB_channels`) mediante la función: `get_random_image_path()`.\n",
    "    + Pasa la imagen a escala de grises.\n",
    "    + Modifica:\n",
    "      + Saturación de la imagen (con un factor entre 2-3)\n",
    "      + Brillo de la imagen (un $40\\%$ más de brillo y un $20\\%$ menos de brillo)\n",
    "      + Contraste de la imagen (aumenta y disminuye el contraste de la imagen)\n",
    "    + Obtén el negativo de la imagen y rótala $180^\\circ$.\n",
    "    + Extender o reducir el histograma para ver aumentar el contraste de la imagen (entre el percentil $2$ y el percentil $98$).\n",
    "    + Ecualiza el histograma y visualiza la imagen original y la imagen después de ecualizar el histograma.\n",
    "    + Introduce un poco de ruido en la imagen y, después, para eliminar este ruido utiliza:\n",
    "      + Un filtro de suavizado\n",
    "      + Un filtro de realce\n",
    "      + Un filtro gaussiano en el dominio frecuencial\n",
    "      + ...\n",
    "    + Aplica alguna operación morfológica en la imagen o una concatenación de ellas.\n",
    "\n",
    "    Si lo deseas puedes utilizar la misma imagen para todas las operaciones o cambiarla para alguna de las operaciones en concreto. Si cambias la imagen, explica porqué lo has hecho.\n",
    "\n",
    "    También puedes realizar todas las tareas de procesamiento de una imagen que te proponemos o realizar variaciones que puedas explicar detalladamente."
   ]
  },
  {
   "cell_type": "markdown",
   "id": "65dc6ade",
   "metadata": {},
   "source": [
    "<hr style=\"border: 1px solid pink\" />"
   ]
  },
  {
   "cell_type": "code",
   "execution_count": null,
   "id": "553d2b5d",
   "metadata": {},
   "outputs": [],
   "source": [
    "seleccionada = get_random_image_path('images_RGB_channels')\n",
    "print(seleccionada)"
   ]
  },
  {
   "cell_type": "code",
   "execution_count": null,
   "id": "0e8a6f0f",
   "metadata": {},
   "outputs": [],
   "source": [
    "# Realiza la tarea\n",
    "\n",
    "# GRAYSCALE\n",
    "\n",
    "# SATURACION\n",
    "\n",
    "# BRILLO\n",
    "\n",
    "# CONTRASTE\n",
    "\n",
    "# NEGATIVO\n",
    "\n",
    "# ROTACION\n",
    "\n",
    "# EXTENSION DEL HISTOGRAMA\n",
    "\n",
    "# ECUALIZACION DEL HISTOGRAMA\n",
    "\n",
    "# IMAGEN CON RUIDO\n",
    "\n",
    "# ELIMINACION DE RUIDO\n",
    "\n",
    "# OPERACION MORFOLOGICA"
   ]
  },
  {
   "cell_type": "markdown",
   "id": "c50e7f30",
   "metadata": {},
   "source": [
    "----"
   ]
  },
  {
   "cell_type": "markdown",
   "id": "774b7f61",
   "metadata": {},
   "source": [
    "6. En este ejercicio puedes realizar una de las siguientes tareas (a tu elección):\n",
    "   1. *Pitch tracking*\n",
    "   2. Análisis del tempo\n",
    "   3. Detección de picos\n",
    "   4. Detección de *onsets*\n",
    "\n",
    "    Selecciona aleatoriamente una canción del directorio `audio_tempo` y toma solamente los primeros segundos de la canción (por ejemplo, los 6 primeros segundos)."
   ]
  },
  {
   "cell_type": "markdown",
   "id": "33933cde",
   "metadata": {},
   "source": [
    "<hr style=\"border: 1px solid pink\" />"
   ]
  },
  {
   "cell_type": "code",
   "execution_count": null,
   "id": "e79af4e2",
   "metadata": {},
   "outputs": [],
   "source": [
    "# Realiza la tarea\n",
    "\n",
    "seleccionada = get_random_audio_path('audio_tempo/')\n",
    "print(seleccionada)\n",
    "\n",
    "x, fs = librosa.load(seleccionada)\n",
    "tf = librosa.time_to_samples(6.0, sr=fs) # int(6.0*fs)\n",
    "x6 = x[0:tf]\n",
    "ipd.Audio(x6, rate=fs)"
   ]
  },
  {
   "cell_type": "markdown",
   "id": "8dfd63a6",
   "metadata": {},
   "source": [
    "----"
   ]
  },
  {
   "cell_type": "markdown",
   "id": "f5ad90dd",
   "metadata": {},
   "source": [
    "7. **Características de una señal de voz**\n",
    "\n",
    "    1. Selecciona aleatoriamente una señal del directorio `audio_voz`:\n",
    "        <center>\n",
    "\n",
    "        Señales disponibles `sp01.wav`, `sp02.wav`, ..., `sp08.wav`\n",
    "\n",
    "        <center/>\n",
    "        \n",
    "    2. Calcula las características de una señal tales como promedio, desviación estándar, mediana, moda, ..., la energía de tiempo corto (*short-time energy*), la magnitud de tiempo corto (*short-time magnitude*) y la tasa de cruces por el cero de tiempo corto (*short-time zero-crossing rate*, ZCR).\n",
    "    3. Utiliza dos tipos de espectrogramas (*wideband* y *narrowband*) y analiza los resultados según el tipo de espectrograma.\n",
    "    4. Visualiza el espectrograma de escala Mel. \n",
    "    5. Obtén los coeﬁcientes cepstrales en las frecuencias de Mel (*Mel Frequency Cepstral Coeﬃcients*, MFCC).\n",
    "\n",
    "    "
   ]
  },
  {
   "cell_type": "markdown",
   "id": "b9ad3844",
   "metadata": {},
   "source": [
    "<hr style=\"border: 1px solid pink\" />"
   ]
  },
  {
   "cell_type": "code",
   "execution_count": null,
   "id": "c9e9d1ab",
   "metadata": {},
   "outputs": [],
   "source": [
    "# Selecciona aleatoriamente uno de los ocho audios\n",
    "seleccionada = get_random_number([1, 8])\n",
    "print(seleccionada)"
   ]
  },
  {
   "cell_type": "code",
   "execution_count": null,
   "id": "9d7de989",
   "metadata": {},
   "outputs": [],
   "source": [
    "# Realiza la tarea\n",
    "\n",
    "# Obtén el promedio, desviación estándar, mediana y moda\n",
    "# short-time energy\n",
    "# short-time magnitude\n",
    "# ZCR\n",
    "# Espectrograma wideband\n",
    "# Espectrograma narrowband\n",
    "# Espectrograma de escala mel\n",
    "# MFCCs de la señal"
   ]
  },
  {
   "cell_type": "markdown",
   "id": "f06d2877",
   "metadata": {},
   "source": [
    "<hr style=\"border: 1px solid pink\" />"
   ]
  }
 ],
 "metadata": {
  "kernelspec": {
   "display_name": "Python 3",
   "language": "python",
   "name": "python3"
  },
  "language_info": {
   "codemirror_mode": {
    "name": "ipython",
    "version": 3
   },
   "file_extension": ".py",
   "mimetype": "text/x-python",
   "name": "python",
   "nbconvert_exporter": "python",
   "pygments_lexer": "ipython3",
   "version": "3.10.12"
  }
 },
 "nbformat": 4,
 "nbformat_minor": 5
}
