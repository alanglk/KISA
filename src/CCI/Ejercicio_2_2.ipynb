{
 "cells": [
  {
   "cell_type": "markdown",
   "metadata": {},
   "source": [
    "# Aplicación del método RK4 al problema de Lorenz"
   ]
  },
  {
   "cell_type": "markdown",
   "metadata": {},
   "source": [
    "<ul id=\"top\">\n",
    "<li><a href=\"#1-Implementación-del-método-de-Runge-Kutta-de-orden-4-(RK4)\">1-Implementación del método de Runge-Kutta de orden 4 (RK4)</a></li>\n",
    "<li><a href=\"#2-Comprobación-de-RK4-en-el-ejemplo-del-robot-móvil\">2-Comprobación de RK4 en el ejemplo del robot móvil</a></li>\n",
    "<li><a href=\"#3-Método-RK4-(estimación-del-error)\">3-Método RK4 (estimación del error)</a></li>  \n",
    "</ul>  "
   ]
  },
  {
   "cell_type": "markdown",
   "metadata": {},
   "source": [
    "## 1 - Definiciones"
   ]
  },
  {
   "cell_type": "code",
   "execution_count": 1,
   "metadata": {},
   "outputs": [
    {
     "data": {
      "text/plain": [
       "RK4 (generic function with 2 methods)"
      ]
     },
     "execution_count": 1,
     "metadata": {},
     "output_type": "execute_result"
    }
   ],
   "source": [
    "using LinearAlgebra\n",
    "using Plots\n",
    "include(\"implementacion_RK4.jl\")"
   ]
  },
  {
   "cell_type": "markdown",
   "metadata": {},
   "source": [
    "## 2-El sistema de Lorenz "
   ]
  },
  {
   "cell_type": "markdown",
   "metadata": {},
   "source": [
    "Consideremos el sistema de Lorenz:\n",
    "\n",
    "<a id='Edo-Lorenz'></a>\n",
    "\\begin{equation*}\n",
    " \\begin{split}\n",
    "         \\frac{d x}{dt} &= \\sigma\\, (y - x), \\\\ \n",
    "      \\frac{d y}{dt} &= x\\, (\\rho - z) - y, \\\\ \n",
    "      \\frac{d z}{dt} &= x\\, y - \\beta\\, z, \n",
    "    \\end{split}  \\hspace{12em} \\tag{3}\n",
    "\\end{equation*}\n",
    "\n",
    "donde $(x,y,z)$ son las variables de estado del sistema, y $(\\sigma, \\rho, \\beta)$ los parámetros constantes del problema."
   ]
  },
  {
   "cell_type": "markdown",
   "metadata": {},
   "source": [
    "A lo largo de este ejercicio consideraremos los siguientes valores de los parámetros,\n",
    "\n",
    "<a id='param-lorenz'></a>\n",
    "\\begin{equation*}\n",
    "\\sigma=10, \\quad \\rho=28, \\quad \\beta = \\frac83\n",
    "\\tag{4}\n",
    "\\end{equation*}\n",
    "\n",
    "y el estado inicial  \n",
    "\n",
    "<a id='Ini-lorenz'></a>\n",
    "\\begin{equation*}\n",
    "x(0) = 1, \\quad y(0)=0, \\quad z(0)=0. \\tag{5}\n",
    "\\end{equation*}\n",
    "\n",
    "Para estas condiciones iniciales y los valores de los par\\'ametros constantes (4), el sistema de Lorenz es caótico. \n",
    "\n",
    "El problema [(3)](#Edo-lorenz)-[(5)](#Ini-lorenz) tiene  una única solución $u(t)=(x(t),y(t),z(t))$. Es decir, el estado inicial determina únicamente la evolución de las variables de estado.\n",
    "\n",
    "Nuestro objetivo es estudiar la solución $u(t)=(x(t),y(t),z(t))$ en el intervalo temporal $t \\in [0,100]$, y los errores cometidos al resolverlo numéricamente con el método RK4."
   ]
  },
  {
   "cell_type": "markdown",
   "metadata": {},
   "source": [
    "### 2.1 - Resolver numéricamente con el método de RK4 con longitud de paso $h=1/1000$ el problema de valor inicial (3)--(5) para obtener los valores de $u(t)=(x(t),y(t),z(t))$ para los tiempos $t = 0, 1/100, 2/100, \\ldots,100$.  Representar gráficamente la evolución de $x(t),y(t),z(t)$."
   ]
  },
  {
   "cell_type": "code",
   "execution_count": null,
   "metadata": {},
   "outputs": [],
   "source": [
    "..."
   ]
  },
  {
   "cell_type": "code",
   "execution_count": null,
   "metadata": {
    "scrolled": true
   },
   "outputs": [],
   "source": [
    "...\n",
    "\n",
    "tt = ?\n",
    "xx = ?\n",
    "yy = ?\n",
    "zz = ?\n",
    "\n",
    "pl1 = plot(tt,[xx, yy, zz], xlabel=\"t\",label=[\"x\" \"y\" \"z\"], legend=:topleft)\n",
    "\n",
    "pl2 = plot(xx,yy, xlabel=\"x\", ylabel=\"y\", legend=false)\n",
    "\n",
    "pl3 = plot(xx,zz, xlabel=\"x\", ylabel=\"z\", legend=false)\n",
    "\n",
    "pl4 = plot(yy, zz,  xlabel=\"y\", ylabel=\"z\", legend=false)\n",
    "\n",
    "plot(pl1, pl2, pl3, pl4, layout=(2,2))"
   ]
  },
  {
   "cell_type": "markdown",
   "metadata": {},
   "source": [
    "### 2.2- Calcular los errores estimados en base a la aplicación del método con longitud de paso doble. Representar gráficamente la evolución del logaritmo decimal de la norma de los errores estimados"
   ]
  },
  {
   "cell_type": "code",
   "execution_count": null,
   "metadata": {},
   "outputs": [],
   "source": [
    "..."
   ]
  },
  {
   "cell_type": "code",
   "execution_count": null,
   "metadata": {},
   "outputs": [],
   "source": [
    "plot(tt,errores, xlabel=\"t\", ylabel=\"log10(norm(err(t)))\", legend=false)"
   ]
  },
  {
   "cell_type": "markdown",
   "metadata": {},
   "source": [
    "### 2.3 - ¿Son los resultados obtenidos en el apartado 2.1 fiables?"
   ]
  },
  {
   "cell_type": "markdown",
   "metadata": {},
   "source": [
    "> ?"
   ]
  },
  {
   "cell_type": "markdown",
   "metadata": {},
   "source": [
    "## 3-Propagación de los errores de redondeo"
   ]
  },
  {
   "cell_type": "markdown",
   "metadata": {},
   "source": [
    "Para obtener una estimación de la propagación de los errores de redondeo, realizaremos una simulación adicional en una aritmética de coma flotante de mayor precisión."
   ]
  },
  {
   "cell_type": "markdown",
   "metadata": {},
   "source": [
    "### 3.1 - Obtener la gráfica (en escala logarítmica) de la evolución de los errores debidos al redondeo en los resultados obtenidos en el apartado 2.1. Para ello, rehacer los cálculos con la aritmética de coma flotante de BigFloats"
   ]
  },
  {
   "cell_type": "code",
   "execution_count": null,
   "metadata": {
    "scrolled": true
   },
   "outputs": [],
   "source": [
    "U0 = BigFloat.(u0)\n",
    "Tspan = BigFloat.(tspan)\n",
    "P = BigFloat.(p) \n",
    "Prob = ProblemaEDOs(fLorenz!,U0,Tspan,P)\n",
    "\n",
    "...\n",
    "\n",
    "\n",
    "plot(sol.t, log10.(errores), title=\"Propagación de los errores de redondeo\", \n",
    "                          xlabel=\"t\", ylabel=\"log10(errores)\", legend=false)"
   ]
  },
  {
   "cell_type": "markdown",
   "metadata": {},
   "source": [
    "### 3.2 - En vista de las gráficas obtenidas, qué tipo de error es más importante en el caso de la solución numérica de (3)--(5) obtenida en el apartado 2.1, ¿el error de redondeo o el error de discretización? "
   ]
  },
  {
   "cell_type": "markdown",
   "metadata": {},
   "source": [
    "> ?"
   ]
  },
  {
   "cell_type": "markdown",
   "metadata": {},
   "source": [
    "## 4 - El efecto de los errores en los datos iniciales (carácter caótico del sistema)"
   ]
  },
  {
   "cell_type": "markdown",
   "metadata": {},
   "source": [
    "### 4.1 Repetir los cálculos del apartado 2.1, pero esta vez con las condiciones iniciales ligéramente perturbadas siguientes:\n",
    "\n",
    "$$\n",
    "x(0)=1 + 10^{-8}, \\quad y(0) = 0, \\quad z(0)=0\n",
    "$$"
   ]
  },
  {
   "cell_type": "code",
   "execution_count": null,
   "metadata": {},
   "outputs": [],
   "source": [
    "..."
   ]
  },
  {
   "cell_type": "markdown",
   "metadata": {},
   "source": [
    "### 4.2 - Representar en una misma figura las dos gráficas de la evolución de $x(t)$ correspondientes a la solución del problema de valor inicial original y a la solución correspondiente a las condiciones iniciales perturbadas."
   ]
  },
  {
   "cell_type": "code",
   "execution_count": null,
   "metadata": {},
   "outputs": [],
   "source": [
    "..."
   ]
  },
  {
   "cell_type": "markdown",
   "metadata": {},
   "source": [
    "### 4.3 - ¿Que podemos decir del efecto de perturbar ligéramente las condiciones iniciales en este problema?"
   ]
  },
  {
   "cell_type": "markdown",
   "metadata": {},
   "source": [
    "> ?"
   ]
  }
 ],
 "metadata": {
  "@webio": {
   "lastCommId": null,
   "lastKernelId": null
  },
  "anaconda-cloud": {},
  "kernelspec": {
   "display_name": "Julia 1.11.2",
   "language": "julia",
   "name": "julia-1.11"
  },
  "language_info": {
   "file_extension": ".jl",
   "mimetype": "application/julia",
   "name": "julia",
   "version": "1.11.2"
  }
 },
 "nbformat": 4,
 "nbformat_minor": 4
}
